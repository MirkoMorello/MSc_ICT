{
  "cells": [
    {
      "cell_type": "markdown",
      "metadata": {
        "id": "k4_mtHuxsUri"
      },
      "source": [
        "# Training a voice activity detection pipeline from scratch with `pyannote.audio`\n",
        "\n",
        "Voice activity detection (VAD) is the task of detecting speech regions in a given audio stream or recording.  \n",
        "In this tutorial, you will learn how to train and evaluate a VAD pipeline from scratch."
      ]
    },
    {
      "cell_type": "markdown",
      "metadata": {
        "id": "levYi1856RGK"
      },
      "source": [
        "## Install dependencies\n",
        "\n",
        "This tutorial requires the following packages:\n",
        "*   pyannote.audio\n",
        "*   pyannote.database (I have made some fixes for running in Colab)\n",
        "\n"
      ]
    },
    {
      "cell_type": "code",
      "execution_count": 9,
      "metadata": {
        "id": "sx4KuAZ45myC"
      },
      "outputs": [],
      "source": [
        "!pip install git+https://github.com/CeLuigi/pyannote-audio.git &> /dev/null\n",
        "!pip install git+https://github.com/CeLuigi/pyannote-database.git &> /dev/null"
      ]
    },
    {
      "cell_type": "markdown",
      "metadata": {
        "id": "CjaF1oSPsUrk"
      },
      "source": [
        "## Data preparation\n",
        "1. First we download the [AMI corpus](https://groups.inf.ed.ac.uk/ami/corpus/) has already been [setup for use with `pyannote`](https://github.com/pyannote/AMI-diarization-setup/tree/main/pyannote)\n",
        "2.  he `PYANNOTE_DATABASE_CONFIG` environment variable is set accordingly.\n",
        "\n",
        "See [`pyannote.database` documentation](https://github.com/pyannote/pyannote-database#pyannote-database) to learn how to prepare your own dataset for training with `pyannote.audio`."
      ]
    },
    {
      "cell_type": "code",
      "execution_count": 1,
      "metadata": {
        "id": "17YlcSzR9GgJ"
      },
      "outputs": [
        {
          "name": "stdout",
          "output_type": "stream",
          "text": [
            "/Users/mirkomorello/Documents/Università/Magistrale/ICT/datasets/AMI-diarization-setup/pyannote\n"
          ]
        },
        {
          "name": "stderr",
          "output_type": "stream",
          "text": [
            "/Users/mirkomorello/Documents/Università/Magistrale/ICT/lib/python3.11/site-packages/IPython/core/magics/osm.py:417: UserWarning: This is now an optional IPython functionality, setting dhist requires you to install the `pickleshare` library.\n",
            "  self.shell.db['dhist'] = compress_dhist(dhist)[-100:]\n"
          ]
        },
        {
          "data": {
            "text/plain": [
              "'/Users/mirkomorello/Documents/Università/Magistrale/ICT/datasets/AMI-diarization-setup/pyannote'"
            ]
          },
          "execution_count": 1,
          "metadata": {},
          "output_type": "execute_result"
        }
      ],
      "source": [
        "import os\n",
        "\n",
        "# move diarization folder to datasets/AMI-diarization-setup\n",
        "if not os.path.exists('./datasets/AMI-diarization-setup'):\n",
        "    !git clone https://github.com/pyannote/AMI-diarization-setup.git &> /dev/null\n",
        "    os.rename('AMI-diarization-setup', 'datasets/AMI-diarization-setup')\n",
        "%cd ./datasets/AMI-diarization-setup/pyannote\n",
        "%pwd"
      ]
    },
    {
      "cell_type": "code",
      "execution_count": 2,
      "metadata": {
        "id": "txX7MSvKPx3A"
      },
      "outputs": [],
      "source": [
        "# check if the dataset is already downloaded\n",
        "if not os.path.exists('./amicorpus'):\n",
        "    !sed -i 's/#!\\/bin\\/sh/#!\\/bin\\/bash/' download_ami_mini.sh\n",
        "    !chmod +x download_ami_mini.sh\n",
        "    !./download_ami_mini.sh # We download this reduced version of the dataset due to time constraints\n",
        "    #!./download_ami.sh  # For those who want to dabble at home this is the full version of the dataset"
      ]
    },
    {
      "cell_type": "code",
      "execution_count": 3,
      "metadata": {
        "id": "t1ajImi1P0Lr"
      },
      "outputs": [],
      "source": [
        "!export PYANNOTE_DATABASE_CONFIG='./datasets/AMI-diarization-setup/pyannote/database.yml'"
      ]
    },
    {
      "cell_type": "code",
      "execution_count": 4,
      "metadata": {
        "id": "v4Xt2JhIsUrl"
      },
      "outputs": [
        {
          "name": "stdout",
          "output_type": "stream",
          "text": [
            "'AMI-SDM.SpeakerDiarization.only_words' found in /Users/mirkomorello/Documents/Università/Magistrale/ICT/datasets/AMI-diarization-setup/pyannote/database.yml does not define the 'scope' of speaker labels (file, database, or global). Setting it to 'file'.\n",
            "'AMI-SDM.SpeakerDiarization.mini' found in /Users/mirkomorello/Documents/Università/Magistrale/ICT/datasets/AMI-diarization-setup/pyannote/database.yml does not define the 'scope' of speaker labels (file, database, or global). Setting it to 'file'.\n",
            "'AMI.SpeakerDiarization.only_words' found in /Users/mirkomorello/Documents/Università/Magistrale/ICT/datasets/AMI-diarization-setup/pyannote/database.yml does not define the 'scope' of speaker labels (file, database, or global). Setting it to 'file'.\n",
            "'AMI.SpeakerDiarization.mini' found in /Users/mirkomorello/Documents/Università/Magistrale/ICT/datasets/AMI-diarization-setup/pyannote/database.yml does not define the 'scope' of speaker labels (file, database, or global). Setting it to 'file'.\n",
            "'AMI.SpeakerDiarization.word_and_vocalsounds' found in /Users/mirkomorello/Documents/Università/Magistrale/ICT/datasets/AMI-diarization-setup/pyannote/database.yml does not define the 'scope' of speaker labels (file, database, or global). Setting it to 'file'.\n"
          ]
        }
      ],
      "source": [
        "import os\n",
        "from pyannote.database import get_protocol, FileFinder\n",
        "\n",
        "# Ensure the environment variable is set correctly\n",
        "os.environ['PYANNOTE_DATABASE_CONFIG'] = './datasets/AMI-diarization-setup/pyannote/database.yml'\n",
        "\n",
        "preprocessors = {\"audio\": FileFinder()}\n",
        "ami = get_protocol('AMI.SpeakerDiarization.mini',\n",
        "                   preprocessors=preprocessors)"
      ]
    },
    {
      "cell_type": "markdown",
      "metadata": {
        "id": "vU-Wjr-VsUrl"
      },
      "source": [
        "`pyannote.database` *protocols* usually define\n",
        "* a training set: `for training_file in protocol.train(): ...`,\n",
        "* a validation set: `for validation_file in protocol.development(): ...`\n",
        "* an evaluation set `for evaluation_file in protocol.test(): ...`"
      ]
    },
    {
      "cell_type": "markdown",
      "metadata": {
        "id": "jrAlHcQOsUrm"
      },
      "source": [
        "Let's listen to one minute of the first training file..."
      ]
    },
    {
      "cell_type": "code",
      "execution_count": 6,
      "metadata": {
        "id": "YR-QdldvsUrm"
      },
      "outputs": [
        {
          "name": "stderr",
          "output_type": "stream",
          "text": [
            "/Users/mirkomorello/Documents/Università/Magistrale/ICT/lib/python3.11/site-packages/pyannote/database/util.py:178: FutureWarning: The 'delim_whitespace' keyword in pd.read_csv is deprecated and will be removed in a future version. Use ``sep='\\s+'`` instead\n",
            "  data = pd.read_csv(\n",
            "/Users/mirkomorello/Documents/Università/Magistrale/ICT/lib/python3.11/site-packages/pyannote/database/util.py:284: FutureWarning: The 'delim_whitespace' keyword in pd.read_csv is deprecated and will be removed in a future version. Use ``sep='\\s+'`` instead\n",
            "  data = pd.read_csv(file_uem, names=names, dtype=dtype, delim_whitespace=True)\n",
            "Matplotlib is building the font cache; this may take a moment.\n"
          ]
        },
        {
          "data": {
            "image/png": "[encoded data removed]",
            "text/plain": [
              "<pyannote.core.annotation.Annotation at 0x10eb35e90>"
            ]
          },
          "execution_count": 6,
          "metadata": {},
          "output_type": "execute_result"
        }
      ],
      "source": [
        "first_training_file = next(ami.train())\n",
        "reference = first_training_file[\"annotation\"]\n",
        "reference"
      ]
    },
    {
      "cell_type": "code",
      "execution_count": 13,
      "metadata": {},
      "outputs": [
        {
          "name": "stdout",
          "output_type": "stream",
          "text": [
            "Requirement already satisfied: pyannote.audio in /Users/mirkomorello/Documents/Università/Magistrale/ICT/lib/python3.11/site-packages (3.3.2)\n",
            "Requirement already satisfied: asteroid-filterbanks>=0.4 in /Users/mirkomorello/Documents/Università/Magistrale/ICT/lib/python3.11/site-packages (from pyannote.audio) (0.4.0)\n",
            "Requirement already satisfied: einops>=0.6.0 in /Users/mirkomorello/Documents/Università/Magistrale/ICT/lib/python3.11/site-packages (from pyannote.audio) (0.8.0)\n",
            "Requirement already satisfied: huggingface-hub>=0.13.0 in /Users/mirkomorello/Documents/Università/Magistrale/ICT/lib/python3.11/site-packages (from pyannote.audio) (0.26.1)\n",
            "Requirement already satisfied: lightning>=2.0.1 in /Users/mirkomorello/Documents/Università/Magistrale/ICT/lib/python3.11/site-packages (from pyannote.audio) (2.4.0)\n",
            "Requirement already satisfied: omegaconf<3.0,>=2.1 in /Users/mirkomorello/Documents/Università/Magistrale/ICT/lib/python3.11/site-packages (from pyannote.audio) (2.3.0)\n",
            "Requirement already satisfied: pyannote.core>=5.0.0 in /Users/mirkomorello/Documents/Università/Magistrale/ICT/lib/python3.11/site-packages (from pyannote.audio) (5.0.0)\n",
            "Requirement already satisfied: pyannote.database>=5.0.1 in /Users/mirkomorello/Documents/Università/Magistrale/ICT/lib/python3.11/site-packages (from pyannote.audio) (5.1.0)\n",
            "Requirement already satisfied: pyannote.metrics>=3.2 in /Users/mirkomorello/Documents/Università/Magistrale/ICT/lib/python3.11/site-packages (from pyannote.audio) (3.2.1)\n",
            "Requirement already satisfied: pyannote.pipeline>=3.0.1 in /Users/mirkomorello/Documents/Università/Magistrale/ICT/lib/python3.11/site-packages (from pyannote.audio) (3.0.1)\n",
            "Requirement already satisfied: pytorch-metric-learning>=2.1.0 in /Users/mirkomorello/Documents/Università/Magistrale/ICT/lib/python3.11/site-packages (from pyannote.audio) (2.6.0)\n",
            "Requirement already satisfied: rich>=12.0.0 in /Users/mirkomorello/Documents/Università/Magistrale/ICT/lib/python3.11/site-packages (from pyannote.audio) (13.9.2)\n",
            "Requirement already satisfied: semver>=3.0.0 in /Users/mirkomorello/Documents/Università/Magistrale/ICT/lib/python3.11/site-packages (from pyannote.audio) (3.0.2)\n",
            "Requirement already satisfied: soundfile>=0.12.1 in /Users/mirkomorello/Documents/Università/Magistrale/ICT/lib/python3.11/site-packages (from pyannote.audio) (0.12.1)\n",
            "Requirement already satisfied: speechbrain>=1.0.0 in /Users/mirkomorello/Documents/Università/Magistrale/ICT/lib/python3.11/site-packages (from pyannote.audio) (1.0.1)\n",
            "Requirement already satisfied: tensorboardX>=2.6 in /Users/mirkomorello/Documents/Università/Magistrale/ICT/lib/python3.11/site-packages (from pyannote.audio) (2.6.2.2)\n",
            "Requirement already satisfied: torch>=2.0.0 in /Users/mirkomorello/Documents/Università/Magistrale/ICT/lib/python3.11/site-packages (from pyannote.audio) (2.5.0)\n",
            "Requirement already satisfied: torch-audiomentations>=0.11.0 in /Users/mirkomorello/Documents/Università/Magistrale/ICT/lib/python3.11/site-packages (from pyannote.audio) (0.11.1)\n",
            "Requirement already satisfied: torchaudio>=2.2.0 in /Users/mirkomorello/Documents/Università/Magistrale/ICT/lib/python3.11/site-packages (from pyannote.audio) (2.5.0)\n",
            "Requirement already satisfied: torchmetrics>=0.11.0 in /Users/mirkomorello/Documents/Università/Magistrale/ICT/lib/python3.11/site-packages (from pyannote.audio) (1.5.1)\n",
            "Requirement already satisfied: numpy in /Users/mirkomorello/Documents/Università/Magistrale/ICT/lib/python3.11/site-packages (from asteroid-filterbanks>=0.4->pyannote.audio) (1.26.4)\n",
            "Requirement already satisfied: typing-extensions in /Users/mirkomorello/Documents/Università/Magistrale/ICT/lib/python3.11/site-packages (from asteroid-filterbanks>=0.4->pyannote.audio) (4.12.2)\n",
            "Requirement already satisfied: filelock in /Users/mirkomorello/Documents/Università/Magistrale/ICT/lib/python3.11/site-packages (from huggingface-hub>=0.13.0->pyannote.audio) (3.16.1)\n",
            "Requirement already satisfied: fsspec>=2023.5.0 in /Users/mirkomorello/Documents/Università/Magistrale/ICT/lib/python3.11/site-packages (from huggingface-hub>=0.13.0->pyannote.audio) (2024.10.0)\n",
            "Requirement already satisfied: packaging>=20.9 in /Users/mirkomorello/Documents/Università/Magistrale/ICT/lib/python3.11/site-packages (from huggingface-hub>=0.13.0->pyannote.audio) (24.1)\n",
            "Requirement already satisfied: pyyaml>=5.1 in /Users/mirkomorello/Documents/Università/Magistrale/ICT/lib/python3.11/site-packages (from huggingface-hub>=0.13.0->pyannote.audio) (6.0.2)\n",
            "Requirement already satisfied: requests in /Users/mirkomorello/Documents/Università/Magistrale/ICT/lib/python3.11/site-packages (from huggingface-hub>=0.13.0->pyannote.audio) (2.32.3)\n",
            "Requirement already satisfied: tqdm>=4.42.1 in /Users/mirkomorello/Documents/Università/Magistrale/ICT/lib/python3.11/site-packages (from huggingface-hub>=0.13.0->pyannote.audio) (4.66.5)\n",
            "Requirement already satisfied: lightning-utilities<2.0,>=0.10.0 in /Users/mirkomorello/Documents/Università/Magistrale/ICT/lib/python3.11/site-packages (from lightning>=2.0.1->pyannote.audio) (0.11.8)\n",
            "Requirement already satisfied: pytorch-lightning in /Users/mirkomorello/Documents/Università/Magistrale/ICT/lib/python3.11/site-packages (from lightning>=2.0.1->pyannote.audio) (2.4.0)\n",
            "Requirement already satisfied: antlr4-python3-runtime==4.9.* in /Users/mirkomorello/Documents/Università/Magistrale/ICT/lib/python3.11/site-packages (from omegaconf<3.0,>=2.1->pyannote.audio) (4.9.3)\n",
            "Requirement already satisfied: sortedcontainers>=2.0.4 in /Users/mirkomorello/Documents/Università/Magistrale/ICT/lib/python3.11/site-packages (from pyannote.core>=5.0.0->pyannote.audio) (2.4.0)\n",
            "Requirement already satisfied: scipy>=1.1 in /Users/mirkomorello/Documents/Università/Magistrale/ICT/lib/python3.11/site-packages (from pyannote.core>=5.0.0->pyannote.audio) (1.14.1)\n",
            "Requirement already satisfied: pandas>=0.19 in /Users/mirkomorello/Documents/Università/Magistrale/ICT/lib/python3.11/site-packages (from pyannote.database>=5.0.1->pyannote.audio) (2.2.3)\n",
            "Requirement already satisfied: typer>=0.12.1 in /Users/mirkomorello/Documents/Università/Magistrale/ICT/lib/python3.11/site-packages (from pyannote.database>=5.0.1->pyannote.audio) (0.12.5)\n",
            "Requirement already satisfied: scikit-learn>=0.17.1 in /Users/mirkomorello/Documents/Università/Magistrale/ICT/lib/python3.11/site-packages (from pyannote.metrics>=3.2->pyannote.audio) (1.5.2)\n",
            "Requirement already satisfied: docopt>=0.6.2 in /Users/mirkomorello/Documents/Università/Magistrale/ICT/lib/python3.11/site-packages (from pyannote.metrics>=3.2->pyannote.audio) (0.6.2)\n",
            "Requirement already satisfied: tabulate>=0.7.7 in /Users/mirkomorello/Documents/Università/Magistrale/ICT/lib/python3.11/site-packages (from pyannote.metrics>=3.2->pyannote.audio) (0.9.0)\n",
            "Requirement already satisfied: matplotlib>=2.0.0 in /Users/mirkomorello/Documents/Università/Magistrale/ICT/lib/python3.11/site-packages (from pyannote.metrics>=3.2->pyannote.audio) (3.9.2)\n",
            "Requirement already satisfied: sympy>=1.1 in /Users/mirkomorello/Documents/Università/Magistrale/ICT/lib/python3.11/site-packages (from pyannote.metrics>=3.2->pyannote.audio) (1.13.1)\n",
            "Requirement already satisfied: optuna>=3.1 in /Users/mirkomorello/Documents/Università/Magistrale/ICT/lib/python3.11/site-packages (from pyannote.pipeline>=3.0.1->pyannote.audio) (4.0.0)\n",
            "Requirement already satisfied: markdown-it-py>=2.2.0 in /Users/mirkomorello/Documents/Università/Magistrale/ICT/lib/python3.11/site-packages (from rich>=12.0.0->pyannote.audio) (3.0.0)\n",
            "Requirement already satisfied: pygments<3.0.0,>=2.13.0 in /Users/mirkomorello/Documents/Università/Magistrale/ICT/lib/python3.11/site-packages (from rich>=12.0.0->pyannote.audio) (2.18.0)\n",
            "Requirement already satisfied: cffi>=1.0 in /Users/mirkomorello/Documents/Università/Magistrale/ICT/lib/python3.11/site-packages (from soundfile>=0.12.1->pyannote.audio) (1.17.1)\n",
            "Requirement already satisfied: hyperpyyaml in /Users/mirkomorello/Documents/Università/Magistrale/ICT/lib/python3.11/site-packages (from speechbrain>=1.0.0->pyannote.audio) (1.2.2)\n",
            "Requirement already satisfied: joblib in /Users/mirkomorello/Documents/Università/Magistrale/ICT/lib/python3.11/site-packages (from speechbrain>=1.0.0->pyannote.audio) (1.4.2)\n",
            "Requirement already satisfied: sentencepiece in /Users/mirkomorello/Documents/Università/Magistrale/ICT/lib/python3.11/site-packages (from speechbrain>=1.0.0->pyannote.audio) (0.2.0)\n",
            "Requirement already satisfied: protobuf>=3.20 in /Users/mirkomorello/Documents/Università/Magistrale/ICT/lib/python3.11/site-packages (from tensorboardX>=2.6->pyannote.audio) (5.28.3)\n",
            "Requirement already satisfied: networkx in /Users/mirkomorello/Documents/Università/Magistrale/ICT/lib/python3.11/site-packages (from torch>=2.0.0->pyannote.audio) (3.4.2)\n",
            "Requirement already satisfied: jinja2 in /Users/mirkomorello/Documents/Università/Magistrale/ICT/lib/python3.11/site-packages (from torch>=2.0.0->pyannote.audio) (3.1.4)\n",
            "Requirement already satisfied: mpmath<1.4,>=1.1.0 in /Users/mirkomorello/Documents/Università/Magistrale/ICT/lib/python3.11/site-packages (from sympy>=1.1->pyannote.metrics>=3.2->pyannote.audio) (1.3.0)\n",
            "Requirement already satisfied: julius<0.3,>=0.2.3 in /Users/mirkomorello/Documents/Università/Magistrale/ICT/lib/python3.11/site-packages (from torch-audiomentations>=0.11.0->pyannote.audio) (0.2.7)\n",
            "Requirement already satisfied: librosa>=0.6.0 in /Users/mirkomorello/Documents/Università/Magistrale/ICT/lib/python3.11/site-packages (from torch-audiomentations>=0.11.0->pyannote.audio) (0.10.2.post1)\n",
            "Requirement already satisfied: torch-pitch-shift>=1.2.2 in /Users/mirkomorello/Documents/Università/Magistrale/ICT/lib/python3.11/site-packages (from torch-audiomentations>=0.11.0->pyannote.audio) (1.2.5)\n",
            "Requirement already satisfied: pycparser in /Users/mirkomorello/Documents/Università/Magistrale/ICT/lib/python3.11/site-packages (from cffi>=1.0->soundfile>=0.12.1->pyannote.audio) (2.22)\n",
            "Requirement already satisfied: aiohttp!=4.0.0a0,!=4.0.0a1 in /Users/mirkomorello/Documents/Università/Magistrale/ICT/lib/python3.11/site-packages (from fsspec>=2023.5.0->huggingface-hub>=0.13.0->pyannote.audio) (3.10.10)\n",
            "Requirement already satisfied: audioread>=2.1.9 in /Users/mirkomorello/Documents/Università/Magistrale/ICT/lib/python3.11/site-packages (from librosa>=0.6.0->torch-audiomentations>=0.11.0->pyannote.audio) (3.0.1)\n",
            "Requirement already satisfied: decorator>=4.3.0 in /Users/mirkomorello/Documents/Università/Magistrale/ICT/lib/python3.11/site-packages (from librosa>=0.6.0->torch-audiomentations>=0.11.0->pyannote.audio) (5.1.1)\n",
            "Requirement already satisfied: numba>=0.51.0 in /Users/mirkomorello/Documents/Università/Magistrale/ICT/lib/python3.11/site-packages (from librosa>=0.6.0->torch-audiomentations>=0.11.0->pyannote.audio) (0.60.0)\n",
            "Requirement already satisfied: pooch>=1.1 in /Users/mirkomorello/Documents/Università/Magistrale/ICT/lib/python3.11/site-packages (from librosa>=0.6.0->torch-audiomentations>=0.11.0->pyannote.audio) (1.8.2)\n",
            "Requirement already satisfied: soxr>=0.3.2 in /Users/mirkomorello/Documents/Università/Magistrale/ICT/lib/python3.11/site-packages (from librosa>=0.6.0->torch-audiomentations>=0.11.0->pyannote.audio) (0.5.0.post1)\n",
            "Requirement already satisfied: lazy-loader>=0.1 in /Users/mirkomorello/Documents/Università/Magistrale/ICT/lib/python3.11/site-packages (from librosa>=0.6.0->torch-audiomentations>=0.11.0->pyannote.audio) (0.4)\n",
            "Requirement already satisfied: msgpack>=1.0 in /Users/mirkomorello/Documents/Università/Magistrale/ICT/lib/python3.11/site-packages (from librosa>=0.6.0->torch-audiomentations>=0.11.0->pyannote.audio) (1.1.0)\n",
            "Requirement already satisfied: setuptools in /Users/mirkomorello/Documents/Università/Magistrale/ICT/lib/python3.11/site-packages (from lightning-utilities<2.0,>=0.10.0->lightning>=2.0.1->pyannote.audio) (67.6.1)\n",
            "Requirement already satisfied: mdurl~=0.1 in /Users/mirkomorello/Documents/Università/Magistrale/ICT/lib/python3.11/site-packages (from markdown-it-py>=2.2.0->rich>=12.0.0->pyannote.audio) (0.1.2)\n",
            "Requirement already satisfied: contourpy>=1.0.1 in /Users/mirkomorello/Documents/Università/Magistrale/ICT/lib/python3.11/site-packages (from matplotlib>=2.0.0->pyannote.metrics>=3.2->pyannote.audio) (1.3.0)\n",
            "Requirement already satisfied: cycler>=0.10 in /Users/mirkomorello/Documents/Università/Magistrale/ICT/lib/python3.11/site-packages (from matplotlib>=2.0.0->pyannote.metrics>=3.2->pyannote.audio) (0.12.1)\n",
            "Requirement already satisfied: fonttools>=4.22.0 in /Users/mirkomorello/Documents/Università/Magistrale/ICT/lib/python3.11/site-packages (from matplotlib>=2.0.0->pyannote.metrics>=3.2->pyannote.audio) (4.54.1)\n",
            "Requirement already satisfied: kiwisolver>=1.3.1 in /Users/mirkomorello/Documents/Università/Magistrale/ICT/lib/python3.11/site-packages (from matplotlib>=2.0.0->pyannote.metrics>=3.2->pyannote.audio) (1.4.7)\n",
            "Requirement already satisfied: pillow>=8 in /Users/mirkomorello/Documents/Università/Magistrale/ICT/lib/python3.11/site-packages (from matplotlib>=2.0.0->pyannote.metrics>=3.2->pyannote.audio) (11.0.0)\n",
            "Requirement already satisfied: pyparsing>=2.3.1 in /Users/mirkomorello/Documents/Università/Magistrale/ICT/lib/python3.11/site-packages (from matplotlib>=2.0.0->pyannote.metrics>=3.2->pyannote.audio) (3.2.0)\n",
            "Requirement already satisfied: python-dateutil>=2.7 in /Users/mirkomorello/Documents/Università/Magistrale/ICT/lib/python3.11/site-packages (from matplotlib>=2.0.0->pyannote.metrics>=3.2->pyannote.audio) (2.9.0.post0)\n",
            "Requirement already satisfied: alembic>=1.5.0 in /Users/mirkomorello/Documents/Università/Magistrale/ICT/lib/python3.11/site-packages (from optuna>=3.1->pyannote.pipeline>=3.0.1->pyannote.audio) (1.13.3)\n",
            "Requirement already satisfied: colorlog in /Users/mirkomorello/Documents/Università/Magistrale/ICT/lib/python3.11/site-packages (from optuna>=3.1->pyannote.pipeline>=3.0.1->pyannote.audio) (6.8.2)\n",
            "Requirement already satisfied: sqlalchemy>=1.3.0 in /Users/mirkomorello/Documents/Università/Magistrale/ICT/lib/python3.11/site-packages (from optuna>=3.1->pyannote.pipeline>=3.0.1->pyannote.audio) (2.0.36)\n",
            "Requirement already satisfied: pytz>=2020.1 in /Users/mirkomorello/Documents/Università/Magistrale/ICT/lib/python3.11/site-packages (from pandas>=0.19->pyannote.database>=5.0.1->pyannote.audio) (2024.2)\n",
            "Requirement already satisfied: tzdata>=2022.7 in /Users/mirkomorello/Documents/Università/Magistrale/ICT/lib/python3.11/site-packages (from pandas>=0.19->pyannote.database>=5.0.1->pyannote.audio) (2024.2)\n",
            "Requirement already satisfied: threadpoolctl>=3.1.0 in /Users/mirkomorello/Documents/Università/Magistrale/ICT/lib/python3.11/site-packages (from scikit-learn>=0.17.1->pyannote.metrics>=3.2->pyannote.audio) (3.5.0)\n",
            "Requirement already satisfied: primePy>=1.3 in /Users/mirkomorello/Documents/Università/Magistrale/ICT/lib/python3.11/site-packages (from torch-pitch-shift>=1.2.2->torch-audiomentations>=0.11.0->pyannote.audio) (1.3)\n",
            "Requirement already satisfied: click>=8.0.0 in /Users/mirkomorello/Documents/Università/Magistrale/ICT/lib/python3.11/site-packages (from typer>=0.12.1->pyannote.database>=5.0.1->pyannote.audio) (8.1.7)\n",
            "Requirement already satisfied: shellingham>=1.3.0 in /Users/mirkomorello/Documents/Università/Magistrale/ICT/lib/python3.11/site-packages (from typer>=0.12.1->pyannote.database>=5.0.1->pyannote.audio) (1.5.4)\n",
            "Requirement already satisfied: ruamel.yaml>=0.17.28 in /Users/mirkomorello/Documents/Università/Magistrale/ICT/lib/python3.11/site-packages (from hyperpyyaml->speechbrain>=1.0.0->pyannote.audio) (0.18.6)\n",
            "Requirement already satisfied: MarkupSafe>=2.0 in /Users/mirkomorello/Documents/Università/Magistrale/ICT/lib/python3.11/site-packages (from jinja2->torch>=2.0.0->pyannote.audio) (3.0.2)\n",
            "Requirement already satisfied: charset-normalizer<4,>=2 in /Users/mirkomorello/Documents/Università/Magistrale/ICT/lib/python3.11/site-packages (from requests->huggingface-hub>=0.13.0->pyannote.audio) (3.4.0)\n",
            "Requirement already satisfied: idna<4,>=2.5 in /Users/mirkomorello/Documents/Università/Magistrale/ICT/lib/python3.11/site-packages (from requests->huggingface-hub>=0.13.0->pyannote.audio) (3.10)\n",
            "Requirement already satisfied: urllib3<3,>=1.21.1 in /Users/mirkomorello/Documents/Università/Magistrale/ICT/lib/python3.11/site-packages (from requests->huggingface-hub>=0.13.0->pyannote.audio) (2.2.3)\n",
            "Requirement already satisfied: certifi>=2017.4.17 in /Users/mirkomorello/Documents/Università/Magistrale/ICT/lib/python3.11/site-packages (from requests->huggingface-hub>=0.13.0->pyannote.audio) (2024.8.30)\n",
            "Requirement already satisfied: aiohappyeyeballs>=2.3.0 in /Users/mirkomorello/Documents/Università/Magistrale/ICT/lib/python3.11/site-packages (from aiohttp!=4.0.0a0,!=4.0.0a1->fsspec>=2023.5.0->huggingface-hub>=0.13.0->pyannote.audio) (2.4.3)\n",
            "Requirement already satisfied: aiosignal>=1.1.2 in /Users/mirkomorello/Documents/Università/Magistrale/ICT/lib/python3.11/site-packages (from aiohttp!=4.0.0a0,!=4.0.0a1->fsspec>=2023.5.0->huggingface-hub>=0.13.0->pyannote.audio) (1.3.1)\n",
            "Requirement already satisfied: attrs>=17.3.0 in /Users/mirkomorello/Documents/Università/Magistrale/ICT/lib/python3.11/site-packages (from aiohttp!=4.0.0a0,!=4.0.0a1->fsspec>=2023.5.0->huggingface-hub>=0.13.0->pyannote.audio) (24.2.0)\n",
            "Requirement already satisfied: frozenlist>=1.1.1 in /Users/mirkomorello/Documents/Università/Magistrale/ICT/lib/python3.11/site-packages (from aiohttp!=4.0.0a0,!=4.0.0a1->fsspec>=2023.5.0->huggingface-hub>=0.13.0->pyannote.audio) (1.5.0)\n",
            "Requirement already satisfied: multidict<7.0,>=4.5 in /Users/mirkomorello/Documents/Università/Magistrale/ICT/lib/python3.11/site-packages (from aiohttp!=4.0.0a0,!=4.0.0a1->fsspec>=2023.5.0->huggingface-hub>=0.13.0->pyannote.audio) (6.1.0)\n",
            "Requirement already satisfied: yarl<2.0,>=1.12.0 in /Users/mirkomorello/Documents/Università/Magistrale/ICT/lib/python3.11/site-packages (from aiohttp!=4.0.0a0,!=4.0.0a1->fsspec>=2023.5.0->huggingface-hub>=0.13.0->pyannote.audio) (1.16.0)\n",
            "Requirement already satisfied: Mako in /Users/mirkomorello/Documents/Università/Magistrale/ICT/lib/python3.11/site-packages (from alembic>=1.5.0->optuna>=3.1->pyannote.pipeline>=3.0.1->pyannote.audio) (1.3.6)\n",
            "Requirement already satisfied: llvmlite<0.44,>=0.43.0dev0 in /Users/mirkomorello/Documents/Università/Magistrale/ICT/lib/python3.11/site-packages (from numba>=0.51.0->librosa>=0.6.0->torch-audiomentations>=0.11.0->pyannote.audio) (0.43.0)\n",
            "Requirement already satisfied: platformdirs>=2.5.0 in /Users/mirkomorello/Documents/Università/Magistrale/ICT/lib/python3.11/site-packages (from pooch>=1.1->librosa>=0.6.0->torch-audiomentations>=0.11.0->pyannote.audio) (4.3.6)\n",
            "Requirement already satisfied: six>=1.5 in /Users/mirkomorello/Documents/Università/Magistrale/ICT/lib/python3.11/site-packages (from python-dateutil>=2.7->matplotlib>=2.0.0->pyannote.metrics>=3.2->pyannote.audio) (1.16.0)\n",
            "Requirement already satisfied: ruamel.yaml.clib>=0.2.7 in /Users/mirkomorello/Documents/Università/Magistrale/ICT/lib/python3.11/site-packages (from ruamel.yaml>=0.17.28->hyperpyyaml->speechbrain>=1.0.0->pyannote.audio) (0.2.12)\n",
            "Requirement already satisfied: propcache>=0.2.0 in /Users/mirkomorello/Documents/Università/Magistrale/ICT/lib/python3.11/site-packages (from yarl<2.0,>=1.12.0->aiohttp!=4.0.0a0,!=4.0.0a1->fsspec>=2023.5.0->huggingface-hub>=0.13.0->pyannote.audio) (0.2.0)\n",
            "\n",
            "\u001b[1m[\u001b[0m\u001b[34;49mnotice\u001b[0m\u001b[1;39;49m]\u001b[0m\u001b[39;49m A new release of pip is available: \u001b[0m\u001b[31;49m23.0.1\u001b[0m\u001b[39;49m -> \u001b[0m\u001b[32;49m24.2\u001b[0m\n",
            "\u001b[1m[\u001b[0m\u001b[34;49mnotice\u001b[0m\u001b[1;39;49m]\u001b[0m\u001b[39;49m To update, run: \u001b[0m\u001b[32;49mpip install --upgrade pip\u001b[0m\n",
            "Note: you may need to restart the kernel to use updated packages.\n",
            "Requirement already satisfied: numpy in /Users/mirkomorello/Documents/Università/Magistrale/ICT/lib/python3.11/site-packages (1.26.4)\n",
            "\n",
            "\u001b[1m[\u001b[0m\u001b[34;49mnotice\u001b[0m\u001b[1;39;49m]\u001b[0m\u001b[39;49m A new release of pip is available: \u001b[0m\u001b[31;49m23.0.1\u001b[0m\u001b[39;49m -> \u001b[0m\u001b[32;49m24.2\u001b[0m\n",
            "\u001b[1m[\u001b[0m\u001b[34;49mnotice\u001b[0m\u001b[1;39;49m]\u001b[0m\u001b[39;49m To update, run: \u001b[0m\u001b[32;49mpip install --upgrade pip\u001b[0m\n",
            "Note: you may need to restart the kernel to use updated packages.\n"
          ]
        }
      ],
      "source": [
        "# import torch audio\n",
        "import torchaudio\n",
        "# import listen to listen to the audio\n",
        "from IPython.display import Audio\n",
        "# import pyannote audio\n",
        "import torchaudio\n",
        "from IPython.display import Audio\n",
        "from pyannote.audio.core.io import Audio\n",
        "from pyannote.audio.core.io import Audio\n",
        "from pyannote.audio.core.io import Audio\n",
        "# import pyannote audio pipeline"
      ]
    },
    {
      "cell_type": "code",
      "execution_count": 16,
      "metadata": {
        "id": "9v3UVUL0sUrm"
      },
      "outputs": [
        {
          "name": "stdout",
          "output_type": "stream",
          "text": [
            "Requirement already satisfied: numpy in /Users/mirkomorello/Documents/Università/Magistrale/ICT/lib/python3.11/site-packages (1.26.4)\n",
            "\n",
            "\u001b[1m[\u001b[0m\u001b[34;49mnotice\u001b[0m\u001b[1;39;49m]\u001b[0m\u001b[39;49m A new release of pip is available: \u001b[0m\u001b[31;49m23.0.1\u001b[0m\u001b[39;49m -> \u001b[0m\u001b[32;49m24.2\u001b[0m\n",
            "\u001b[1m[\u001b[0m\u001b[34;49mnotice\u001b[0m\u001b[1;39;49m]\u001b[0m\u001b[39;49m To update, run: \u001b[0m\u001b[32;49mpip install --upgrade pip\u001b[0m\n",
            "Note: you may need to restart the kernel to use updated packages.\n"
          ]
        },
        {
          "ename": "ModuleNotFoundError",
          "evalue": "No module named 'numpy.char'",
          "output_type": "error",
          "traceback": [
            "\u001b[0;31m---------------------------------------------------------------------------\u001b[0m",
            "\u001b[0;31mModuleNotFoundError\u001b[0m                       Traceback (most recent call last)",
            "Cell \u001b[0;32mIn[16], line 2\u001b[0m\n\u001b[1;32m      1\u001b[0m get_ipython()\u001b[38;5;241m.\u001b[39mrun_line_magic(\u001b[38;5;124m'\u001b[39m\u001b[38;5;124mpip\u001b[39m\u001b[38;5;124m'\u001b[39m, \u001b[38;5;124m'\u001b[39m\u001b[38;5;124minstall numpy\u001b[39m\u001b[38;5;124m'\u001b[39m)\n\u001b[0;32m----> 2\u001b[0m \u001b[38;5;28;01mfrom\u001b[39;00m \u001b[38;5;21;01mpyannote\u001b[39;00m\u001b[38;5;21;01m.\u001b[39;00m\u001b[38;5;21;01maudio\u001b[39;00m\u001b[38;5;21;01m.\u001b[39;00m\u001b[38;5;21;01mutils\u001b[39;00m\u001b[38;5;21;01m.\u001b[39;00m\u001b[38;5;21;01mpreview\u001b[39;00m \u001b[38;5;28;01mimport\u001b[39;00m listen\n\u001b[1;32m      3\u001b[0m \u001b[38;5;28;01mfrom\u001b[39;00m \u001b[38;5;21;01mpyannote\u001b[39;00m\u001b[38;5;21;01m.\u001b[39;00m\u001b[38;5;21;01mcore\u001b[39;00m \u001b[38;5;28;01mimport\u001b[39;00m Segment\n\u001b[1;32m      4\u001b[0m one_minute \u001b[38;5;241m=\u001b[39m Segment(\u001b[38;5;241m240\u001b[39m, \u001b[38;5;241m300\u001b[39m)\n",
            "File \u001b[0;32m~/Documents/Università/Magistrale/ICT/lib/python3.11/site-packages/pyannote/audio/__init__.py:29\u001b[0m\n\u001b[1;32m     25\u001b[0m \u001b[38;5;28;01mexcept\u001b[39;00m \u001b[38;5;167;01mImportError\u001b[39;00m:\n\u001b[1;32m     26\u001b[0m     \u001b[38;5;28;01mpass\u001b[39;00m\n\u001b[0;32m---> 29\u001b[0m \u001b[38;5;28;01mfrom\u001b[39;00m \u001b[38;5;21;01m.\u001b[39;00m\u001b[38;5;21;01mcore\u001b[39;00m\u001b[38;5;21;01m.\u001b[39;00m\u001b[38;5;21;01minference\u001b[39;00m \u001b[38;5;28;01mimport\u001b[39;00m Inference\n\u001b[1;32m     30\u001b[0m \u001b[38;5;28;01mfrom\u001b[39;00m \u001b[38;5;21;01m.\u001b[39;00m\u001b[38;5;21;01mcore\u001b[39;00m\u001b[38;5;21;01m.\u001b[39;00m\u001b[38;5;21;01mio\u001b[39;00m \u001b[38;5;28;01mimport\u001b[39;00m Audio\n\u001b[1;32m     31\u001b[0m \u001b[38;5;28;01mfrom\u001b[39;00m \u001b[38;5;21;01m.\u001b[39;00m\u001b[38;5;21;01mcore\u001b[39;00m\u001b[38;5;21;01m.\u001b[39;00m\u001b[38;5;21;01mmodel\u001b[39;00m \u001b[38;5;28;01mimport\u001b[39;00m Model\n",
            "File \u001b[0;32m~/Documents/Università/Magistrale/ICT/lib/python3.11/site-packages/pyannote/audio/core/inference.py:36\u001b[0m\n\u001b[1;32m     33\u001b[0m \u001b[38;5;28;01mfrom\u001b[39;00m \u001b[38;5;21;01mpytorch_lightning\u001b[39;00m\u001b[38;5;21;01m.\u001b[39;00m\u001b[38;5;21;01mutilities\u001b[39;00m\u001b[38;5;21;01m.\u001b[39;00m\u001b[38;5;21;01mmemory\u001b[39;00m \u001b[38;5;28;01mimport\u001b[39;00m is_oom_error\n\u001b[1;32m     35\u001b[0m \u001b[38;5;28;01mfrom\u001b[39;00m \u001b[38;5;21;01mpyannote\u001b[39;00m\u001b[38;5;21;01m.\u001b[39;00m\u001b[38;5;21;01maudio\u001b[39;00m\u001b[38;5;21;01m.\u001b[39;00m\u001b[38;5;21;01mcore\u001b[39;00m\u001b[38;5;21;01m.\u001b[39;00m\u001b[38;5;21;01mio\u001b[39;00m \u001b[38;5;28;01mimport\u001b[39;00m AudioFile\n\u001b[0;32m---> 36\u001b[0m \u001b[38;5;28;01mfrom\u001b[39;00m \u001b[38;5;21;01mpyannote\u001b[39;00m\u001b[38;5;21;01m.\u001b[39;00m\u001b[38;5;21;01maudio\u001b[39;00m\u001b[38;5;21;01m.\u001b[39;00m\u001b[38;5;21;01mcore\u001b[39;00m\u001b[38;5;21;01m.\u001b[39;00m\u001b[38;5;21;01mmodel\u001b[39;00m \u001b[38;5;28;01mimport\u001b[39;00m Model, Specifications\n\u001b[1;32m     37\u001b[0m \u001b[38;5;28;01mfrom\u001b[39;00m \u001b[38;5;21;01mpyannote\u001b[39;00m\u001b[38;5;21;01m.\u001b[39;00m\u001b[38;5;21;01maudio\u001b[39;00m\u001b[38;5;21;01m.\u001b[39;00m\u001b[38;5;21;01mcore\u001b[39;00m\u001b[38;5;21;01m.\u001b[39;00m\u001b[38;5;21;01mtask\u001b[39;00m \u001b[38;5;28;01mimport\u001b[39;00m Resolution\n\u001b[1;32m     38\u001b[0m \u001b[38;5;28;01mfrom\u001b[39;00m \u001b[38;5;21;01mpyannote\u001b[39;00m\u001b[38;5;21;01m.\u001b[39;00m\u001b[38;5;21;01maudio\u001b[39;00m\u001b[38;5;21;01m.\u001b[39;00m\u001b[38;5;21;01mutils\u001b[39;00m\u001b[38;5;21;01m.\u001b[39;00m\u001b[38;5;21;01mmulti_task\u001b[39;00m \u001b[38;5;28;01mimport\u001b[39;00m map_with_specifications\n",
            "File \u001b[0;32m~/Documents/Università/Magistrale/ICT/lib/python3.11/site-packages/pyannote/audio/core/model.py:34\u001b[0m\n\u001b[1;32m     31\u001b[0m \u001b[38;5;28;01mfrom\u001b[39;00m \u001b[38;5;21;01mtyping\u001b[39;00m \u001b[38;5;28;01mimport\u001b[39;00m Any, Dict, List, Optional, Text, Tuple, Union\n\u001b[1;32m     32\u001b[0m \u001b[38;5;28;01mfrom\u001b[39;00m \u001b[38;5;21;01murllib\u001b[39;00m\u001b[38;5;21;01m.\u001b[39;00m\u001b[38;5;21;01mparse\u001b[39;00m \u001b[38;5;28;01mimport\u001b[39;00m urlparse\n\u001b[0;32m---> 34\u001b[0m \u001b[38;5;28;01mimport\u001b[39;00m \u001b[38;5;21;01mpytorch_lightning\u001b[39;00m \u001b[38;5;28;01mas\u001b[39;00m \u001b[38;5;21;01mpl\u001b[39;00m\n\u001b[1;32m     35\u001b[0m \u001b[38;5;28;01mimport\u001b[39;00m \u001b[38;5;21;01mtorch\u001b[39;00m\n\u001b[1;32m     36\u001b[0m \u001b[38;5;28;01mimport\u001b[39;00m \u001b[38;5;21;01mtorch\u001b[39;00m\u001b[38;5;21;01m.\u001b[39;00m\u001b[38;5;21;01mnn\u001b[39;00m \u001b[38;5;28;01mas\u001b[39;00m \u001b[38;5;21;01mnn\u001b[39;00m\n",
            "File \u001b[0;32m~/Documents/Università/Magistrale/ICT/lib/python3.11/site-packages/pytorch_lightning/__init__.py:27\u001b[0m\n\u001b[1;32m     25\u001b[0m \u001b[38;5;28;01mfrom\u001b[39;00m \u001b[38;5;21;01mlightning_fabric\u001b[39;00m\u001b[38;5;21;01m.\u001b[39;00m\u001b[38;5;21;01mutilities\u001b[39;00m\u001b[38;5;21;01m.\u001b[39;00m\u001b[38;5;21;01mseed\u001b[39;00m \u001b[38;5;28;01mimport\u001b[39;00m seed_everything  \u001b[38;5;66;03m# noqa: E402\u001b[39;00m\n\u001b[1;32m     26\u001b[0m \u001b[38;5;28;01mfrom\u001b[39;00m \u001b[38;5;21;01mlightning_fabric\u001b[39;00m\u001b[38;5;21;01m.\u001b[39;00m\u001b[38;5;21;01mutilities\u001b[39;00m\u001b[38;5;21;01m.\u001b[39;00m\u001b[38;5;21;01mwarnings\u001b[39;00m \u001b[38;5;28;01mimport\u001b[39;00m disable_possible_user_warnings  \u001b[38;5;66;03m# noqa: E402\u001b[39;00m\n\u001b[0;32m---> 27\u001b[0m \u001b[38;5;28;01mfrom\u001b[39;00m \u001b[38;5;21;01mpytorch_lightning\u001b[39;00m\u001b[38;5;21;01m.\u001b[39;00m\u001b[38;5;21;01mcallbacks\u001b[39;00m \u001b[38;5;28;01mimport\u001b[39;00m Callback  \u001b[38;5;66;03m# noqa: E402\u001b[39;00m\n\u001b[1;32m     28\u001b[0m \u001b[38;5;28;01mfrom\u001b[39;00m \u001b[38;5;21;01mpytorch_lightning\u001b[39;00m\u001b[38;5;21;01m.\u001b[39;00m\u001b[38;5;21;01mcore\u001b[39;00m \u001b[38;5;28;01mimport\u001b[39;00m LightningDataModule, LightningModule  \u001b[38;5;66;03m# noqa: E402\u001b[39;00m\n\u001b[1;32m     29\u001b[0m \u001b[38;5;28;01mfrom\u001b[39;00m \u001b[38;5;21;01mpytorch_lightning\u001b[39;00m\u001b[38;5;21;01m.\u001b[39;00m\u001b[38;5;21;01mtrainer\u001b[39;00m \u001b[38;5;28;01mimport\u001b[39;00m Trainer  \u001b[38;5;66;03m# noqa: E402\u001b[39;00m\n",
            "File \u001b[0;32m~/Documents/Università/Magistrale/ICT/lib/python3.11/site-packages/pytorch_lightning/callbacks/__init__.py:14\u001b[0m\n\u001b[1;32m      1\u001b[0m \u001b[38;5;66;03m# Copyright The Lightning AI team.\u001b[39;00m\n\u001b[1;32m      2\u001b[0m \u001b[38;5;66;03m#\u001b[39;00m\n\u001b[1;32m      3\u001b[0m \u001b[38;5;66;03m# Licensed under the Apache License, Version 2.0 (the \"License\");\u001b[39;00m\n\u001b[0;32m   (...)\u001b[0m\n\u001b[1;32m     12\u001b[0m \u001b[38;5;66;03m# See the License for the specific language governing permissions and\u001b[39;00m\n\u001b[1;32m     13\u001b[0m \u001b[38;5;66;03m# limitations under the License.\u001b[39;00m\n\u001b[0;32m---> 14\u001b[0m \u001b[38;5;28;01mfrom\u001b[39;00m \u001b[38;5;21;01mpytorch_lightning\u001b[39;00m\u001b[38;5;21;01m.\u001b[39;00m\u001b[38;5;21;01mcallbacks\u001b[39;00m\u001b[38;5;21;01m.\u001b[39;00m\u001b[38;5;21;01mbatch_size_finder\u001b[39;00m \u001b[38;5;28;01mimport\u001b[39;00m BatchSizeFinder\n\u001b[1;32m     15\u001b[0m \u001b[38;5;28;01mfrom\u001b[39;00m \u001b[38;5;21;01mpytorch_lightning\u001b[39;00m\u001b[38;5;21;01m.\u001b[39;00m\u001b[38;5;21;01mcallbacks\u001b[39;00m\u001b[38;5;21;01m.\u001b[39;00m\u001b[38;5;21;01mcallback\u001b[39;00m \u001b[38;5;28;01mimport\u001b[39;00m Callback\n\u001b[1;32m     16\u001b[0m \u001b[38;5;28;01mfrom\u001b[39;00m \u001b[38;5;21;01mpytorch_lightning\u001b[39;00m\u001b[38;5;21;01m.\u001b[39;00m\u001b[38;5;21;01mcallbacks\u001b[39;00m\u001b[38;5;21;01m.\u001b[39;00m\u001b[38;5;21;01mcheckpoint\u001b[39;00m \u001b[38;5;28;01mimport\u001b[39;00m Checkpoint\n",
            "File \u001b[0;32m~/Documents/Università/Magistrale/ICT/lib/python3.11/site-packages/pytorch_lightning/callbacks/batch_size_finder.py:26\u001b[0m\n\u001b[1;32m     23\u001b[0m \u001b[38;5;28;01mfrom\u001b[39;00m \u001b[38;5;21;01mtyping_extensions\u001b[39;00m \u001b[38;5;28;01mimport\u001b[39;00m override\n\u001b[1;32m     25\u001b[0m \u001b[38;5;28;01mimport\u001b[39;00m \u001b[38;5;21;01mpytorch_lightning\u001b[39;00m \u001b[38;5;28;01mas\u001b[39;00m \u001b[38;5;21;01mpl\u001b[39;00m\n\u001b[0;32m---> 26\u001b[0m \u001b[38;5;28;01mfrom\u001b[39;00m \u001b[38;5;21;01mpytorch_lightning\u001b[39;00m\u001b[38;5;21;01m.\u001b[39;00m\u001b[38;5;21;01mcallbacks\u001b[39;00m\u001b[38;5;21;01m.\u001b[39;00m\u001b[38;5;21;01mcallback\u001b[39;00m \u001b[38;5;28;01mimport\u001b[39;00m Callback\n\u001b[1;32m     27\u001b[0m \u001b[38;5;28;01mfrom\u001b[39;00m \u001b[38;5;21;01mpytorch_lightning\u001b[39;00m\u001b[38;5;21;01m.\u001b[39;00m\u001b[38;5;21;01mtuner\u001b[39;00m\u001b[38;5;21;01m.\u001b[39;00m\u001b[38;5;21;01mbatch_size_scaling\u001b[39;00m \u001b[38;5;28;01mimport\u001b[39;00m _scale_batch_size\n\u001b[1;32m     28\u001b[0m \u001b[38;5;28;01mfrom\u001b[39;00m \u001b[38;5;21;01mpytorch_lightning\u001b[39;00m\u001b[38;5;21;01m.\u001b[39;00m\u001b[38;5;21;01mutilities\u001b[39;00m\u001b[38;5;21;01m.\u001b[39;00m\u001b[38;5;21;01mexceptions\u001b[39;00m \u001b[38;5;28;01mimport\u001b[39;00m MisconfigurationException, _TunerExitException\n",
            "File \u001b[0;32m~/Documents/Università/Magistrale/ICT/lib/python3.11/site-packages/pytorch_lightning/callbacks/callback.py:22\u001b[0m\n\u001b[1;32m     19\u001b[0m \u001b[38;5;28;01mfrom\u001b[39;00m \u001b[38;5;21;01mtorch\u001b[39;00m\u001b[38;5;21;01m.\u001b[39;00m\u001b[38;5;21;01moptim\u001b[39;00m \u001b[38;5;28;01mimport\u001b[39;00m Optimizer\n\u001b[1;32m     21\u001b[0m \u001b[38;5;28;01mimport\u001b[39;00m \u001b[38;5;21;01mpytorch_lightning\u001b[39;00m \u001b[38;5;28;01mas\u001b[39;00m \u001b[38;5;21;01mpl\u001b[39;00m\n\u001b[0;32m---> 22\u001b[0m \u001b[38;5;28;01mfrom\u001b[39;00m \u001b[38;5;21;01mpytorch_lightning\u001b[39;00m\u001b[38;5;21;01m.\u001b[39;00m\u001b[38;5;21;01mutilities\u001b[39;00m\u001b[38;5;21;01m.\u001b[39;00m\u001b[38;5;21;01mtypes\u001b[39;00m \u001b[38;5;28;01mimport\u001b[39;00m STEP_OUTPUT\n\u001b[1;32m     25\u001b[0m \u001b[38;5;28;01mclass\u001b[39;00m \u001b[38;5;21;01mCallback\u001b[39;00m:\n\u001b[1;32m     26\u001b[0m \u001b[38;5;250m    \u001b[39m\u001b[38;5;124mr\u001b[39m\u001b[38;5;124;03m\"\"\"Abstract base class used to build new callbacks.\u001b[39;00m\n\u001b[1;32m     27\u001b[0m \n\u001b[1;32m     28\u001b[0m \u001b[38;5;124;03m    Subclass this class and override any of the relevant hooks\u001b[39;00m\n\u001b[1;32m     29\u001b[0m \n\u001b[1;32m     30\u001b[0m \u001b[38;5;124;03m    \"\"\"\u001b[39;00m\n",
            "File \u001b[0;32m~/Documents/Università/Magistrale/ICT/lib/python3.11/site-packages/pytorch_lightning/utilities/types.py:42\u001b[0m\n\u001b[1;32m     40\u001b[0m \u001b[38;5;28;01mfrom\u001b[39;00m \u001b[38;5;21;01mtorch\u001b[39;00m\u001b[38;5;21;01m.\u001b[39;00m\u001b[38;5;21;01moptim\u001b[39;00m \u001b[38;5;28;01mimport\u001b[39;00m Optimizer\n\u001b[1;32m     41\u001b[0m \u001b[38;5;28;01mfrom\u001b[39;00m \u001b[38;5;21;01mtorch\u001b[39;00m\u001b[38;5;21;01m.\u001b[39;00m\u001b[38;5;21;01moptim\u001b[39;00m\u001b[38;5;21;01m.\u001b[39;00m\u001b[38;5;21;01mlr_scheduler\u001b[39;00m \u001b[38;5;28;01mimport\u001b[39;00m LRScheduler, ReduceLROnPlateau\n\u001b[0;32m---> 42\u001b[0m \u001b[38;5;28;01mfrom\u001b[39;00m \u001b[38;5;21;01mtorchmetrics\u001b[39;00m \u001b[38;5;28;01mimport\u001b[39;00m Metric\n\u001b[1;32m     43\u001b[0m \u001b[38;5;28;01mfrom\u001b[39;00m \u001b[38;5;21;01mtyping_extensions\u001b[39;00m \u001b[38;5;28;01mimport\u001b[39;00m NotRequired, Required\n\u001b[1;32m     45\u001b[0m \u001b[38;5;28;01mfrom\u001b[39;00m \u001b[38;5;21;01mlightning_fabric\u001b[39;00m\u001b[38;5;21;01m.\u001b[39;00m\u001b[38;5;21;01mutilities\u001b[39;00m\u001b[38;5;21;01m.\u001b[39;00m\u001b[38;5;21;01mtypes\u001b[39;00m \u001b[38;5;28;01mimport\u001b[39;00m ProcessGroup\n",
            "File \u001b[0;32m~/Documents/Università/Magistrale/ICT/lib/python3.11/site-packages/torchmetrics/__init__.py:24\u001b[0m\n\u001b[1;32m     21\u001b[0m         PIL\u001b[38;5;241m.\u001b[39mPILLOW_VERSION \u001b[38;5;241m=\u001b[39m PIL\u001b[38;5;241m.\u001b[39m__version__\n\u001b[1;32m     23\u001b[0m \u001b[38;5;28;01mif\u001b[39;00m package_available(\u001b[38;5;124m\"\u001b[39m\u001b[38;5;124mscipy\u001b[39m\u001b[38;5;124m\"\u001b[39m):\n\u001b[0;32m---> 24\u001b[0m     \u001b[38;5;28;01mimport\u001b[39;00m \u001b[38;5;21;01mscipy\u001b[39;00m\u001b[38;5;21;01m.\u001b[39;00m\u001b[38;5;21;01msignal\u001b[39;00m\n\u001b[1;32m     26\u001b[0m     \u001b[38;5;66;03m# back compatibility patch due to SMRMpy using scipy.signal.hamming\u001b[39;00m\n\u001b[1;32m     27\u001b[0m     \u001b[38;5;28;01mif\u001b[39;00m \u001b[38;5;129;01mnot\u001b[39;00m \u001b[38;5;28mhasattr\u001b[39m(scipy\u001b[38;5;241m.\u001b[39msignal, \u001b[38;5;124m\"\u001b[39m\u001b[38;5;124mhamming\u001b[39m\u001b[38;5;124m\"\u001b[39m):\n",
            "File \u001b[0;32m~/Documents/Università/Magistrale/ICT/lib/python3.11/site-packages/scipy/signal/__init__.py:307\u001b[0m\n\u001b[1;32m      1\u001b[0m \u001b[38;5;124;03m\"\"\"\u001b[39;00m\n\u001b[1;32m      2\u001b[0m \u001b[38;5;124;03m=======================================\u001b[39;00m\n\u001b[1;32m      3\u001b[0m \u001b[38;5;124;03mSignal processing (:mod:`scipy.signal`)\u001b[39;00m\n\u001b[0;32m   (...)\u001b[0m\n\u001b[1;32m    304\u001b[0m \n\u001b[1;32m    305\u001b[0m \u001b[38;5;124;03m\"\"\"\u001b[39;00m\n\u001b[0;32m--> 307\u001b[0m \u001b[38;5;28;01mfrom\u001b[39;00m \u001b[38;5;21;01m.\u001b[39;00m \u001b[38;5;28;01mimport\u001b[39;00m _sigtools, windows\n\u001b[1;32m    308\u001b[0m \u001b[38;5;28;01mfrom\u001b[39;00m \u001b[38;5;21;01m.\u001b[39;00m\u001b[38;5;21;01m_waveforms\u001b[39;00m \u001b[38;5;28;01mimport\u001b[39;00m \u001b[38;5;241m*\u001b[39m\n\u001b[1;32m    309\u001b[0m \u001b[38;5;28;01mfrom\u001b[39;00m \u001b[38;5;21;01m.\u001b[39;00m\u001b[38;5;21;01m_max_len_seq\u001b[39;00m \u001b[38;5;28;01mimport\u001b[39;00m max_len_seq\n",
            "File \u001b[0;32m~/Documents/Università/Magistrale/ICT/lib/python3.11/site-packages/scipy/signal/windows/__init__.py:42\u001b[0m\n\u001b[1;32m      1\u001b[0m \u001b[38;5;124;03m\"\"\"\u001b[39;00m\n\u001b[1;32m      2\u001b[0m \u001b[38;5;124;03mWindow functions (:mod:`scipy.signal.windows`)\u001b[39;00m\n\u001b[1;32m      3\u001b[0m \u001b[38;5;124;03m==============================================\u001b[39;00m\n\u001b[0;32m   (...)\u001b[0m\n\u001b[1;32m     39\u001b[0m \n\u001b[1;32m     40\u001b[0m \u001b[38;5;124;03m\"\"\"\u001b[39;00m\n\u001b[0;32m---> 42\u001b[0m \u001b[38;5;28;01mfrom\u001b[39;00m \u001b[38;5;21;01m.\u001b[39;00m\u001b[38;5;21;01m_windows\u001b[39;00m \u001b[38;5;28;01mimport\u001b[39;00m \u001b[38;5;241m*\u001b[39m\n\u001b[1;32m     44\u001b[0m \u001b[38;5;66;03m# Deprecated namespaces, to be removed in v2.0.0\u001b[39;00m\n\u001b[1;32m     45\u001b[0m \u001b[38;5;28;01mfrom\u001b[39;00m \u001b[38;5;21;01m.\u001b[39;00m \u001b[38;5;28;01mimport\u001b[39;00m windows\n",
            "File \u001b[0;32m~/Documents/Università/Magistrale/ICT/lib/python3.11/site-packages/scipy/signal/windows/_windows.py:7\u001b[0m\n\u001b[1;32m      4\u001b[0m \u001b[38;5;28;01mimport\u001b[39;00m \u001b[38;5;21;01mwarnings\u001b[39;00m\n\u001b[1;32m      6\u001b[0m \u001b[38;5;28;01mimport\u001b[39;00m \u001b[38;5;21;01mnumpy\u001b[39;00m \u001b[38;5;28;01mas\u001b[39;00m \u001b[38;5;21;01mnp\u001b[39;00m\n\u001b[0;32m----> 7\u001b[0m \u001b[38;5;28;01mfrom\u001b[39;00m \u001b[38;5;21;01mscipy\u001b[39;00m \u001b[38;5;28;01mimport\u001b[39;00m linalg, special, fft \u001b[38;5;28;01mas\u001b[39;00m sp_fft\n\u001b[1;32m      9\u001b[0m __all__ \u001b[38;5;241m=\u001b[39m [\u001b[38;5;124m'\u001b[39m\u001b[38;5;124mboxcar\u001b[39m\u001b[38;5;124m'\u001b[39m, \u001b[38;5;124m'\u001b[39m\u001b[38;5;124mtriang\u001b[39m\u001b[38;5;124m'\u001b[39m, \u001b[38;5;124m'\u001b[39m\u001b[38;5;124mparzen\u001b[39m\u001b[38;5;124m'\u001b[39m, \u001b[38;5;124m'\u001b[39m\u001b[38;5;124mbohman\u001b[39m\u001b[38;5;124m'\u001b[39m, \u001b[38;5;124m'\u001b[39m\u001b[38;5;124mblackman\u001b[39m\u001b[38;5;124m'\u001b[39m, \u001b[38;5;124m'\u001b[39m\u001b[38;5;124mnuttall\u001b[39m\u001b[38;5;124m'\u001b[39m,\n\u001b[1;32m     10\u001b[0m            \u001b[38;5;124m'\u001b[39m\u001b[38;5;124mblackmanharris\u001b[39m\u001b[38;5;124m'\u001b[39m, \u001b[38;5;124m'\u001b[39m\u001b[38;5;124mflattop\u001b[39m\u001b[38;5;124m'\u001b[39m, \u001b[38;5;124m'\u001b[39m\u001b[38;5;124mbartlett\u001b[39m\u001b[38;5;124m'\u001b[39m, \u001b[38;5;124m'\u001b[39m\u001b[38;5;124mbarthann\u001b[39m\u001b[38;5;124m'\u001b[39m,\n\u001b[1;32m     11\u001b[0m            \u001b[38;5;124m'\u001b[39m\u001b[38;5;124mhamming\u001b[39m\u001b[38;5;124m'\u001b[39m, \u001b[38;5;124m'\u001b[39m\u001b[38;5;124mkaiser\u001b[39m\u001b[38;5;124m'\u001b[39m, \u001b[38;5;124m'\u001b[39m\u001b[38;5;124mkaiser_bessel_derived\u001b[39m\u001b[38;5;124m'\u001b[39m, \u001b[38;5;124m'\u001b[39m\u001b[38;5;124mgaussian\u001b[39m\u001b[38;5;124m'\u001b[39m,\n\u001b[1;32m     12\u001b[0m            \u001b[38;5;124m'\u001b[39m\u001b[38;5;124mgeneral_cosine\u001b[39m\u001b[38;5;124m'\u001b[39m, \u001b[38;5;124m'\u001b[39m\u001b[38;5;124mgeneral_gaussian\u001b[39m\u001b[38;5;124m'\u001b[39m, \u001b[38;5;124m'\u001b[39m\u001b[38;5;124mgeneral_hamming\u001b[39m\u001b[38;5;124m'\u001b[39m,\n\u001b[1;32m     13\u001b[0m            \u001b[38;5;124m'\u001b[39m\u001b[38;5;124mchebwin\u001b[39m\u001b[38;5;124m'\u001b[39m, \u001b[38;5;124m'\u001b[39m\u001b[38;5;124mcosine\u001b[39m\u001b[38;5;124m'\u001b[39m, \u001b[38;5;124m'\u001b[39m\u001b[38;5;124mhann\u001b[39m\u001b[38;5;124m'\u001b[39m, \u001b[38;5;124m'\u001b[39m\u001b[38;5;124mexponential\u001b[39m\u001b[38;5;124m'\u001b[39m, \u001b[38;5;124m'\u001b[39m\u001b[38;5;124mtukey\u001b[39m\u001b[38;5;124m'\u001b[39m, \u001b[38;5;124m'\u001b[39m\u001b[38;5;124mtaylor\u001b[39m\u001b[38;5;124m'\u001b[39m,\n\u001b[1;32m     14\u001b[0m            \u001b[38;5;124m'\u001b[39m\u001b[38;5;124mdpss\u001b[39m\u001b[38;5;124m'\u001b[39m, \u001b[38;5;124m'\u001b[39m\u001b[38;5;124mget_window\u001b[39m\u001b[38;5;124m'\u001b[39m, \u001b[38;5;124m'\u001b[39m\u001b[38;5;124mlanczos\u001b[39m\u001b[38;5;124m'\u001b[39m]\n\u001b[1;32m     17\u001b[0m \u001b[38;5;28;01mdef\u001b[39;00m \u001b[38;5;21m_len_guards\u001b[39m(M):\n",
            "File \u001b[0;32m~/Documents/Università/Magistrale/ICT/lib/python3.11/site-packages/scipy/__init__.py:134\u001b[0m, in \u001b[0;36m__getattr__\u001b[0;34m(name)\u001b[0m\n\u001b[1;32m    132\u001b[0m \u001b[38;5;28;01mdef\u001b[39;00m \u001b[38;5;21m__getattr__\u001b[39m(name):\n\u001b[1;32m    133\u001b[0m     \u001b[38;5;28;01mif\u001b[39;00m name \u001b[38;5;129;01min\u001b[39;00m submodules:\n\u001b[0;32m--> 134\u001b[0m         \u001b[38;5;28;01mreturn\u001b[39;00m \u001b[43m_importlib\u001b[49m\u001b[38;5;241;43m.\u001b[39;49m\u001b[43mimport_module\u001b[49m\u001b[43m(\u001b[49m\u001b[38;5;124;43mf\u001b[39;49m\u001b[38;5;124;43m'\u001b[39;49m\u001b[38;5;124;43mscipy.\u001b[39;49m\u001b[38;5;132;43;01m{\u001b[39;49;00m\u001b[43mname\u001b[49m\u001b[38;5;132;43;01m}\u001b[39;49;00m\u001b[38;5;124;43m'\u001b[39;49m\u001b[43m)\u001b[49m\n\u001b[1;32m    135\u001b[0m     \u001b[38;5;28;01melse\u001b[39;00m:\n\u001b[1;32m    136\u001b[0m         \u001b[38;5;28;01mtry\u001b[39;00m:\n",
            "File \u001b[0;32m/opt/homebrew/Cellar/python@3.11/3.11.3/Frameworks/Python.framework/Versions/3.11/lib/python3.11/importlib/__init__.py:126\u001b[0m, in \u001b[0;36mimport_module\u001b[0;34m(name, package)\u001b[0m\n\u001b[1;32m    124\u001b[0m             \u001b[38;5;28;01mbreak\u001b[39;00m\n\u001b[1;32m    125\u001b[0m         level \u001b[38;5;241m+\u001b[39m\u001b[38;5;241m=\u001b[39m \u001b[38;5;241m1\u001b[39m\n\u001b[0;32m--> 126\u001b[0m \u001b[38;5;28;01mreturn\u001b[39;00m \u001b[43m_bootstrap\u001b[49m\u001b[38;5;241;43m.\u001b[39;49m\u001b[43m_gcd_import\u001b[49m\u001b[43m(\u001b[49m\u001b[43mname\u001b[49m\u001b[43m[\u001b[49m\u001b[43mlevel\u001b[49m\u001b[43m:\u001b[49m\u001b[43m]\u001b[49m\u001b[43m,\u001b[49m\u001b[43m \u001b[49m\u001b[43mpackage\u001b[49m\u001b[43m,\u001b[49m\u001b[43m \u001b[49m\u001b[43mlevel\u001b[49m\u001b[43m)\u001b[49m\n",
            "File \u001b[0;32m~/Documents/Università/Magistrale/ICT/lib/python3.11/site-packages/scipy/linalg/__init__.py:205\u001b[0m\n\u001b[1;32m    203\u001b[0m \u001b[38;5;28;01mfrom\u001b[39;00m \u001b[38;5;21;01m.\u001b[39;00m\u001b[38;5;21;01m_misc\u001b[39;00m \u001b[38;5;28;01mimport\u001b[39;00m \u001b[38;5;241m*\u001b[39m\n\u001b[1;32m    204\u001b[0m \u001b[38;5;28;01mfrom\u001b[39;00m \u001b[38;5;21;01m.\u001b[39;00m\u001b[38;5;21;01m_cythonized_array_utils\u001b[39;00m \u001b[38;5;28;01mimport\u001b[39;00m \u001b[38;5;241m*\u001b[39m\n\u001b[0;32m--> 205\u001b[0m \u001b[38;5;28;01mfrom\u001b[39;00m \u001b[38;5;21;01m.\u001b[39;00m\u001b[38;5;21;01m_basic\u001b[39;00m \u001b[38;5;28;01mimport\u001b[39;00m \u001b[38;5;241m*\u001b[39m\n\u001b[1;32m    206\u001b[0m \u001b[38;5;28;01mfrom\u001b[39;00m \u001b[38;5;21;01m.\u001b[39;00m\u001b[38;5;21;01m_decomp\u001b[39;00m \u001b[38;5;28;01mimport\u001b[39;00m \u001b[38;5;241m*\u001b[39m\n\u001b[1;32m    207\u001b[0m \u001b[38;5;28;01mfrom\u001b[39;00m \u001b[38;5;21;01m.\u001b[39;00m\u001b[38;5;21;01m_decomp_lu\u001b[39;00m \u001b[38;5;28;01mimport\u001b[39;00m \u001b[38;5;241m*\u001b[39m\n",
            "File \u001b[0;32m~/Documents/Università/Magistrale/ICT/lib/python3.11/site-packages/scipy/linalg/_basic.py:13\u001b[0m\n\u001b[1;32m     11\u001b[0m \u001b[38;5;28;01mfrom\u001b[39;00m \u001b[38;5;21;01m.\u001b[39;00m\u001b[38;5;21;01mlapack\u001b[39;00m \u001b[38;5;28;01mimport\u001b[39;00m get_lapack_funcs, _compute_lwork\n\u001b[1;32m     12\u001b[0m \u001b[38;5;28;01mfrom\u001b[39;00m \u001b[38;5;21;01m.\u001b[39;00m\u001b[38;5;21;01m_misc\u001b[39;00m \u001b[38;5;28;01mimport\u001b[39;00m LinAlgError, _datacopied, LinAlgWarning\n\u001b[0;32m---> 13\u001b[0m \u001b[38;5;28;01mfrom\u001b[39;00m \u001b[38;5;21;01m.\u001b[39;00m\u001b[38;5;21;01m_decomp\u001b[39;00m \u001b[38;5;28;01mimport\u001b[39;00m _asarray_validated\n\u001b[1;32m     14\u001b[0m \u001b[38;5;28;01mfrom\u001b[39;00m \u001b[38;5;21;01m.\u001b[39;00m \u001b[38;5;28;01mimport\u001b[39;00m _decomp, _decomp_svd\n\u001b[1;32m     15\u001b[0m \u001b[38;5;28;01mfrom\u001b[39;00m \u001b[38;5;21;01m.\u001b[39;00m\u001b[38;5;21;01m_solve_toeplitz\u001b[39;00m \u001b[38;5;28;01mimport\u001b[39;00m levinson\n",
            "File \u001b[0;32m~/Documents/Università/Magistrale/ICT/lib/python3.11/site-packages/scipy/linalg/_decomp.py:24\u001b[0m\n\u001b[1;32m     20\u001b[0m \u001b[38;5;28;01mfrom\u001b[39;00m \u001b[38;5;21;01mnumpy\u001b[39;00m \u001b[38;5;28;01mimport\u001b[39;00m (array, isfinite, inexact, nonzero, iscomplexobj,\n\u001b[1;32m     21\u001b[0m                    flatnonzero, conj, asarray, argsort, empty,\n\u001b[1;32m     22\u001b[0m                    iscomplex, zeros, einsum, eye, inf)\n\u001b[1;32m     23\u001b[0m \u001b[38;5;66;03m# Local imports\u001b[39;00m\n\u001b[0;32m---> 24\u001b[0m \u001b[38;5;28;01mfrom\u001b[39;00m \u001b[38;5;21;01mscipy\u001b[39;00m\u001b[38;5;21;01m.\u001b[39;00m\u001b[38;5;21;01m_lib\u001b[39;00m\u001b[38;5;21;01m.\u001b[39;00m\u001b[38;5;21;01m_util\u001b[39;00m \u001b[38;5;28;01mimport\u001b[39;00m _asarray_validated\n\u001b[1;32m     25\u001b[0m \u001b[38;5;28;01mfrom\u001b[39;00m \u001b[38;5;21;01m.\u001b[39;00m\u001b[38;5;21;01m_misc\u001b[39;00m \u001b[38;5;28;01mimport\u001b[39;00m LinAlgError, _datacopied, norm\n\u001b[1;32m     26\u001b[0m \u001b[38;5;28;01mfrom\u001b[39;00m \u001b[38;5;21;01m.\u001b[39;00m\u001b[38;5;21;01mlapack\u001b[39;00m \u001b[38;5;28;01mimport\u001b[39;00m get_lapack_funcs, _compute_lwork\n",
            "File \u001b[0;32m~/Documents/Università/Magistrale/ICT/lib/python3.11/site-packages/scipy/_lib/_util.py:18\u001b[0m\n\u001b[1;32m     10\u001b[0m \u001b[38;5;28;01mfrom\u001b[39;00m \u001b[38;5;21;01mtyping\u001b[39;00m \u001b[38;5;28;01mimport\u001b[39;00m (\n\u001b[1;32m     11\u001b[0m     Optional,\n\u001b[1;32m     12\u001b[0m     Union,\n\u001b[1;32m     13\u001b[0m     TYPE_CHECKING,\n\u001b[1;32m     14\u001b[0m     TypeVar,\n\u001b[1;32m     15\u001b[0m )\n\u001b[1;32m     17\u001b[0m \u001b[38;5;28;01mimport\u001b[39;00m \u001b[38;5;21;01mnumpy\u001b[39;00m \u001b[38;5;28;01mas\u001b[39;00m \u001b[38;5;21;01mnp\u001b[39;00m\n\u001b[0;32m---> 18\u001b[0m \u001b[38;5;28;01mfrom\u001b[39;00m \u001b[38;5;21;01mscipy\u001b[39;00m\u001b[38;5;21;01m.\u001b[39;00m\u001b[38;5;21;01m_lib\u001b[39;00m\u001b[38;5;21;01m.\u001b[39;00m\u001b[38;5;21;01m_array_api\u001b[39;00m \u001b[38;5;28;01mimport\u001b[39;00m array_namespace, is_numpy, size \u001b[38;5;28;01mas\u001b[39;00m xp_size\n\u001b[1;32m     21\u001b[0m AxisError: \u001b[38;5;28mtype\u001b[39m[\u001b[38;5;167;01mException\u001b[39;00m]\n\u001b[1;32m     22\u001b[0m ComplexWarning: \u001b[38;5;28mtype\u001b[39m[\u001b[38;5;167;01mWarning\u001b[39;00m]\n",
            "File \u001b[0;32m~/Documents/Università/Magistrale/ICT/lib/python3.11/site-packages/scipy/_lib/_array_api.py:21\u001b[0m\n\u001b[1;32m     18\u001b[0m \u001b[38;5;28;01mimport\u001b[39;00m \u001b[38;5;21;01mnumpy\u001b[39;00m\u001b[38;5;21;01m.\u001b[39;00m\u001b[38;5;21;01mtyping\u001b[39;00m \u001b[38;5;28;01mas\u001b[39;00m \u001b[38;5;21;01mnpt\u001b[39;00m\n\u001b[1;32m     20\u001b[0m \u001b[38;5;28;01mfrom\u001b[39;00m \u001b[38;5;21;01mscipy\u001b[39;00m\u001b[38;5;21;01m.\u001b[39;00m\u001b[38;5;21;01m_lib\u001b[39;00m \u001b[38;5;28;01mimport\u001b[39;00m array_api_compat\n\u001b[0;32m---> 21\u001b[0m \u001b[38;5;28;01mfrom\u001b[39;00m \u001b[38;5;21;01mscipy\u001b[39;00m\u001b[38;5;21;01m.\u001b[39;00m\u001b[38;5;21;01m_lib\u001b[39;00m\u001b[38;5;21;01m.\u001b[39;00m\u001b[38;5;21;01marray_api_compat\u001b[39;00m \u001b[38;5;28;01mimport\u001b[39;00m (\n\u001b[1;32m     22\u001b[0m     is_array_api_obj,\n\u001b[1;32m     23\u001b[0m     size,\n\u001b[1;32m     24\u001b[0m     numpy \u001b[38;5;28;01mas\u001b[39;00m np_compat,\n\u001b[1;32m     25\u001b[0m     device\n\u001b[1;32m     26\u001b[0m )\n\u001b[1;32m     28\u001b[0m __all__ \u001b[38;5;241m=\u001b[39m [\u001b[38;5;124m'\u001b[39m\u001b[38;5;124marray_namespace\u001b[39m\u001b[38;5;124m'\u001b[39m, \u001b[38;5;124m'\u001b[39m\u001b[38;5;124m_asarray\u001b[39m\u001b[38;5;124m'\u001b[39m, \u001b[38;5;124m'\u001b[39m\u001b[38;5;124msize\u001b[39m\u001b[38;5;124m'\u001b[39m, \u001b[38;5;124m'\u001b[39m\u001b[38;5;124mdevice\u001b[39m\u001b[38;5;124m'\u001b[39m]\n\u001b[1;32m     31\u001b[0m \u001b[38;5;66;03m# To enable array API and strict array-like input validation\u001b[39;00m\n",
            "File \u001b[0;32m~/Documents/Università/Magistrale/ICT/lib/python3.11/site-packages/scipy/_lib/array_api_compat/numpy/__init__.py:1\u001b[0m\n\u001b[0;32m----> 1\u001b[0m \u001b[38;5;28;01mfrom\u001b[39;00m \u001b[38;5;21;01mnumpy\u001b[39;00m \u001b[38;5;28;01mimport\u001b[39;00m \u001b[38;5;241m*\u001b[39m \u001b[38;5;66;03m# noqa: F403\u001b[39;00m\n\u001b[1;32m      3\u001b[0m \u001b[38;5;66;03m# from numpy import * doesn't overwrite these builtin names\u001b[39;00m\n\u001b[1;32m      4\u001b[0m \u001b[38;5;28;01mfrom\u001b[39;00m \u001b[38;5;21;01mnumpy\u001b[39;00m \u001b[38;5;28;01mimport\u001b[39;00m \u001b[38;5;28mabs\u001b[39m, \u001b[38;5;28mmax\u001b[39m, \u001b[38;5;28mmin\u001b[39m, \u001b[38;5;28mround\u001b[39m \u001b[38;5;66;03m# noqa: F401\u001b[39;00m\n",
            "File \u001b[0;32m~/Documents/Università/Magistrale/ICT/lib/python3.11/site-packages/numpy/__init__.py:370\u001b[0m, in \u001b[0;36m__getattr__\u001b[0;34m(attr)\u001b[0m\n\u001b[1;32m    365\u001b[0m         \u001b[38;5;28;01mraise\u001b[39;00m \u001b[38;5;167;01mAssertionError\u001b[39;00m()\n\u001b[1;32m    366\u001b[0m \u001b[38;5;28;01mexcept\u001b[39;00m \u001b[38;5;167;01mAssertionError\u001b[39;00m:\n\u001b[1;32m    367\u001b[0m     msg \u001b[38;5;241m=\u001b[39m (\u001b[38;5;124m\"\u001b[39m\u001b[38;5;124mThe current Numpy installation (\u001b[39m\u001b[38;5;132;01m{!r}\u001b[39;00m\u001b[38;5;124m) fails to \u001b[39m\u001b[38;5;124m\"\u001b[39m\n\u001b[1;32m    368\u001b[0m            \u001b[38;5;124m\"\u001b[39m\u001b[38;5;124mpass simple sanity checks. This can be caused for example \u001b[39m\u001b[38;5;124m\"\u001b[39m\n\u001b[1;32m    369\u001b[0m            \u001b[38;5;124m\"\u001b[39m\u001b[38;5;124mby incorrect BLAS library being linked in, or by mixing \u001b[39m\u001b[38;5;124m\"\u001b[39m\n\u001b[0;32m--> 370\u001b[0m            \u001b[38;5;124m\"\u001b[39m\u001b[38;5;124mpackage managers (pip, conda, apt, ...). Search closed \u001b[39m\u001b[38;5;124m\"\u001b[39m\n\u001b[1;32m    371\u001b[0m            \u001b[38;5;124m\"\u001b[39m\u001b[38;5;124mnumpy issues for similar problems.\u001b[39m\u001b[38;5;124m\"\u001b[39m)\n\u001b[1;32m    372\u001b[0m     \u001b[38;5;28;01mraise\u001b[39;00m \u001b[38;5;167;01mRuntimeError\u001b[39;00m(msg\u001b[38;5;241m.\u001b[39mformat(\u001b[38;5;18m__file__\u001b[39m)) \u001b[38;5;28;01mfrom\u001b[39;00m \u001b[38;5;28;01mNone\u001b[39;00m\n",
            "\u001b[0;31mModuleNotFoundError\u001b[0m: No module named 'numpy.char'"
          ]
        }
      ],
      "source": [
        "from pyannote.audio.utils.preview import listen\n",
        "from pyannote.core import Segment\n",
        "one_minute = Segment(240, 300)\n",
        "listen(first_training_file, one_minute)"
      ]
    },
    {
      "cell_type": "markdown",
      "metadata": {
        "id": "YcaphgDisUrn"
      },
      "source": [
        "... and visualize the manual annotation:"
      ]
    },
    {
      "cell_type": "code",
      "execution_count": 12,
      "metadata": {
        "id": "7GhMtZHrsUrn"
      },
      "outputs": [
        {
          "ename": "NameError",
          "evalue": "name 'one_minute' is not defined",
          "output_type": "error",
          "traceback": [
            "\u001b[0;31m---------------------------------------------------------------------------\u001b[0m",
            "\u001b[0;31mNameError\u001b[0m                                 Traceback (most recent call last)",
            "Cell \u001b[0;32mIn[12], line 2\u001b[0m\n\u001b[1;32m      1\u001b[0m \u001b[38;5;28;01mfrom\u001b[39;00m \u001b[38;5;21;01mpyannote\u001b[39;00m\u001b[38;5;21;01m.\u001b[39;00m\u001b[38;5;21;01mcore\u001b[39;00m \u001b[38;5;28;01mimport\u001b[39;00m notebook\n\u001b[0;32m----> 2\u001b[0m notebook\u001b[38;5;241m.\u001b[39mcrop \u001b[38;5;241m=\u001b[39m \u001b[43mone_minute\u001b[49m\n",
            "\u001b[0;31mNameError\u001b[0m: name 'one_minute' is not defined"
          ]
        }
      ],
      "source": [
        "from pyannote.core import notebook\n",
        "notebook.crop = one_minute"
      ]
    },
    {
      "cell_type": "markdown",
      "metadata": {
        "id": "trii9yj1sUro"
      },
      "source": [
        "## Training"
      ]
    },
    {
      "cell_type": "markdown",
      "metadata": {
        "id": "daYanXWqsUro"
      },
      "source": [
        "We initialize a VAD *task* that describes how the model will be trained:\n",
        "\n",
        "* `ami` indicates that we will use files available in `ami.train()`.\n",
        "* `duration=2.` and `batch_size=128` indicates that the model will ingest batches of 128 two seconds long audio chunks."
      ]
    },
    {
      "cell_type": "code",
      "execution_count": null,
      "metadata": {
        "id": "VmXdQi7wsUro"
      },
      "outputs": [],
      "source": [
        "from pyannote.audio.tasks import VoiceActivityDetection\n",
        "vad = VoiceActivityDetection(ami, duration=2., batch_size=128)"
      ]
    },
    {
      "cell_type": "markdown",
      "metadata": {
        "id": "yt6sr6QnsUro"
      },
      "source": [
        "We initialize one *model* with the `PyanNet` architecture used [in that paper](https://arxiv.org/abs/2104.04045).\n",
        "\n",
        "\n",
        "![](https://d3i71xaburhd42.cloudfront.net/2540f32662aad59f66d0d9b00b9ad4721a9e522a/2-Figure1-1.png)\n",
        "\n",
        "\n",
        "In particular, we increase the default stride of the initial `sincnet` feature extraction layer to `10`.\n",
        "The model is also provided with the task (`task=vad`) for which it is being trained:"
      ]
    },
    {
      "cell_type": "code",
      "execution_count": null,
      "metadata": {
        "id": "iMT-1fJMsUro"
      },
      "outputs": [],
      "source": [
        "from pyannote.audio.models.segmentation import PyanNet\n",
        "model = PyanNet(sincnet={'stride': 10}, task=vad).cuda()"
      ]
    },
    {
      "cell_type": "markdown",
      "metadata": {
        "id": "dDyLoLuNsUro"
      },
      "source": [
        "Now that everything is ready, let's train with `pytorch-ligthning`!"
      ]
    },
    {
      "cell_type": "code",
      "execution_count": null,
      "metadata": {
        "id": "2Ce0OEnosUro"
      },
      "outputs": [],
      "source": [
        "import pytorch_lightning as pl\n",
        "trainer = pl.Trainer(devices=1, accelerator=\"gpu\", max_epochs=2)\n",
        "trainer.fit(model)"
      ]
    },
    {
      "cell_type": "markdown",
      "metadata": {
        "id": "0rvkENF8sUro"
      },
      "source": [
        "For the purpose of this tutorial, the model is trained for only 2 epochs. One can obviously expect better performance by training longer and on more data.\n",
        "\n",
        "See [`pytorch-lightning`](https://www.pytorchlightning.ai/) documentation to learn more about the [`Trainer` API](https://pytorch-lightning.readthedocs.io/en/latest/common/trainer.html), in particular."
      ]
    },
    {
      "cell_type": "markdown",
      "metadata": {
        "id": "HQOznETesUro"
      },
      "source": [
        "## Inference\n",
        "\n",
        "Once trained, the model can be applied to a test file:"
      ]
    },
    {
      "cell_type": "code",
      "execution_count": null,
      "metadata": {
        "id": "G1Cckon8sUrp"
      },
      "outputs": [],
      "source": [
        "test_file = next(ami.test())\n",
        "# here we use a test file provided by the protocol, but it could be any audio file\n",
        "# e.g. test_file = \"/path/to/test.wav\"."
      ]
    },
    {
      "cell_type": "markdown",
      "metadata": {
        "id": "7KY1rxyOsUrp"
      },
      "source": [
        "Because the model was trained on 2s audio chunks and that test files are likely to be much longer than that, we wrap the `model` with an `Inference` instance: it will take care of sliding a 2s window over the whole file and aggregate the output of the model."
      ]
    },
    {
      "cell_type": "code",
      "execution_count": null,
      "metadata": {
        "id": "kTjedLegsUrp"
      },
      "outputs": [],
      "source": [
        "from pyannote.audio import Inference\n",
        "inference = Inference(model)\n",
        "vad_probability = inference(test_file)"
      ]
    },
    {
      "cell_type": "code",
      "execution_count": null,
      "metadata": {
        "id": "qDARsUbqsUrp"
      },
      "outputs": [],
      "source": [
        "vad_probability"
      ]
    },
    {
      "cell_type": "markdown",
      "metadata": {
        "id": "RMncBNxEsUrp"
      },
      "source": [
        "Perfect voice activity detection output should look like that:"
      ]
    },
    {
      "cell_type": "code",
      "execution_count": null,
      "metadata": {
        "id": "6qcdVvWqsUrp"
      },
      "outputs": [],
      "source": [
        "expected_output = test_file[\"annotation\"].get_timeline().support()\n",
        "expected_output"
      ]
    },
    {
      "cell_type": "markdown",
      "metadata": {
        "id": "PRgTNsIrsUrp"
      },
      "source": [
        "## Pipeline"
      ]
    },
    {
      "cell_type": "markdown",
      "metadata": {
        "id": "kkpAphCTsUrp"
      },
      "source": [
        "Almost there! To obtain the final speech regions, we need to apply a detection threshold.  \n",
        "For that, we rely on the voice activity detection pipeline whose hyper-parameters are set manually:\n",
        "- `onset=0.6`: mark region as `active` when probability goes above 0.6\n",
        "- `offset=0.4`: switch back to `inactive` when probability goes below 0.4\n",
        "- `min_duration_on=0.0`: remove `active` regions shorter than that many seconds\n",
        "- `min_duration_off=0.0`: fill `inactive` regions shorter than that many seconds\n",
        "\n",
        "\n",
        "More details about those hyper-parameters are provided in Figure 2 of [that paper](https://arxiv.org/abs/2104.04045)."
      ]
    },
    {
      "cell_type": "code",
      "execution_count": null,
      "metadata": {
        "id": "u-QRhOzusUrp"
      },
      "outputs": [],
      "source": [
        "from pyannote.audio.pipelines import VoiceActivityDetection as VoiceActivityDetectionPipeline\n",
        "pipeline = VoiceActivityDetectionPipeline(segmentation=model)\n",
        "initial_params = {\"onset\": 0.6, \"offset\": 0.4,\n",
        "                  \"min_duration_on\": 0.0, \"min_duration_off\": 0.0}\n",
        "pipeline.instantiate(initial_params)"
      ]
    },
    {
      "cell_type": "markdown",
      "metadata": {
        "id": "YTyrigjFsUrp"
      },
      "source": [
        "Here we go:"
      ]
    },
    {
      "cell_type": "code",
      "execution_count": null,
      "metadata": {
        "id": "_xk_bQ5wsUrp"
      },
      "outputs": [],
      "source": [
        "pipeline(test_file).get_timeline()"
      ]
    },
    {
      "cell_type": "code",
      "execution_count": null,
      "metadata": {
        "id": "Rtj0pyyPsUrp"
      },
      "outputs": [],
      "source": [
        "expected_output"
      ]
    },
    {
      "cell_type": "markdown",
      "metadata": {
        "id": "KPdt8rh6sUrp"
      },
      "source": [
        "Looks decent! Let's perform a proper evaluation by computing the [detection error rate](https://pyannote.github.io/pyannote-metrics/reference.html#detection) over the whole AMI test set:\n",
        "\n",
        "\n",
        "$$detection\\_error\\_rate = \\frac{false\\_alarm + missed\\_detection}{total}$$\n",
        "\n",
        "\n",
        "where $false\\_alarm$ is the duration of non-speech incorrectly classified as speech, $missed\\_detection$ is the duration of speech incorrectly classified as non-speech, and $total$ is the total duration of speech in the reference"
      ]
    },
    {
      "cell_type": "code",
      "execution_count": null,
      "metadata": {
        "id": "_7a6tZdMsUrp"
      },
      "outputs": [],
      "source": [
        "from pyannote.metrics.detection import DetectionErrorRate\n",
        "metric = DetectionErrorRate()\n",
        "\n",
        "for file in ami.test():\n",
        "\n",
        "    # apply the voice activity detection pipeline\n",
        "    speech = pipeline(file)\n",
        "\n",
        "    # evaluate its output\n",
        "    _ = metric(\n",
        "        file['annotation'],     # this is the reference annotation\n",
        "        speech,                 # this is the hypothesized annotation\n",
        "        uem=file['annotated'])  # this is the part of the file that should be evaluated\n",
        "\n",
        "# aggregate the performance over the whole test set\n",
        "detection_error_rate = abs(metric)\n",
        "print(f'Detection error rate = {detection_error_rate * 100:.1f}%')"
      ]
    },
    {
      "cell_type": "markdown",
      "metadata": {
        "id": "C0gyncQUsUrp"
      },
      "source": [
        "## Optimizing pipeline hyper-parameters"
      ]
    },
    {
      "cell_type": "markdown",
      "metadata": {
        "id": "r3xJNYhwsUrp"
      },
      "source": [
        "While good enough, the hyper-parameters that we chose manually, we can try to optimize `onset` and `offset` on the development (a.k.a. validation) set to get better performance (and freeze the other two hyper-parameters)."
      ]
    },
    {
      "cell_type": "code",
      "execution_count": null,
      "metadata": {
        "id": "sokYhDaYsUrq"
      },
      "outputs": [],
      "source": [
        "pipeline.freeze({'min_duration_on': 0.0, 'min_duration_off': 0.0})"
      ]
    },
    {
      "cell_type": "code",
      "execution_count": null,
      "metadata": {
        "id": "cZzIGO0OsUrq"
      },
      "outputs": [],
      "source": [
        "from pyannote.pipeline import Optimizer\n",
        "\n",
        "optimizer = Optimizer(pipeline)\n",
        "optimizer.tune(list(ami.development()),\n",
        "               warm_start=initial_params,\n",
        "               n_iterations=20,\n",
        "               show_progress=False)\n",
        "\n",
        "optimized_params = optimizer.best_params"
      ]
    },
    {
      "cell_type": "markdown",
      "metadata": {
        "id": "sLo2Fl0csUrq"
      },
      "source": [
        "There you go: better hyper-parameters that (should) lead to better results!"
      ]
    },
    {
      "cell_type": "code",
      "execution_count": null,
      "metadata": {
        "id": "YmyPm_R2sUrq"
      },
      "outputs": [],
      "source": [
        "print(optimized_params)"
      ]
    },
    {
      "cell_type": "markdown",
      "metadata": {
        "id": "oBYUCAJpsUrq"
      },
      "source": [
        "Let's evaluate the voice activity detection pipeline with this new set of hyper-parameters:"
      ]
    },
    {
      "cell_type": "code",
      "execution_count": null,
      "metadata": {
        "id": "eJTey8C8sUrx"
      },
      "outputs": [],
      "source": [
        "optimized_pipeline = pipeline.instantiate(optimized_params)\n",
        "\n",
        "metric = DetectionErrorRate()\n",
        "\n",
        "for file in ami.test():\n",
        "    speech = optimized_pipeline(file)\n",
        "    _ = metric(file['annotation'], speech, uem=file['annotated'])\n",
        "\n",
        "detection_error_rate = abs(metric)\n",
        "print(f'Detection error rate = {detection_error_rate * 100:.1f}%')"
      ]
    },
    {
      "cell_type": "markdown",
      "metadata": {
        "id": "ZXzOcGKlsUrx"
      },
      "source": [
        "*🎉* Yeay! 2% relativement improvement simply by tuning the thresholds."
      ]
    }
  ],
  "metadata": {
    "accelerator": "GPU",
    "colab": {
      "provenance": []
    },
    "kernelspec": {
      "display_name": "ICT",
      "language": "python",
      "name": "python3"
    },
    "language_info": {
      "codemirror_mode": {
        "name": "ipython",
        "version": 3
      },
      "file_extension": ".py",
      "mimetype": "text/x-python",
      "name": "python",
      "nbconvert_exporter": "python",
      "pygments_lexer": "ipython3",
      "version": "3.11.3"
    }
  },
  "nbformat": 4,
  "nbformat_minor": 0
}
