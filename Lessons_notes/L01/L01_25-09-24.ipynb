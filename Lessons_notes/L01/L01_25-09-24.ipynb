{
 "cells": [
  {
   "cell_type": "markdown",
   "metadata": {},
   "source": [
    "# L01"
   ]
  },
  {
   "cell_type": "markdown",
   "metadata": {},
   "source": [
    "## Introduction\n",
    "Slide L01  \n",
    "\n",
    "Various definitions:\n",
    "#### Intelligent\n",
    "Just the definition of it, which is different from intelligence as seen from a human perspective (McCarthy cit.)\n",
    "\n",
    "\n",
    "#### Consumer\n",
    "Consumer it's not just the singular elements of its composition but can be seen as an entity just like businnesses.\n",
    "When thinking about consumer we also have to take into account its market: Different market, different people, rules and preferences. Also, an existing technology may have to be refined in order to be tailored on the local people (like facial recognition systems).  \n",
    "\n",
    "#### Technology\n",
    "\n",
    "----\n",
    "As of right now the technology is pretty narrow, something that is able to do the task in a simple way and that's it. Specialized AI models (image classifications and so on), this is what is needed for consumers.  \n",
    "Infrastructure and AI goes hand in hand, they have to be developed at the same time in parallel."
   ]
  },
  {
   "cell_type": "markdown",
   "metadata": {},
   "source": []
  }
 ],
 "metadata": {
  "language_info": {
   "name": "python"
  }
 },
 "nbformat": 4,
 "nbformat_minor": 2
}
