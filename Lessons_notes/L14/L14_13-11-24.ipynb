{
 "cells": [
  {
   "cell_type": "markdown",
   "metadata": {},
   "source": [
    "# L14"
   ]
  },
  {
   "cell_type": "markdown",
   "metadata": {},
   "source": [
    "# Image Recognition (attributes)"
   ]
  },
  {
   "cell_type": "markdown",
   "metadata": {},
   "source": [
    "### Automatic image quality assessment\n",
    "The main issue is that quality assessment is a subjective  measure, but statistically we can converge to a final empirical evaluation. Of course, the population has to be eterogeneous and stratified correctly.  \n",
    "\n",
    "$$MOS = \\frac{\\sum_{n=1}^{N}{R_n}}{N}$$"
   ]
  },
  {
   "cell_type": "markdown",
   "metadata": {},
   "source": [
    "$MOS$ Stands for Mean Opinion Score, has been used for subjective quality assessment.  \n",
    "It is inconvenient, time consuming and expensive.  \n",
    "The score ranges from 1 to 5. Many experts are questioned to assess the quality of the images.  \n",
    "\n",
    "### Objective Quality measure\n",
    "Develop a quantitative measure that can predict perceived image quality.  \n",
    "\n",
    "PLCC, SROCC are correlation coefficients.  \n",
    "MSE, PSNR (signal to noise ratio).  \n",
    "The problem is that they do not capture the way us humans perceive quality, so it's not much useful.  \n",
    "SSIM - Structyral similarity index, is designed to improve on traditional metrics like PSNR and MSE, which have provced to be inconsistent with human eye perception. Based on human visual system.  \n"
   ]
  },
  {
   "cell_type": "markdown",
   "metadata": {},
   "source": [
    "### Blind image quality assessment\n",
    "Bovik"
   ]
  },
  {
   "cell_type": "markdown",
   "metadata": {},
   "source": [
    "### Image Aesthetic"
   ]
  },
  {
   "cell_type": "markdown",
   "metadata": {},
   "source": []
  }
 ],
 "metadata": {
  "language_info": {
   "name": "python"
  }
 },
 "nbformat": 4,
 "nbformat_minor": 2
}
