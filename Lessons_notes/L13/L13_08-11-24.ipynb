{
 "cells": [
  {
   "cell_type": "markdown",
   "metadata": {},
   "source": [
    "# L13 LAB - Mobile Machine learning"
   ]
  },
  {
   "cell_type": "markdown",
   "metadata": {},
   "source": [
    "# Economic reasons\n",
    "- Infrastructure\n",
    "- Data scientists\n",
    "- Time consuming process"
   ]
  },
  {
   "cell_type": "markdown",
   "metadata": {},
   "source": [
    "# Skepticism\n",
    "\n",
    "- Don't want to scare away already customers\n",
    "- Unknown return of investments\n",
    "- Lack of information\n"
   ]
  },
  {
   "cell_type": "markdown",
   "metadata": {},
   "source": [
    "# Lack of knowledge on the subject\n",
    "- Not being aware of this new approach to business\n",
    "- Not enough experts in the market yet"
   ]
  },
  {
   "cell_type": "markdown",
   "metadata": {},
   "source": [
    "# Regulations\n",
    "- Being scared of infrigments of current regulations\n",
    "- Lack of global common regulation"
   ]
  },
  {
   "cell_type": "markdown",
   "metadata": {},
   "source": []
  }
 ],
 "metadata": {
  "language_info": {
   "name": "python"
  }
 },
 "nbformat": 4,
 "nbformat_minor": 2
}
