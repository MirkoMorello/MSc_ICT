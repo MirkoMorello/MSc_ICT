{
 "cells": [
  {
   "cell_type": "markdown",
   "metadata": {},
   "source": [
    "---\n",
    "# <center>Dataset creation"
   ]
  },
  {
   "cell_type": "code",
   "execution_count": null,
   "metadata": {},
   "outputs": [],
   "source": [
    "import os\n",
    "import torch\n",
    "import torch.nn as nn\n",
    "import torch.optim as optim\n",
    "from torch.utils.data import Dataset, DataLoader\n",
    "import torchaudio\n",
    "import torchaudio.transforms as T\n",
    "import torch.nn.functional as F\n",
    "from tqdm import tqdm\n",
    "\n",
    "#################################\n",
    "# Dataset and Data Preparation  #\n",
    "#################################\n",
    "\n",
    "class SubsetSC(torchaudio.datasets.SPEECHCOMMANDS):\n",
    "    def __init__(self, subset: str = None, root=\"./datasets/speechcommand\", download=True):\n",
    "        # Creates the directory where download the dataset if it doesn't exists.\n",
    "        if not os.path.exists(root) and download:\n",
    "            os.mkdir(root)\n",
    "        super().__init__(root=root, download=download)\n",
    "        def load_list(filename):\n",
    "            filepath = os.path.join(self._path, filename)\n",
    "            with open(filepath) as f:\n",
    "                return [os.path.join(self._path, line.strip()) for line in f]\n",
    "        if subset == \"validation\":\n",
    "            self._walker = load_list(\"validation_list.txt\")\n",
    "        elif subset == \"testing\":\n",
    "            self._walker = load_list(\"testing_list.txt\")\n",
    "        elif subset == \"training\":\n",
    "            excludes = load_list(\"validation_list.txt\") + load_list(\"testing_list.txt\")\n",
    "            excludes = set(excludes)\n",
    "            self._walker = [w for w in self._walker if w not in excludes]\n",
    "\n",
    "\n",
    "class InMemorySpeechCommands(Dataset):\n",
    "    def __init__(self, subset=\"training\", fixed_length=16000):\n",
    "        \"\"\"\n",
    "        Args:\n",
    "          subset: One of \"training\", \"validation\", \"testing\".\n",
    "          fixed_length: The desired number of audio samples per clip.\n",
    "        \"\"\"\n",
    "        self.fixed_length = fixed_length\n",
    "        self.dataset = SubsetSC(subset=subset, root=\"./datasets/speechcommand\", download=True)\n",
    "        self.data = []\n",
    "        self.labels = []\n",
    "        \n",
    "        # Build label index from the dataset's actual folder location\n",
    "        dataset_root = self.dataset._path  # use the path used by the dataset\n",
    "        all_labels = [\n",
    "            d for d in os.listdir(dataset_root)\n",
    "            if os.path.isdir(os.path.join(dataset_root, d)) and d != '_background_noise_'\n",
    "        ]\n",
    "        self.label_set = sorted(all_labels)\n",
    "        self.label_to_idx = {label: idx for idx, label in enumerate(self.label_set)}\n",
    "        print(f\"Found {len(self.label_set)} labels: {self.label_set}\")\n",
    "        \n",
    "        # Load all samples into memory (resample, pad/trim)\n",
    "        for waveform, sample_rate, label, *_ in tqdm(self.dataset, desc=f\"Loading {subset} data\", leave=False):\n",
    "            if sample_rate != 16000:\n",
    "                resampler = T.Resample(orig_freq=sample_rate, new_freq=16000)\n",
    "                waveform = resampler(waveform)\n",
    "            waveform = waveform.squeeze(0)  # Remove channel dimension if exists\n",
    "            if waveform.size(0) > fixed_length:\n",
    "                waveform = waveform[:fixed_length]\n",
    "            elif waveform.size(0) < fixed_length:\n",
    "                waveform = F.pad(waveform, (0, fixed_length - waveform.size(0)))\n",
    "            self.data.append(waveform)\n",
    "            try:\n",
    "                self.labels.append(self.label_to_idx[label])\n",
    "            except KeyError:\n",
    "                # If a label is encountered that's not in our mapping, add it\n",
    "                # (or alternatively, you could skip it or raise an error)\n",
    "                new_idx = len(self.label_to_idx)\n",
    "                print(f\"New label found: {label}. Assigning new index {new_idx}\")\n",
    "                self.label_to_idx[label] = new_idx\n",
    "                self.label_set.append(label)\n",
    "                self.labels.append(new_idx)\n",
    "            \n",
    "    def __len__(self):\n",
    "        return len(self.data)\n",
    "    \n",
    "    def __getitem__(self, idx):\n",
    "        return self.data[idx], self.fixed_length, self.labels[idx]\n",
    "\n"
   ]
  },
  {
   "cell_type": "markdown",
   "metadata": {},
   "source": [
    "---\n",
    "# <center>Model Architecture"
   ]
  },
  {
   "cell_type": "code",
   "execution_count": 2,
   "metadata": {},
   "outputs": [],
   "source": [
    "class MaskedConv1d(nn.Module):\n",
    "    def __init__(self, in_channels, out_channels, kernel_size, stride=1,\n",
    "                 padding=0, dilation=1, groups=1, bias=True):\n",
    "        super().__init__()\n",
    "        self.conv = nn.Conv1d(in_channels, out_channels, kernel_size, stride=stride,\n",
    "                              padding=padding, dilation=dilation, groups=groups, bias=bias)\n",
    "        self.padding = padding\n",
    "        self.dilation = dilation\n",
    "        self.stride = stride\n",
    "        self.kernel_size = kernel_size\n",
    "\n",
    "    def forward(self, x, length):\n",
    "        max_length = x.size(2)\n",
    "        length = torch.div(((length + 2 * self.padding - self.dilation * (self.kernel_size - 1) - 1).float() + self.stride),\n",
    "                           self.stride, rounding_mode='floor').long()\n",
    "        mask = torch.arange(max_length, device=x.device)[None, :] < length[:, None]\n",
    "        x = x * mask.unsqueeze(1)\n",
    "        x = self.conv(x)\n",
    "        return x, length\n",
    "\n",
    "class JasperBlock(nn.Module):\n",
    "    def __init__(self, in_channels, out_channels, kernel_size, stride=1, padding=0, dilation=1, dropout=0.0, residual=False):\n",
    "        super().__init__()\n",
    "        self.mconv = nn.ModuleList([\n",
    "            MaskedConv1d(in_channels, in_channels, kernel_size, stride=stride, padding=padding, dilation=dilation, groups=in_channels, bias=False),\n",
    "            MaskedConv1d(in_channels, out_channels, kernel_size=1, stride=1, bias=False),\n",
    "            nn.BatchNorm1d(out_channels)\n",
    "        ])\n",
    "        self.res = None\n",
    "        if residual:\n",
    "            self.res = nn.ModuleList([\n",
    "                nn.ModuleList([\n",
    "                    MaskedConv1d(in_channels, out_channels, kernel_size=1, stride=stride, bias=False),\n",
    "                    nn.BatchNorm1d(out_channels)\n",
    "                ])\n",
    "            ])\n",
    "        self.mout = nn.Sequential(\n",
    "            nn.ReLU(inplace=True),\n",
    "            nn.Dropout(p=dropout)\n",
    "        )\n",
    "\n",
    "    def forward(self, x, length):\n",
    "        residual = x\n",
    "        res_length = length\n",
    "        out = x\n",
    "        out_length = length\n",
    "        for layer in self.mconv:\n",
    "            if isinstance(layer, MaskedConv1d):\n",
    "                out, out_length = layer(out, out_length)\n",
    "            else:\n",
    "                out = layer(out)\n",
    "        if self.res:\n",
    "            for res_layer_list in self.res:\n",
    "                res = residual\n",
    "                for layer in res_layer_list:\n",
    "                    if isinstance(layer, MaskedConv1d):\n",
    "                        res, _ = layer(res, res_length)\n",
    "                    else:\n",
    "                        res = layer(res)\n",
    "                residual = res\n",
    "        if self.res is not None:\n",
    "            out = out + residual\n",
    "        out = self.mout(out)\n",
    "        return out, out_length\n",
    "\n",
    "class ConvASREncoder(nn.Module):\n",
    "    def __init__(self, in_channels, blocks_params):\n",
    "        super().__init__()\n",
    "        layers = [JasperBlock(**params) for params in blocks_params]\n",
    "        self.encoder = nn.Sequential(*layers)\n",
    "        self.in_channels = in_channels\n",
    "\n",
    "    def forward(self, x, length):\n",
    "        for layer in self.encoder:\n",
    "            x, length = layer(x, length)\n",
    "        return x, length\n",
    "\n",
    "class AudioToMFCCPreprocessor(nn.Module):\n",
    "    def __init__(self, sample_rate=16000, n_mels=64, n_mfcc=64, n_fft=512, hop_length=160, f_min=0, f_max=8000):\n",
    "        super().__init__()\n",
    "        self.featurizer = T.MFCC(\n",
    "            sample_rate=sample_rate,\n",
    "            n_mfcc=n_mfcc,\n",
    "            melkwargs={\n",
    "                \"n_fft\": n_fft,\n",
    "                \"n_mels\": n_mels,\n",
    "                \"hop_length\": hop_length,\n",
    "                \"f_min\": f_min,\n",
    "                \"f_max\": f_max,\n",
    "            },\n",
    "        )\n",
    "\n",
    "    def forward(self, x, length):\n",
    "        with torch.no_grad():\n",
    "            x = self.featurizer(x)\n",
    "        return x, length\n",
    "\n",
    "class ConvASRDecoderClassification(nn.Module):\n",
    "    def __init__(self, in_features, num_classes):\n",
    "        super().__init__()\n",
    "        self.pooling = nn.AdaptiveAvgPool1d(output_size=1)\n",
    "        self.decoder_layers = nn.Sequential(\n",
    "            nn.Linear(in_features, num_classes)\n",
    "        )\n",
    "\n",
    "    def forward(self, x):\n",
    "        x = self.pooling(x)\n",
    "        x = x.squeeze(2)\n",
    "        x = self.decoder_layers(x)\n",
    "        return x\n",
    "\n",
    "class TopKClassificationAccuracy(nn.Module):\n",
    "    def __init__(self, k=(1,)):\n",
    "        super().__init__()\n",
    "        self.k = k\n",
    "\n",
    "    def forward(self, logits, targets):\n",
    "        with torch.no_grad():\n",
    "            maxk = max(self.k)\n",
    "            batch_size = targets.size(0)\n",
    "            _, pred = logits.topk(maxk, 1, True, True)\n",
    "            pred = pred.t()\n",
    "            correct = pred.eq(targets.view(1, -1).expand_as(pred))\n",
    "            res = []\n",
    "            for k in self.k:\n",
    "                correct_k = correct[:k].reshape(-1).float().sum(0, keepdim=True)\n",
    "                res.append(correct_k.mul_(100.0 / batch_size))\n",
    "            return res[0] if len(res) == 1 else res\n",
    "\n",
    "class EncDecClassificationModel(nn.Module):\n",
    "    def __init__(self, num_classes, sample_rate=16000, n_mels=64, n_mfcc=64, n_fft=512, hop_length=160, f_min=0, f_max=8000):\n",
    "        super().__init__()\n",
    "        self.preprocessor = AudioToMFCCPreprocessor(\n",
    "            sample_rate=sample_rate, n_mels=n_mels, n_mfcc=n_mfcc,\n",
    "            n_fft=n_fft, hop_length=hop_length, f_min=f_min, f_max=f_max)\n",
    "        blocks_params = [\n",
    "            {\"in_channels\": n_mfcc, \"out_channels\": 128, \"kernel_size\": 11, \"stride\": 1, \"padding\": 5, \"dilation\": 1, \"dropout\": 0.0, \"residual\": False},\n",
    "            {\"in_channels\": 128, \"out_channels\": 64, \"kernel_size\": 13, \"stride\": 1, \"padding\": 6, \"dilation\": 1, \"dropout\": 0.0, \"residual\": True},\n",
    "            {\"in_channels\": 64, \"out_channels\": 64, \"kernel_size\": 15, \"stride\": 1, \"padding\": 7, \"dilation\": 1, \"dropout\": 0.0, \"residual\": True},\n",
    "            {\"in_channels\": 64, \"out_channels\": 64, \"kernel_size\": 17, \"stride\": 1, \"padding\": 8, \"dilation\": 1, \"dropout\": 0.0, \"residual\": True},\n",
    "            {\"in_channels\": 64, \"out_channels\": 128, \"kernel_size\": 29, \"stride\": 1, \"padding\": 28, \"dilation\": 2, \"dropout\": 0.0, \"residual\": False},\n",
    "            {\"in_channels\": 128, \"out_channels\": 128, \"kernel_size\": 1, \"stride\": 1, \"padding\": 0, \"dilation\": 1, \"dropout\": 0.0, \"residual\": False},\n",
    "        ]\n",
    "        self.encoder = ConvASREncoder(in_channels=n_mfcc, blocks_params=blocks_params)\n",
    "        self.decoder = ConvASRDecoderClassification(in_features=128, num_classes=num_classes)\n",
    "        self.loss = nn.CrossEntropyLoss()\n",
    "        self._accuracy = TopKClassificationAccuracy()\n",
    "\n",
    "    def forward(self, x, length, y=None):\n",
    "        x, length = self.preprocessor(x, length)\n",
    "        x, length = self.encoder(x, length)\n",
    "        logits = self.decoder(x)\n",
    "        if y is not None:\n",
    "            loss = self.loss(logits, y)\n",
    "            acc = self._accuracy(logits, y)\n",
    "            return loss, acc, logits\n",
    "        else:\n",
    "            return logits\n",
    "\n",
    "    def predict(self, x, length):\n",
    "        with torch.no_grad():\n",
    "            logits = self.forward(x, length)\n",
    "            return torch.argmax(logits, dim=-1)\n"
   ]
  },
  {
   "cell_type": "markdown",
   "metadata": {},
   "source": [
    "---\n",
    "# <center>Training"
   ]
  },
  {
   "cell_type": "code",
   "execution_count": 3,
   "metadata": {},
   "outputs": [],
   "source": [
    "def train_epoch(model, train_loader, optimizer, device, epoch):\n",
    "    model.train()\n",
    "    running_loss = 0.0\n",
    "    running_accuracy = 0.0\n",
    "    total_samples = 0\n",
    "\n",
    "    progress_bar = tqdm(train_loader, desc=f\"Epoch {epoch} [Train]\", leave=False)\n",
    "    for waveforms, lengths, labels in progress_bar:\n",
    "        waveforms = waveforms.to(device)\n",
    "        lengths = torch.tensor([lengths]).to(device) if isinstance(lengths, int) else lengths.to(device)\n",
    "        labels = torch.tensor(labels).to(device) if isinstance(labels, int) else labels.to(device)\n",
    "\n",
    "        optimizer.zero_grad()\n",
    "        loss, acc, _ = model(waveforms, lengths, labels)\n",
    "        loss.backward()\n",
    "        optimizer.step()\n",
    "\n",
    "        batch_size = waveforms.size(0)\n",
    "        running_loss += loss.item() * batch_size\n",
    "        running_accuracy += acc.item() * batch_size\n",
    "        total_samples += batch_size\n",
    "\n",
    "        progress_bar.set_postfix({\"loss\": f\"{loss.item():.4f}\", \"acc\": f\"{acc.item():.2f}%\"})\n",
    "    epoch_loss = running_loss / total_samples\n",
    "    epoch_accuracy = running_accuracy / total_samples\n",
    "    return epoch_loss, epoch_accuracy\n",
    "\n",
    "def validate_epoch(model, val_loader, device, epoch):\n",
    "    model.eval()\n",
    "    running_loss = 0.0\n",
    "    running_accuracy = 0.0\n",
    "    total_samples = 0\n",
    "\n",
    "    progress_bar = tqdm(val_loader, desc=f\"Epoch {epoch} [Val]\", leave=False)\n",
    "    with torch.no_grad():\n",
    "        for waveforms, lengths, labels in progress_bar:\n",
    "            waveforms = waveforms.to(device)\n",
    "            lengths = torch.tensor([lengths]).to(device) if isinstance(lengths, int) else lengths.to(device)\n",
    "            labels = torch.tensor(labels).to(device) if isinstance(labels, int) else labels.to(device)\n",
    "\n",
    "            loss, acc, _ = model(waveforms, lengths, labels)\n",
    "            batch_size = waveforms.size(0)\n",
    "            running_loss += loss.item() * batch_size\n",
    "            running_accuracy += acc.item() * batch_size\n",
    "            total_samples += batch_size\n",
    "\n",
    "            progress_bar.set_postfix({\"loss\": f\"{loss.item():.4f}\", \"acc\": f\"{acc.item():.2f}%\"})\n",
    "    epoch_loss = running_loss / total_samples\n",
    "    epoch_accuracy = running_accuracy / total_samples\n",
    "    return epoch_loss, epoch_accuracy"
   ]
  },
  {
   "cell_type": "code",
   "execution_count": 57,
   "metadata": {},
   "outputs": [],
   "source": [
    "train_losses = []\n",
    "train_accs = []\n",
    "val_losses = []\n",
    "val_accs = []"
   ]
  },
  {
   "cell_type": "code",
   "execution_count": 58,
   "metadata": {},
   "outputs": [
    {
     "name": "stdout",
     "output_type": "stream",
     "text": [
      "Preparing datasets...\n",
      "Found 35 labels: ['backward', 'bed', 'bird', 'cat', 'dog', 'down', 'eight', 'five', 'follow', 'forward', 'four', 'go', 'happy', 'house', 'learn', 'left', 'marvin', 'nine', 'no', 'off', 'on', 'one', 'right', 'seven', 'sheila', 'six', 'stop', 'three', 'tree', 'two', 'up', 'visual', 'wow', 'yes', 'zero']\n"
     ]
    },
    {
     "name": "stderr",
     "output_type": "stream",
     "text": [
      "                                                                                                            \r"
     ]
    },
    {
     "name": "stdout",
     "output_type": "stream",
     "text": [
      "Found 35 labels: ['backward', 'bed', 'bird', 'cat', 'dog', 'down', 'eight', 'five', 'follow', 'forward', 'four', 'go', 'happy', 'house', 'learn', 'left', 'marvin', 'nine', 'no', 'off', 'on', 'one', 'right', 'seven', 'sheila', 'six', 'stop', 'three', 'tree', 'two', 'up', 'visual', 'wow', 'yes', 'zero']\n"
     ]
    },
    {
     "name": "stderr",
     "output_type": "stream",
     "text": [
      "                                                                                                            \r"
     ]
    },
    {
     "name": "stdout",
     "output_type": "stream",
     "text": [
      "Label set: ['backward', 'bed', 'bird', 'cat', 'dog', 'down', 'eight', 'five', 'follow', 'forward', 'four', 'go', 'happy', 'house', 'learn', 'left', 'marvin', 'nine', 'no', 'off', 'on', 'one', 'right', 'seven', 'sheila', 'six', 'stop', 'three', 'tree', 'two', 'up', 'visual', 'wow', 'yes', 'zero']\n",
      "Using device: cuda\n"
     ]
    },
    {
     "name": "stderr",
     "output_type": "stream",
     "text": [
      "Epochs:   2%|█                                                               | 1/60 [00:29<29:07, 29.62s/it]"
     ]
    },
    {
     "name": "stdout",
     "output_type": "stream",
     "text": [
      "Epoch 1: Train Loss: 0.7258, Train Acc: 80.19%, Val Loss: 0.3331, Val Acc: 89.90%\n",
      "Saved best model!\n"
     ]
    },
    {
     "name": "stderr",
     "output_type": "stream",
     "text": [
      "Epochs:   3%|██▏                                                             | 2/60 [00:58<28:20, 29.32s/it]"
     ]
    },
    {
     "name": "stdout",
     "output_type": "stream",
     "text": [
      "Epoch 2: Train Loss: 0.2896, Train Acc: 91.35%, Val Loss: 0.1869, Val Acc: 94.33%\n",
      "Saved best model!\n"
     ]
    },
    {
     "name": "stderr",
     "output_type": "stream",
     "text": [
      "Epochs:   5%|███▏                                                            | 3/60 [01:27<27:40, 29.13s/it]"
     ]
    },
    {
     "name": "stdout",
     "output_type": "stream",
     "text": [
      "Epoch 3: Train Loss: 0.2309, Train Acc: 93.10%, Val Loss: 0.1562, Val Acc: 95.27%\n",
      "Saved best model!\n"
     ]
    },
    {
     "name": "stderr",
     "output_type": "stream",
     "text": [
      "Epochs:   7%|████▎                                                           | 4/60 [01:56<26:56, 28.87s/it]"
     ]
    },
    {
     "name": "stdout",
     "output_type": "stream",
     "text": [
      "Epoch 4: Train Loss: 0.1980, Train Acc: 93.96%, Val Loss: 0.1452, Val Acc: 95.25%\n",
      "Saved best model!\n"
     ]
    },
    {
     "name": "stderr",
     "output_type": "stream",
     "text": [
      "Epochs:   8%|█████▎                                                          | 5/60 [02:25<26:31, 28.95s/it]"
     ]
    },
    {
     "name": "stdout",
     "output_type": "stream",
     "text": [
      "Epoch 5: Train Loss: 0.1755, Train Acc: 94.64%, Val Loss: 0.1306, Val Acc: 95.92%\n",
      "Saved best model!\n"
     ]
    },
    {
     "name": "stderr",
     "output_type": "stream",
     "text": [
      "Epochs:  10%|██████▍                                                         | 6/60 [02:54<26:03, 28.96s/it]"
     ]
    },
    {
     "name": "stdout",
     "output_type": "stream",
     "text": [
      "Epoch 6: Train Loss: 0.1556, Train Acc: 95.22%, Val Loss: 0.1174, Val Acc: 96.64%\n",
      "Saved best model!\n"
     ]
    },
    {
     "name": "stderr",
     "output_type": "stream",
     "text": [
      "Epochs:  12%|███████▍                                                        | 7/60 [03:23<25:41, 29.09s/it]"
     ]
    },
    {
     "name": "stdout",
     "output_type": "stream",
     "text": [
      "Epoch 7: Train Loss: 0.1390, Train Acc: 95.74%, Val Loss: 0.0983, Val Acc: 96.79%\n",
      "Saved best model!\n"
     ]
    },
    {
     "name": "stderr",
     "output_type": "stream",
     "text": [
      "Epochs:  13%|████████▌                                                       | 8/60 [03:52<25:10, 29.05s/it]"
     ]
    },
    {
     "name": "stdout",
     "output_type": "stream",
     "text": [
      "Epoch 8: Train Loss: 0.1260, Train Acc: 96.04%, Val Loss: 0.0888, Val Acc: 97.23%\n",
      "Saved best model!\n"
     ]
    },
    {
     "name": "stderr",
     "output_type": "stream",
     "text": [
      "Epochs:  15%|█████████▌                                                      | 9/60 [04:22<24:49, 29.21s/it]"
     ]
    },
    {
     "name": "stdout",
     "output_type": "stream",
     "text": [
      "Epoch 9: Train Loss: 0.1117, Train Acc: 96.56%, Val Loss: 0.0736, Val Acc: 97.80%\n",
      "Saved best model!\n"
     ]
    },
    {
     "name": "stderr",
     "output_type": "stream",
     "text": [
      "Epochs:  17%|██████████▌                                                    | 10/60 [04:51<24:19, 29.19s/it]"
     ]
    },
    {
     "name": "stdout",
     "output_type": "stream",
     "text": [
      "Epoch 10: Train Loss: 0.0999, Train Acc: 96.94%, Val Loss: 0.0634, Val Acc: 98.12%\n",
      "Saved best model!\n"
     ]
    },
    {
     "name": "stderr",
     "output_type": "stream",
     "text": [
      "Epochs:  18%|███████████▌                                                   | 11/60 [05:20<23:48, 29.16s/it]"
     ]
    },
    {
     "name": "stdout",
     "output_type": "stream",
     "text": [
      "Epoch 11: Train Loss: 0.0886, Train Acc: 97.24%, Val Loss: 0.0507, Val Acc: 98.48%\n",
      "Saved best model!\n"
     ]
    },
    {
     "name": "stderr",
     "output_type": "stream",
     "text": [
      "Epochs:  20%|████████████▌                                                  | 12/60 [05:49<23:19, 29.16s/it]"
     ]
    },
    {
     "name": "stdout",
     "output_type": "stream",
     "text": [
      "Epoch 12: Train Loss: 0.0772, Train Acc: 97.65%, Val Loss: 0.0460, Val Acc: 98.68%\n",
      "Saved best model!\n"
     ]
    },
    {
     "name": "stderr",
     "output_type": "stream",
     "text": [
      "Epochs:  22%|█████████████▋                                                 | 13/60 [06:20<23:14, 29.67s/it]"
     ]
    },
    {
     "name": "stdout",
     "output_type": "stream",
     "text": [
      "Epoch 13: Train Loss: 0.0703, Train Acc: 97.87%, Val Loss: 0.0380, Val Acc: 98.92%\n",
      "Saved best model!\n"
     ]
    },
    {
     "name": "stderr",
     "output_type": "stream",
     "text": [
      "Epochs:  23%|██████████████▋                                                | 14/60 [06:49<22:36, 29.48s/it]"
     ]
    },
    {
     "name": "stdout",
     "output_type": "stream",
     "text": [
      "Epoch 14: Train Loss: 0.0603, Train Acc: 98.25%, Val Loss: 0.0319, Val Acc: 99.18%\n",
      "Saved best model!\n"
     ]
    },
    {
     "name": "stderr",
     "output_type": "stream",
     "text": [
      "Epochs:  25%|███████████████▊                                               | 15/60 [07:18<22:02, 29.40s/it]"
     ]
    },
    {
     "name": "stdout",
     "output_type": "stream",
     "text": [
      "Epoch 15: Train Loss: 0.0545, Train Acc: 98.43%, Val Loss: 0.0284, Val Acc: 99.30%\n",
      "Saved best model!\n"
     ]
    },
    {
     "name": "stderr",
     "output_type": "stream",
     "text": [
      "Epochs:  27%|████████████████▊                                              | 16/60 [07:47<21:30, 29.34s/it]"
     ]
    },
    {
     "name": "stdout",
     "output_type": "stream",
     "text": [
      "Epoch 16: Train Loss: 0.0492, Train Acc: 98.65%, Val Loss: 0.0239, Val Acc: 99.50%\n",
      "Saved best model!\n"
     ]
    },
    {
     "name": "stderr",
     "output_type": "stream",
     "text": [
      "Epochs:  28%|█████████████████▊                                             | 17/60 [08:16<20:59, 29.30s/it]"
     ]
    },
    {
     "name": "stdout",
     "output_type": "stream",
     "text": [
      "Epoch 17: Train Loss: 0.0444, Train Acc: 98.76%, Val Loss: 0.0223, Val Acc: 99.51%\n",
      "Saved best model!\n"
     ]
    },
    {
     "name": "stderr",
     "output_type": "stream",
     "text": [
      "Epochs:  30%|██████████████████▉                                            | 18/60 [08:46<20:33, 29.37s/it]"
     ]
    },
    {
     "name": "stdout",
     "output_type": "stream",
     "text": [
      "Epoch 18: Train Loss: 0.0414, Train Acc: 98.90%, Val Loss: 0.0207, Val Acc: 99.57%\n",
      "Saved best model!\n"
     ]
    },
    {
     "name": "stderr",
     "output_type": "stream",
     "text": [
      "Epochs:  32%|███████████████████▉                                           | 19/60 [09:16<20:07, 29.45s/it]"
     ]
    },
    {
     "name": "stdout",
     "output_type": "stream",
     "text": [
      "Epoch 19: Train Loss: 0.0386, Train Acc: 99.00%, Val Loss: 0.0199, Val Acc: 99.57%\n",
      "Saved best model!\n"
     ]
    },
    {
     "name": "stderr",
     "output_type": "stream",
     "text": [
      "Epochs:  33%|█████████████████████                                          | 20/60 [09:46<19:43, 29.58s/it]"
     ]
    },
    {
     "name": "stdout",
     "output_type": "stream",
     "text": [
      "Epoch 20: Train Loss: 0.0377, Train Acc: 99.03%, Val Loss: 0.0193, Val Acc: 99.59%\n",
      "Saved best model!\n"
     ]
    },
    {
     "name": "stderr",
     "output_type": "stream",
     "text": [
      "Epochs:  35%|██████████████████████                                         | 21/60 [10:15<19:13, 29.59s/it]"
     ]
    },
    {
     "name": "stdout",
     "output_type": "stream",
     "text": [
      "Epoch 21: Train Loss: 0.0377, Train Acc: 99.03%, Val Loss: 0.0195, Val Acc: 99.60%\n",
      "Saved best model!\n"
     ]
    },
    {
     "name": "stderr",
     "output_type": "stream",
     "text": [
      "Epochs:  37%|███████████████████████                                        | 22/60 [10:44<18:39, 29.47s/it]"
     ]
    },
    {
     "name": "stdout",
     "output_type": "stream",
     "text": [
      "Epoch 22: Train Loss: 0.0376, Train Acc: 99.04%, Val Loss: 0.0195, Val Acc: 99.59%\n",
      "Saved best model!\n"
     ]
    },
    {
     "name": "stderr",
     "output_type": "stream",
     "text": [
      "Epochs:  38%|████████████████████████▏                                      | 23/60 [11:14<18:07, 29.40s/it]"
     ]
    },
    {
     "name": "stdout",
     "output_type": "stream",
     "text": [
      "Epoch 23: Train Loss: 0.0379, Train Acc: 99.01%, Val Loss: 0.0190, Val Acc: 99.61%\n",
      "Saved best model!\n"
     ]
    },
    {
     "name": "stderr",
     "output_type": "stream",
     "text": [
      "Epochs:  40%|█████████████████████████▏                                     | 24/60 [11:43<17:36, 29.35s/it]"
     ]
    },
    {
     "name": "stdout",
     "output_type": "stream",
     "text": [
      "Epoch 24: Train Loss: 0.0382, Train Acc: 99.02%, Val Loss: 0.0186, Val Acc: 99.59%\n",
      "Saved best model!\n"
     ]
    },
    {
     "name": "stderr",
     "output_type": "stream",
     "text": [
      "Epochs:  42%|██████████████████████████▎                                    | 25/60 [12:12<17:05, 29.29s/it]"
     ]
    },
    {
     "name": "stdout",
     "output_type": "stream",
     "text": [
      "Epoch 25: Train Loss: 0.0398, Train Acc: 98.92%, Val Loss: 0.0177, Val Acc: 99.61%\n",
      "Saved best model!\n"
     ]
    },
    {
     "name": "stderr",
     "output_type": "stream",
     "text": [
      "Epochs:  43%|███████████████████████████▎                                   | 26/60 [12:41<16:37, 29.33s/it]"
     ]
    },
    {
     "name": "stdout",
     "output_type": "stream",
     "text": [
      "Epoch 26: Train Loss: 0.0414, Train Acc: 98.85%, Val Loss: 0.0184, Val Acc: 99.56%\n",
      "Saved best model!\n"
     ]
    },
    {
     "name": "stderr",
     "output_type": "stream",
     "text": [
      "Epochs:  45%|████████████████████████████▎                                  | 27/60 [13:11<16:06, 29.28s/it]"
     ]
    },
    {
     "name": "stdout",
     "output_type": "stream",
     "text": [
      "Epoch 27: Train Loss: 0.0425, Train Acc: 98.81%, Val Loss: 0.0203, Val Acc: 99.45%\n",
      "Saved best model!\n"
     ]
    },
    {
     "name": "stderr",
     "output_type": "stream",
     "text": [
      "Epochs:  47%|█████████████████████████████▍                                 | 28/60 [13:40<15:35, 29.25s/it]"
     ]
    },
    {
     "name": "stdout",
     "output_type": "stream",
     "text": [
      "Epoch 28: Train Loss: 0.0468, Train Acc: 98.61%, Val Loss: 0.0216, Val Acc: 99.43%\n",
      "Saved best model!\n"
     ]
    },
    {
     "name": "stderr",
     "output_type": "stream",
     "text": [
      "Epochs:  48%|██████████████████████████████▍                                | 29/60 [14:09<15:04, 29.17s/it]"
     ]
    },
    {
     "name": "stdout",
     "output_type": "stream",
     "text": [
      "Epoch 29: Train Loss: 0.0513, Train Acc: 98.42%, Val Loss: 0.0234, Val Acc: 99.31%\n",
      "Saved best model!\n"
     ]
    },
    {
     "name": "stderr",
     "output_type": "stream",
     "text": [
      "Epochs:  50%|███████████████████████████████▌                               | 30/60 [14:38<14:36, 29.21s/it]"
     ]
    },
    {
     "name": "stdout",
     "output_type": "stream",
     "text": [
      "Epoch 30: Train Loss: 0.0553, Train Acc: 98.27%, Val Loss: 0.0270, Val Acc: 99.20%\n",
      "Saved best model!\n"
     ]
    },
    {
     "name": "stderr",
     "output_type": "stream",
     "text": [
      "Epochs:  52%|████████████████████████████████▌                              | 31/60 [15:07<14:08, 29.26s/it]"
     ]
    },
    {
     "name": "stdout",
     "output_type": "stream",
     "text": [
      "Epoch 31: Train Loss: 0.0603, Train Acc: 98.10%, Val Loss: 0.0281, Val Acc: 99.26%\n",
      "Saved best model!\n"
     ]
    },
    {
     "name": "stderr",
     "output_type": "stream",
     "text": [
      "Epochs:  53%|█████████████████████████████████▌                             | 32/60 [15:37<13:39, 29.26s/it]"
     ]
    },
    {
     "name": "stdout",
     "output_type": "stream",
     "text": [
      "Epoch 32: Train Loss: 0.0652, Train Acc: 97.89%, Val Loss: 0.0328, Val Acc: 99.04%\n",
      "Saved best model!\n"
     ]
    },
    {
     "name": "stderr",
     "output_type": "stream",
     "text": [
      "Epochs:  55%|██████████████████████████████████▋                            | 33/60 [16:06<13:14, 29.43s/it]"
     ]
    },
    {
     "name": "stdout",
     "output_type": "stream",
     "text": [
      "Epoch 33: Train Loss: 0.0706, Train Acc: 97.73%, Val Loss: 0.0381, Val Acc: 98.82%\n",
      "Saved best model!\n"
     ]
    },
    {
     "name": "stderr",
     "output_type": "stream",
     "text": [
      "Epochs:  57%|███████████████████████████████████▋                           | 34/60 [16:36<12:47, 29.53s/it]"
     ]
    },
    {
     "name": "stdout",
     "output_type": "stream",
     "text": [
      "Epoch 34: Train Loss: 0.0722, Train Acc: 97.66%, Val Loss: 0.0416, Val Acc: 98.59%\n",
      "Saved best model!\n"
     ]
    },
    {
     "name": "stderr",
     "output_type": "stream",
     "text": [
      "Epochs:  58%|████████████████████████████████████▊                          | 35/60 [17:07<12:24, 29.79s/it]"
     ]
    },
    {
     "name": "stdout",
     "output_type": "stream",
     "text": [
      "Epoch 35: Train Loss: 0.0792, Train Acc: 97.47%, Val Loss: 0.0468, Val Acc: 98.40%\n",
      "Saved best model!\n"
     ]
    },
    {
     "name": "stderr",
     "output_type": "stream",
     "text": [
      "Epochs:  60%|█████████████████████████████████████▊                         | 36/60 [17:39<12:10, 30.44s/it]"
     ]
    },
    {
     "name": "stdout",
     "output_type": "stream",
     "text": [
      "Epoch 36: Train Loss: 0.0800, Train Acc: 97.45%, Val Loss: 0.0477, Val Acc: 98.49%\n",
      "Saved best model!\n"
     ]
    },
    {
     "name": "stderr",
     "output_type": "stream",
     "text": [
      "Epochs:  62%|██████████████████████████████████████▊                        | 37/60 [18:09<11:42, 30.56s/it]"
     ]
    },
    {
     "name": "stdout",
     "output_type": "stream",
     "text": [
      "Epoch 37: Train Loss: 0.0798, Train Acc: 97.46%, Val Loss: 0.0493, Val Acc: 98.37%\n",
      "Saved best model!\n"
     ]
    },
    {
     "name": "stderr",
     "output_type": "stream",
     "text": [
      "Epochs:  63%|███████████████████████████████████████▉                       | 38/60 [18:40<11:12, 30.59s/it]"
     ]
    },
    {
     "name": "stdout",
     "output_type": "stream",
     "text": [
      "Epoch 38: Train Loss: 0.0827, Train Acc: 97.29%, Val Loss: 0.0520, Val Acc: 98.39%\n",
      "Saved best model!\n"
     ]
    },
    {
     "name": "stderr",
     "output_type": "stream",
     "text": [
      "Epochs:  65%|████████████████████████████████████████▉                      | 39/60 [19:14<11:01, 31.49s/it]"
     ]
    },
    {
     "name": "stdout",
     "output_type": "stream",
     "text": [
      "Epoch 39: Train Loss: 0.0784, Train Acc: 97.47%, Val Loss: 0.0565, Val Acc: 98.22%\n",
      "Saved best model!\n"
     ]
    },
    {
     "name": "stderr",
     "output_type": "stream",
     "text": [
      "Epochs:  67%|██████████████████████████████████████████                     | 40/60 [19:49<10:53, 32.69s/it]"
     ]
    },
    {
     "name": "stdout",
     "output_type": "stream",
     "text": [
      "Epoch 40: Train Loss: 0.0780, Train Acc: 97.49%, Val Loss: 0.0482, Val Acc: 98.55%\n",
      "Saved best model!\n"
     ]
    },
    {
     "name": "stderr",
     "output_type": "stream",
     "text": [
      "Epochs:  68%|███████████████████████████████████████████                    | 41/60 [20:20<10:09, 32.08s/it]"
     ]
    },
    {
     "name": "stdout",
     "output_type": "stream",
     "text": [
      "Epoch 41: Train Loss: 0.0772, Train Acc: 97.48%, Val Loss: 0.0422, Val Acc: 98.64%\n",
      "Saved best model!\n"
     ]
    },
    {
     "name": "stderr",
     "output_type": "stream",
     "text": [
      "Epochs:  70%|████████████████████████████████████████████                   | 42/60 [20:50<09:26, 31.45s/it]"
     ]
    },
    {
     "name": "stdout",
     "output_type": "stream",
     "text": [
      "Epoch 42: Train Loss: 0.0727, Train Acc: 97.68%, Val Loss: 0.0422, Val Acc: 98.66%\n",
      "Saved best model!\n"
     ]
    },
    {
     "name": "stderr",
     "output_type": "stream",
     "text": [
      "Epochs:  72%|█████████████████████████████████████████████▏                 | 43/60 [21:20<08:47, 31.02s/it]"
     ]
    },
    {
     "name": "stdout",
     "output_type": "stream",
     "text": [
      "Epoch 43: Train Loss: 0.0707, Train Acc: 97.76%, Val Loss: 0.0384, Val Acc: 98.80%\n",
      "Saved best model!\n"
     ]
    },
    {
     "name": "stderr",
     "output_type": "stream",
     "text": [
      "Epochs:  73%|██████████████████████████████████████████████▏                | 44/60 [21:50<08:11, 30.70s/it]"
     ]
    },
    {
     "name": "stdout",
     "output_type": "stream",
     "text": [
      "Epoch 44: Train Loss: 0.0668, Train Acc: 97.87%, Val Loss: 0.0399, Val Acc: 98.74%\n",
      "Saved best model!\n"
     ]
    },
    {
     "name": "stderr",
     "output_type": "stream",
     "text": [
      "Epochs:  75%|███████████████████████████████████████████████▎               | 45/60 [22:20<07:37, 30.50s/it]"
     ]
    },
    {
     "name": "stdout",
     "output_type": "stream",
     "text": [
      "Epoch 45: Train Loss: 0.0621, Train Acc: 98.06%, Val Loss: 0.0411, Val Acc: 98.69%\n",
      "Saved best model!\n"
     ]
    },
    {
     "name": "stderr",
     "output_type": "stream",
     "text": [
      "Epochs:  77%|████████████████████████████████████████████████▎              | 46/60 [22:50<07:04, 30.29s/it]"
     ]
    },
    {
     "name": "stdout",
     "output_type": "stream",
     "text": [
      "Epoch 46: Train Loss: 0.0579, Train Acc: 98.19%, Val Loss: 0.0291, Val Acc: 99.05%\n",
      "Saved best model!\n"
     ]
    },
    {
     "name": "stderr",
     "output_type": "stream",
     "text": [
      "Epochs:  78%|█████████████████████████████████████████████████▎             | 47/60 [23:19<06:31, 30.11s/it]"
     ]
    },
    {
     "name": "stdout",
     "output_type": "stream",
     "text": [
      "Epoch 47: Train Loss: 0.0508, Train Acc: 98.43%, Val Loss: 0.0282, Val Acc: 99.21%\n",
      "Saved best model!\n"
     ]
    },
    {
     "name": "stderr",
     "output_type": "stream",
     "text": [
      "Epochs:  80%|██████████████████████████████████████████████████▍            | 48/60 [23:49<06:01, 30.09s/it]"
     ]
    },
    {
     "name": "stdout",
     "output_type": "stream",
     "text": [
      "Epoch 48: Train Loss: 0.0467, Train Acc: 98.54%, Val Loss: 0.0257, Val Acc: 99.26%\n",
      "Saved best model!\n"
     ]
    },
    {
     "name": "stderr",
     "output_type": "stream",
     "text": [
      "Epochs:  82%|███████████████████████████████████████████████████▍           | 49/60 [24:19<05:30, 30.07s/it]"
     ]
    },
    {
     "name": "stdout",
     "output_type": "stream",
     "text": [
      "Epoch 49: Train Loss: 0.0411, Train Acc: 98.76%, Val Loss: 0.0176, Val Acc: 99.51%\n",
      "Saved best model!\n"
     ]
    },
    {
     "name": "stderr",
     "output_type": "stream",
     "text": [
      "Epochs:  83%|████████████████████████████████████████████████████▌          | 50/60 [24:49<05:00, 30.02s/it]"
     ]
    },
    {
     "name": "stdout",
     "output_type": "stream",
     "text": [
      "Epoch 50: Train Loss: 0.0368, Train Acc: 98.87%, Val Loss: 0.0155, Val Acc: 99.57%\n",
      "Saved best model!\n"
     ]
    },
    {
     "name": "stderr",
     "output_type": "stream",
     "text": [
      "Epochs:  85%|█████████████████████████████████████████████████████▌         | 51/60 [25:19<04:29, 29.99s/it]"
     ]
    },
    {
     "name": "stdout",
     "output_type": "stream",
     "text": [
      "Epoch 51: Train Loss: 0.0333, Train Acc: 99.03%, Val Loss: 0.0149, Val Acc: 99.59%\n",
      "Saved best model!\n"
     ]
    },
    {
     "name": "stderr",
     "output_type": "stream",
     "text": [
      "Epochs:  87%|██████████████████████████████████████████████████████▌        | 52/60 [25:49<03:58, 29.87s/it]"
     ]
    },
    {
     "name": "stdout",
     "output_type": "stream",
     "text": [
      "Epoch 52: Train Loss: 0.0287, Train Acc: 99.17%, Val Loss: 0.0115, Val Acc: 99.71%\n",
      "Saved best model!\n"
     ]
    },
    {
     "name": "stderr",
     "output_type": "stream",
     "text": [
      "Epochs:  88%|███████████████████████████████████████████████████████▋       | 53/60 [26:18<03:28, 29.79s/it]"
     ]
    },
    {
     "name": "stdout",
     "output_type": "stream",
     "text": [
      "Epoch 53: Train Loss: 0.0250, Train Acc: 99.32%, Val Loss: 0.0093, Val Acc: 99.75%\n",
      "Saved best model!\n"
     ]
    },
    {
     "name": "stderr",
     "output_type": "stream",
     "text": [
      "Epochs:  90%|████████████████████████████████████████████████████████▋      | 54/60 [26:51<03:03, 30.51s/it]"
     ]
    },
    {
     "name": "stdout",
     "output_type": "stream",
     "text": [
      "Epoch 54: Train Loss: 0.0212, Train Acc: 99.45%, Val Loss: 0.0074, Val Acc: 99.83%\n",
      "Saved best model!\n"
     ]
    },
    {
     "name": "stderr",
     "output_type": "stream",
     "text": [
      "Epochs:  92%|█████████████████████████████████████████████████████████▊     | 55/60 [27:20<02:30, 30.18s/it]"
     ]
    },
    {
     "name": "stdout",
     "output_type": "stream",
     "text": [
      "Epoch 55: Train Loss: 0.0190, Train Acc: 99.50%, Val Loss: 0.0065, Val Acc: 99.87%\n",
      "Saved best model!\n"
     ]
    },
    {
     "name": "stderr",
     "output_type": "stream",
     "text": [
      "Epochs:  93%|██████████████████████████████████████████████████████████▊    | 56/60 [27:49<01:59, 30.00s/it]"
     ]
    },
    {
     "name": "stdout",
     "output_type": "stream",
     "text": [
      "Epoch 56: Train Loss: 0.0166, Train Acc: 99.58%, Val Loss: 0.0051, Val Acc: 99.90%\n",
      "Saved best model!\n"
     ]
    },
    {
     "name": "stderr",
     "output_type": "stream",
     "text": [
      "Epochs:  95%|███████████████████████████████████████████████████████████▊   | 57/60 [28:19<01:29, 29.87s/it]"
     ]
    },
    {
     "name": "stdout",
     "output_type": "stream",
     "text": [
      "Epoch 57: Train Loss: 0.0150, Train Acc: 99.61%, Val Loss: 0.0049, Val Acc: 99.90%\n",
      "Saved best model!\n"
     ]
    },
    {
     "name": "stderr",
     "output_type": "stream",
     "text": [
      "Epochs:  97%|████████████████████████████████████████████████████████████▉  | 58/60 [28:48<00:59, 29.72s/it]"
     ]
    },
    {
     "name": "stdout",
     "output_type": "stream",
     "text": [
      "Epoch 58: Train Loss: 0.0135, Train Acc: 99.68%, Val Loss: 0.0043, Val Acc: 99.92%\n",
      "Saved best model!\n"
     ]
    },
    {
     "name": "stderr",
     "output_type": "stream",
     "text": [
      "Epochs:  98%|█████████████████████████████████████████████████████████████▉ | 59/60 [29:18<00:29, 29.68s/it]"
     ]
    },
    {
     "name": "stdout",
     "output_type": "stream",
     "text": [
      "Epoch 59: Train Loss: 0.0128, Train Acc: 99.69%, Val Loss: 0.0041, Val Acc: 99.91%\n",
      "Saved best model!\n"
     ]
    },
    {
     "name": "stderr",
     "output_type": "stream",
     "text": [
      "Epochs: 100%|███████████████████████████████████████████████████████████████| 60/60 [29:47<00:00, 29.80s/it]"
     ]
    },
    {
     "name": "stdout",
     "output_type": "stream",
     "text": [
      "Epoch 60: Train Loss: 0.0122, Train Acc: 99.71%, Val Loss: 0.0041, Val Acc: 99.91%\n",
      "Saved best model!\n",
      "Training complete.\n"
     ]
    },
    {
     "name": "stderr",
     "output_type": "stream",
     "text": [
      "\n"
     ]
    }
   ],
   "source": [
    "# Configuration\n",
    "num_epochs = 60\n",
    "batch_size = 64\n",
    "learning_rate = 0.001\n",
    "sample_rate = 16000\n",
    "fixed_length = sample_rate  # 1 second clips (SpeechCommands are ~1 sec)\n",
    "\n",
    "# Prepare datasets (in-memory)\n",
    "print(\"Preparing datasets...\")\n",
    "train_dataset = InMemorySpeechCommands(subset=\"training\", fixed_length=fixed_length)\n",
    "val_dataset = InMemorySpeechCommands(subset=\"validation\", fixed_length=fixed_length)\n",
    "num_classes = len(train_dataset.label_set)\n",
    "print(\"Label set:\", train_dataset.label_set)\n",
    "\n",
    "train_loader = DataLoader(train_dataset, batch_size=batch_size, shuffle=True, pin_memory=True)\n",
    "val_loader = DataLoader(val_dataset, batch_size=batch_size, shuffle=False, pin_memory=True)\n",
    "\n",
    "device = torch.device(\"cuda\" if torch.cuda.is_available() else \"cpu\")\n",
    "print(\"Using device:\", device)\n",
    "\n",
    "# Initialize model, optimizer\n",
    "model = EncDecClassificationModel(num_classes=num_classes, sample_rate=sample_rate).to(device)\n",
    "optimizer = optim.Adam(model.parameters(), lr=learning_rate)\n",
    "scheduler = optim.lr_scheduler.CosineAnnealingLR(optimizer, T_max=20)\n",
    "\n",
    "    # Wrap epoch loop with tqdm for overall progress monitoring\n",
    "for epoch in tqdm(range(1, num_epochs + 1), desc=\"Epochs\"):\n",
    "    train_loss, train_acc = train_epoch(model, train_loader, optimizer, device, epoch)\n",
    "    val_loss, val_acc = validate_epoch(model, val_loader, device, epoch)\n",
    "    scheduler.step()\n",
    "\n",
    "    train_losses.append(train_loss)\n",
    "    train_accs.append(train_acc)\n",
    "    val_losses.append(val_loss)\n",
    "    val_accs.append(val_acc)\n",
    "\n",
    "    print(f\"Epoch {epoch}: Train Loss: {train_loss:.4f}, Train Acc: {train_acc:.2f}%, \"\n",
    "          f\"Val Loss: {val_loss:.4f}, Val Acc: {val_acc:.2f}%\")\n",
    "    # Save the best model\n",
    "    if val_acc > 0:\n",
    "        torch.save(model.state_dict(), \"best_model.pth\")\n",
    "        print(\"Saved best model!\")\n",
    "print(\"Training complete.\")"
   ]
  },
  {
   "cell_type": "code",
   "execution_count": 71,
   "metadata": {},
   "outputs": [],
   "source": [
    "import matplotlib.pyplot as plt"
   ]
  },
  {
   "cell_type": "code",
   "execution_count": null,
   "metadata": {},
   "outputs": [
    {
     "data": {
      "image/png": "[encoded data removed]",
      "text/plain": [
       "<Figure size 640x480 with 1 Axes>"
      ]
     },
     "metadata": {},
     "output_type": "display_data"
    }
   ],
   "source": [
    "plt.plot(range(len(train_losses)), train_losses, label=\"Training\")\n",
    "plt.plot(range(len(val_losses)), val_losses, label=\"Validation\")\n",
    "plt.xlabel(\"Epochs\")\n",
    "plt.ylabel(\"loss\")\n",
    "plt.title(\"Training and Validation Losses Over Epochs\")\n",
    "plt.legend()\n",
    "plt.grid()"
   ]
  },
  {
   "cell_type": "code",
   "execution_count": 82,
   "metadata": {},
   "outputs": [
    {
     "data": {
      "image/png": "[encoded data removed]",
      "text/plain": [
       "<Figure size 640x480 with 1 Axes>"
      ]
     },
     "metadata": {},
     "output_type": "display_data"
    }
   ],
   "source": [
    "plt.plot(range(len(train_accs)), train_accs, label=\"Training\")\n",
    "plt.plot(range(len(val_accs)), val_accs, label=\"Validation\")\n",
    "plt.xlabel(\"Epochs\")\n",
    "plt.ylabel(\"Accuracy (%)\")\n",
    "plt.title(\"Training and Validation Accuracy Over Epochs\")\n",
    "plt.legend()\n",
    "plt.grid()"
   ]
  },
  {
   "cell_type": "code",
   "execution_count": null,
   "metadata": {},
   "outputs": [],
   "source": [
    "import matplotlib.pyplot as plt\n",
    "plt.plot(range(len(train_accs)), train_accs)\n",
    "plt.xlabel(\"Epochs\")\n",
    "plt.ylabel(\"Train Accuracy\")\n",
    "plt.title(\"Training accuracy\")\n",
    "plt.grid()"
   ]
  },
  {
   "cell_type": "code",
   "execution_count": 45,
   "metadata": {},
   "outputs": [
    {
     "name": "stdout",
     "output_type": "stream",
     "text": [
      "Total Trainable Parameters: 77987\n"
     ]
    }
   ],
   "source": [
    "total_params = sum(p.numel() for p in model.parameters() if p.requires_grad)\n",
    "print(f\"Total Trainable Parameters: {total_params}\")"
   ]
  }
 ],
 "metadata": {
  "kernelspec": {
   "display_name": "Python 3 (ipykernel)",
   "language": "python",
   "name": "python3"
  },
  "language_info": {
   "codemirror_mode": {
    "name": "ipython",
    "version": 3
   },
   "file_extension": ".py",
   "mimetype": "text/x-python",
   "name": "python",
   "nbconvert_exporter": "python",
   "pygments_lexer": "ipython3",
   "version": "3.12.4"
  }
 },
 "nbformat": 4,
 "nbformat_minor": 2
}
