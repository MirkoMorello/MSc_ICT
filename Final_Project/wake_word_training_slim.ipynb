{
 "cells": [
  {
   "cell_type": "markdown",
   "metadata": {},
   "source": [
    "---\n",
    "# <center>Dataset creation"
   ]
  },
  {
   "cell_type": "code",
   "execution_count": 1,
   "metadata": {},
   "outputs": [],
   "source": [
    "import os\n",
    "import torch\n",
    "import torch.nn as nn\n",
    "import torch.optim as optim\n",
    "from torch.utils.data import Dataset, DataLoader\n",
    "import torchaudio\n",
    "import torchaudio.transforms as T\n",
    "import torch.nn.functional as F\n",
    "from tqdm import tqdm\n",
    "\n",
    "#################################\n",
    "# Dataset and Data Preparation  #\n",
    "#################################\n",
    "\n",
    "class SubsetSC(torchaudio.datasets.SPEECHCOMMANDS):\n",
    "    def __init__(self, subset: str = None, root=\"./datasets/speechcommand\", download=True):\n",
    "        super().__init__(root=root, download=download)\n",
    "        def load_list(filename):\n",
    "            filepath = os.path.join(self._path, filename)\n",
    "            with open(filepath) as f:\n",
    "                return [os.path.join(self._path, line.strip()) for line in f]\n",
    "        if subset == \"validation\":\n",
    "            self._walker = load_list(\"validation_list.txt\")\n",
    "        elif subset == \"testing\":\n",
    "            self._walker = load_list(\"testing_list.txt\")\n",
    "        elif subset == \"training\":\n",
    "            excludes = load_list(\"validation_list.txt\") + load_list(\"testing_list.txt\")\n",
    "            excludes = set(excludes)\n",
    "            self._walker = [w for w in self._walker if w not in excludes]\n",
    "\n",
    "\n",
    "class InMemorySpeechCommands(Dataset):\n",
    "    def __init__(self, subset=\"training\", fixed_length=16000):\n",
    "        \"\"\"\n",
    "        Args:\n",
    "          subset: One of \"training\", \"validation\", \"testing\".\n",
    "          fixed_length: The desired number of audio samples per clip.\n",
    "        \"\"\"\n",
    "        self.fixed_length = fixed_length\n",
    "        self.dataset = SubsetSC(subset=subset, root=\"./datasets/speechcommand\", download=True)\n",
    "        self.data = []\n",
    "        self.labels = []\n",
    "        \n",
    "        # Build label index from the dataset's actual folder location\n",
    "        dataset_root = self.dataset._path  # use the path used by the dataset\n",
    "        all_labels = [\n",
    "            d for d in os.listdir(dataset_root)\n",
    "            if os.path.isdir(os.path.join(dataset_root, d)) and d != '_background_noise_'\n",
    "        ]\n",
    "        self.label_set = sorted(all_labels)\n",
    "        self.label_to_idx = {label: idx for idx, label in enumerate(self.label_set)}\n",
    "        print(f\"Found {len(self.label_set)} labels: {self.label_set}\")\n",
    "        \n",
    "        # Load all samples into memory (resample, pad/trim)\n",
    "        for waveform, sample_rate, label, *_ in tqdm(self.dataset, desc=f\"Loading {subset} data\", leave=False):\n",
    "            if sample_rate != 16000:\n",
    "                resampler = T.Resample(orig_freq=sample_rate, new_freq=16000)\n",
    "                waveform = resampler(waveform)\n",
    "            waveform = waveform.squeeze(0)  # Remove channel dimension if exists\n",
    "            if waveform.size(0) > fixed_length:\n",
    "                waveform = waveform[:fixed_length]\n",
    "            elif waveform.size(0) < fixed_length:\n",
    "                waveform = F.pad(waveform, (0, fixed_length - waveform.size(0)))\n",
    "            self.data.append(waveform)\n",
    "            try:\n",
    "                self.labels.append(self.label_to_idx[label])\n",
    "            except KeyError:\n",
    "                # If a label is encountered that's not in our mapping, add it\n",
    "                # (or alternatively, you could skip it or raise an error)\n",
    "                new_idx = len(self.label_to_idx)\n",
    "                print(f\"New label found: {label}. Assigning new index {new_idx}\")\n",
    "                self.label_to_idx[label] = new_idx\n",
    "                self.label_set.append(label)\n",
    "                self.labels.append(new_idx)\n",
    "            \n",
    "    def __len__(self):\n",
    "        return len(self.data)\n",
    "    \n",
    "    def __getitem__(self, idx):\n",
    "        return self.data[idx], self.fixed_length, self.labels[idx]\n",
    "\n"
   ]
  },
  {
   "cell_type": "markdown",
   "metadata": {},
   "source": [
    "---\n",
    "# <center>Model Architecture"
   ]
  },
  {
   "cell_type": "code",
   "execution_count": 2,
   "metadata": {},
   "outputs": [],
   "source": [
    "class MaskedConv1d(nn.Module):\n",
    "    def __init__(self, in_channels, out_channels, kernel_size, stride=1,\n",
    "                 padding=0, dilation=1, groups=1, bias=True):\n",
    "        super().__init__()\n",
    "        self.conv = nn.Conv1d(in_channels, out_channels, kernel_size, stride=stride,\n",
    "                              padding=padding, dilation=dilation, groups=groups, bias=bias)\n",
    "        self.padding = padding\n",
    "        self.dilation = dilation\n",
    "        self.stride = stride\n",
    "        self.kernel_size = kernel_size\n",
    "\n",
    "    def forward(self, x, length):\n",
    "        max_length = x.size(2)\n",
    "        length = torch.div(((length + 2 * self.padding - self.dilation * (self.kernel_size - 1) - 1).float() + self.stride),\n",
    "                           self.stride, rounding_mode='floor').long()\n",
    "        mask = torch.arange(max_length, device=x.device)[None, :] < length[:, None]\n",
    "        x = x * mask.unsqueeze(1)\n",
    "        x = self.conv(x)\n",
    "        return x, length\n",
    "\n",
    "class JasperBlock(nn.Module):\n",
    "    def __init__(self, in_channels, out_channels, kernel_size, stride=1, padding=0, dilation=1, dropout=0.0, residual=False):\n",
    "        super().__init__()\n",
    "        self.mconv = nn.ModuleList([\n",
    "            MaskedConv1d(in_channels, in_channels, kernel_size, stride=stride, padding=padding, dilation=dilation, groups=in_channels, bias=False),\n",
    "            MaskedConv1d(in_channels, out_channels, kernel_size=1, stride=1, bias=False),\n",
    "            nn.BatchNorm1d(out_channels)\n",
    "        ])\n",
    "        self.res = None\n",
    "        if residual:\n",
    "            self.res = nn.ModuleList([\n",
    "                nn.ModuleList([\n",
    "                    MaskedConv1d(in_channels, out_channels, kernel_size=1, stride=stride, bias=False),\n",
    "                    nn.BatchNorm1d(out_channels)\n",
    "                ])\n",
    "            ])\n",
    "        self.mout = nn.Sequential(\n",
    "            nn.ReLU(inplace=True),\n",
    "            nn.Dropout(p=dropout)\n",
    "        )\n",
    "\n",
    "    def forward(self, x, length):\n",
    "        residual = x\n",
    "        res_length = length\n",
    "        out = x\n",
    "        out_length = length\n",
    "        for layer in self.mconv:\n",
    "            if isinstance(layer, MaskedConv1d):\n",
    "                out, out_length = layer(out, out_length)\n",
    "            else:\n",
    "                out = layer(out)\n",
    "        if self.res:\n",
    "            for res_layer_list in self.res:\n",
    "                res = residual\n",
    "                for layer in res_layer_list:\n",
    "                    if isinstance(layer, MaskedConv1d):\n",
    "                        res, _ = layer(res, res_length)\n",
    "                    else:\n",
    "                        res = layer(res)\n",
    "                residual = res\n",
    "        if self.res is not None:\n",
    "            out = out + residual\n",
    "        out = self.mout(out)\n",
    "        return out, out_length\n",
    "\n",
    "class ConvASREncoder(nn.Module):\n",
    "    def __init__(self, in_channels, blocks_params):\n",
    "        super().__init__()\n",
    "        layers = [JasperBlock(**params) for params in blocks_params]\n",
    "        self.encoder = nn.Sequential(*layers)\n",
    "        self.in_channels = in_channels\n",
    "\n",
    "    def forward(self, x, length):\n",
    "        for layer in self.encoder:\n",
    "            x, length = layer(x, length)\n",
    "        return x, length\n",
    "\n",
    "class AudioToMFCCPreprocessor(nn.Module):\n",
    "    def __init__(self, sample_rate=16000, n_mels=64, n_mfcc=64, n_fft=512, hop_length=160, f_min=0, f_max=8000):\n",
    "        super().__init__()\n",
    "        self.featurizer = T.MFCC(\n",
    "            sample_rate=sample_rate,\n",
    "            n_mfcc=n_mfcc,\n",
    "            melkwargs={\n",
    "                \"n_fft\": n_fft,\n",
    "                \"n_mels\": n_mels,\n",
    "                \"hop_length\": hop_length,\n",
    "                \"f_min\": f_min,\n",
    "                \"f_max\": f_max,\n",
    "            },\n",
    "        )\n",
    "\n",
    "    def forward(self, x, length):\n",
    "        with torch.no_grad():\n",
    "            x = self.featurizer(x)\n",
    "        return x, length\n",
    "\n",
    "class ConvASRDecoderClassification(nn.Module):\n",
    "    def __init__(self, in_features, num_classes):\n",
    "        super().__init__()\n",
    "        self.pooling = nn.AdaptiveAvgPool1d(output_size=1)\n",
    "        self.decoder_layers = nn.Sequential(\n",
    "            nn.Linear(in_features, num_classes)\n",
    "        )\n",
    "\n",
    "    def forward(self, x):\n",
    "        x = self.pooling(x)\n",
    "        x = x.squeeze(2)\n",
    "        x = self.decoder_layers(x)\n",
    "        return x\n",
    "\n",
    "class TopKClassificationAccuracy(nn.Module):\n",
    "    def __init__(self, k=(1,)):\n",
    "        super().__init__()\n",
    "        self.k = k\n",
    "\n",
    "    def forward(self, logits, targets):\n",
    "        with torch.no_grad():\n",
    "            maxk = max(self.k)\n",
    "            batch_size = targets.size(0)\n",
    "            _, pred = logits.topk(maxk, 1, True, True)\n",
    "            pred = pred.t()\n",
    "            correct = pred.eq(targets.view(1, -1).expand_as(pred))\n",
    "            res = []\n",
    "            for k in self.k:\n",
    "                correct_k = correct[:k].reshape(-1).float().sum(0, keepdim=True)\n",
    "                res.append(correct_k.mul_(100.0 / batch_size))\n",
    "            return res[0] if len(res) == 1 else res\n",
    "\n",
    "class EncDecClassificationModel(nn.Module):\n",
    "    def __init__(self, num_classes, sample_rate=16000, n_mels=64, n_mfcc=64, n_fft=512, hop_length=160, f_min=0, f_max=8000):\n",
    "        super().__init__()\n",
    "        self.preprocessor = AudioToMFCCPreprocessor(\n",
    "            sample_rate=sample_rate, n_mels=n_mels, n_mfcc=n_mfcc,\n",
    "            n_fft=n_fft, hop_length=hop_length, f_min=f_min, f_max=f_max)\n",
    "        blocks_params = [\n",
    "            {\"in_channels\": n_mfcc, \"out_channels\": 128, \"kernel_size\": 11, \"stride\": 1, \"padding\": 5, \"dilation\": 1, \"dropout\": 0.0, \"residual\": False},\n",
    "            {\"in_channels\": 128, \"out_channels\": 64, \"kernel_size\": 13, \"stride\": 1, \"padding\": 6, \"dilation\": 1, \"dropout\": 0.0, \"residual\": True},\n",
    "            {\"in_channels\": 64, \"out_channels\": 64, \"kernel_size\": 15, \"stride\": 1, \"padding\": 7, \"dilation\": 1, \"dropout\": 0.0, \"residual\": True},\n",
    "            {\"in_channels\": 64, \"out_channels\": 64, \"kernel_size\": 17, \"stride\": 1, \"padding\": 8, \"dilation\": 1, \"dropout\": 0.0, \"residual\": True},\n",
    "            {\"in_channels\": 64, \"out_channels\": 128, \"kernel_size\": 29, \"stride\": 1, \"padding\": 28, \"dilation\": 2, \"dropout\": 0.0, \"residual\": False},\n",
    "            {\"in_channels\": 128, \"out_channels\": 128, \"kernel_size\": 1, \"stride\": 1, \"padding\": 0, \"dilation\": 1, \"dropout\": 0.0, \"residual\": False},\n",
    "        ]\n",
    "        self.encoder = ConvASREncoder(in_channels=n_mfcc, blocks_params=blocks_params)\n",
    "        self.decoder = ConvASRDecoderClassification(in_features=128, num_classes=num_classes)\n",
    "        self.loss = nn.CrossEntropyLoss()\n",
    "        self._accuracy = TopKClassificationAccuracy()\n",
    "\n",
    "    def forward(self, x, length, y=None):\n",
    "        x, length = self.preprocessor(x, length)\n",
    "        x, length = self.encoder(x, length)\n",
    "        logits = self.decoder(x)\n",
    "        if y is not None:\n",
    "            loss = self.loss(logits, y)\n",
    "            acc = self._accuracy(logits, y)\n",
    "            return loss, acc, logits\n",
    "        else:\n",
    "            return logits\n",
    "\n",
    "    def predict(self, x, length):\n",
    "        with torch.no_grad():\n",
    "            logits = self.forward(x, length)\n",
    "            return torch.argmax(logits, dim=-1)\n"
   ]
  },
  {
   "cell_type": "markdown",
   "metadata": {},
   "source": [
    "---\n",
    "# <center>Training"
   ]
  },
  {
   "cell_type": "code",
   "execution_count": 5,
   "metadata": {},
   "outputs": [
    {
     "name": "stdout",
     "output_type": "stream",
     "text": [
      "Creating datasets and saving to pickle...\n",
      "Found 35 labels: ['backward', 'bed', 'bird', 'cat', 'dog', 'down', 'eight', 'five', 'follow', 'forward', 'four', 'go', 'happy', 'house', 'learn', 'left', 'marvin', 'nine', 'no', 'off', 'on', 'one', 'right', 'seven', 'sheila', 'six', 'stop', 'three', 'tree', 'two', 'up', 'visual', 'wow', 'yes', 'zero']\n"
     ]
    },
    {
     "name": "stderr",
     "output_type": "stream",
     "text": [
      "                                                                               \r"
     ]
    },
    {
     "name": "stdout",
     "output_type": "stream",
     "text": [
      "Found 35 labels: ['backward', 'bed', 'bird', 'cat', 'dog', 'down', 'eight', 'five', 'follow', 'forward', 'four', 'go', 'happy', 'house', 'learn', 'left', 'marvin', 'nine', 'no', 'off', 'on', 'one', 'right', 'seven', 'sheila', 'six', 'stop', 'three', 'tree', 'two', 'up', 'visual', 'wow', 'yes', 'zero']\n"
     ]
    },
    {
     "name": "stderr",
     "output_type": "stream",
     "text": [
      "                                                                             \r"
     ]
    }
   ],
   "source": [
    "import os\n",
    "import pickle\n",
    "\n",
    "def get_datasets(fixed_length=16000):\n",
    "    train_pickle = \"./datasets/train_dataset.pkl\"\n",
    "    val_pickle = \"./datasets/val_dataset.pkl\"\n",
    "    \n",
    "    if os.path.exists(train_pickle) and os.path.exists(val_pickle):\n",
    "        print(\"Loading datasets from pickle files...\")\n",
    "        with open(train_pickle, \"rb\") as f:\n",
    "            train_dataset = pickle.load(f)\n",
    "        with open(val_pickle, \"rb\") as f:\n",
    "            val_dataset = pickle.load(f)\n",
    "    else:\n",
    "        print(\"Creating datasets and saving to pickle...\")\n",
    "        train_dataset = InMemorySpeechCommands(subset=\"training\", fixed_length=fixed_length)\n",
    "        val_dataset = InMemorySpeechCommands(subset=\"validation\", fixed_length=fixed_length)\n",
    "        # Save datasets to pickle files\n",
    "        os.makedirs(os.path.dirname(train_pickle), exist_ok=True)\n",
    "        with open(train_pickle, \"wb\") as f:\n",
    "            pickle.dump(train_dataset, f)\n",
    "        with open(val_pickle, \"wb\") as f:\n",
    "            pickle.dump(val_dataset, f)\n",
    "    \n",
    "    return train_dataset, val_dataset\n",
    "\n",
    "# Usage:\n",
    "train_dataset, val_dataset = get_datasets(fixed_length=16000)\n",
    "num_classes = len(train_dataset.label_set)"
   ]
  },
  {
   "cell_type": "code",
   "execution_count": 6,
   "metadata": {},
   "outputs": [
    {
     "name": "stderr",
     "output_type": "stream",
     "text": [
      "                                                                                                  "
     ]
    },
    {
     "name": "stdout",
     "output_type": "stream",
     "text": [
      "Checkpoint saved to checkpoints/classification_experiment/checkpoint_0_1654_best.pt\n",
      "Step history saved to checkpoints/classification_experiment/step_history.json\n",
      "New best model saved with val loss: 0.3126 and val acc: 90.68%\n",
      "Checkpoint saved to checkpoints/classification_experiment/checkpoint_0_1654.pt\n",
      "Step history saved to checkpoints/classification_experiment/step_history.json\n",
      "Epoch [1/50] Train Loss: 0.7088 | Train Acc: 80.80% | Val Loss: 0.3126 | Val Acc: 90.68%\n"
     ]
    },
    {
     "name": "stderr",
     "output_type": "stream",
     "text": [
      "                                                                                                  "
     ]
    },
    {
     "name": "stdout",
     "output_type": "stream",
     "text": [
      "Checkpoint saved to checkpoints/classification_experiment/checkpoint_1_3308_best.pt\n",
      "Step history saved to checkpoints/classification_experiment/step_history.json\n",
      "New best model saved with val loss: 0.1976 and val acc: 93.89%\n",
      "Checkpoint saved to checkpoints/classification_experiment/checkpoint_1_3308.pt\n",
      "Step history saved to checkpoints/classification_experiment/step_history.json\n",
      "Epoch [2/50] Train Loss: 0.2889 | Train Acc: 91.37% | Val Loss: 0.1976 | Val Acc: 93.89%\n"
     ]
    },
    {
     "name": "stderr",
     "output_type": "stream",
     "text": [
      "                                                                                                  "
     ]
    },
    {
     "name": "stdout",
     "output_type": "stream",
     "text": [
      "Checkpoint saved to checkpoints/classification_experiment/checkpoint_2_4962_best.pt\n",
      "Step history saved to checkpoints/classification_experiment/step_history.json\n",
      "New best model saved with val loss: 0.1731 and val acc: 94.48%\n",
      "Checkpoint saved to checkpoints/classification_experiment/checkpoint_2_4962.pt\n",
      "Step history saved to checkpoints/classification_experiment/step_history.json\n",
      "Epoch [3/50] Train Loss: 0.2375 | Train Acc: 92.74% | Val Loss: 0.1731 | Val Acc: 94.48%\n"
     ]
    },
    {
     "name": "stderr",
     "output_type": "stream",
     "text": [
      "                                                                                                  "
     ]
    },
    {
     "name": "stdout",
     "output_type": "stream",
     "text": [
      "Checkpoint saved to checkpoints/classification_experiment/checkpoint_3_6616_best.pt\n",
      "Step history saved to checkpoints/classification_experiment/step_history.json\n",
      "New best model saved with val loss: 0.1435 and val acc: 95.63%\n",
      "Checkpoint saved to checkpoints/classification_experiment/checkpoint_3_6616.pt\n",
      "Step history saved to checkpoints/classification_experiment/step_history.json\n",
      "Epoch [4/50] Train Loss: 0.2053 | Train Acc: 93.65% | Val Loss: 0.1435 | Val Acc: 95.63%\n"
     ]
    },
    {
     "name": "stderr",
     "output_type": "stream",
     "text": [
      "                                                                                                  "
     ]
    },
    {
     "name": "stdout",
     "output_type": "stream",
     "text": [
      "Checkpoint saved to checkpoints/classification_experiment/checkpoint_4_8270_best.pt\n",
      "Step history saved to checkpoints/classification_experiment/step_history.json\n",
      "New best model saved with val loss: 0.1307 and val acc: 95.96%\n",
      "Checkpoint saved to checkpoints/classification_experiment/checkpoint_4_8270.pt\n",
      "Step history saved to checkpoints/classification_experiment/step_history.json\n",
      "Epoch [5/50] Train Loss: 0.1836 | Train Acc: 94.39% | Val Loss: 0.1307 | Val Acc: 95.96%\n"
     ]
    },
    {
     "name": "stderr",
     "output_type": "stream",
     "text": [
      "                                                                                                  \r"
     ]
    },
    {
     "name": "stdout",
     "output_type": "stream",
     "text": [
      "Checkpoint saved to checkpoints/classification_experiment/checkpoint_5_9924_best.pt\n",
      "Step history saved to checkpoints/classification_experiment/step_history.json\n",
      "New best model saved with val loss: 0.1306 and val acc: 95.80%\n",
      "Checkpoint saved to checkpoints/classification_experiment/checkpoint_5_9924.pt\n",
      "Step history saved to checkpoints/classification_experiment/step_history.json\n",
      "Epoch [6/50] Train Loss: 0.1702 | Train Acc: 94.75% | Val Loss: 0.1306 | Val Acc: 95.80%\n"
     ]
    },
    {
     "name": "stderr",
     "output_type": "stream",
     "text": [
      "                                                                                                  "
     ]
    },
    {
     "name": "stdout",
     "output_type": "stream",
     "text": [
      "Checkpoint saved to checkpoints/classification_experiment/checkpoint_6_11578_best.pt\n",
      "Step history saved to checkpoints/classification_experiment/step_history.json\n",
      "New best model saved with val loss: 0.1036 and val acc: 96.77%\n",
      "Checkpoint saved to checkpoints/classification_experiment/checkpoint_6_11578.pt\n",
      "Step history saved to checkpoints/classification_experiment/step_history.json\n",
      "Epoch [7/50] Train Loss: 0.1552 | Train Acc: 95.18% | Val Loss: 0.1036 | Val Acc: 96.77%\n"
     ]
    },
    {
     "name": "stderr",
     "output_type": "stream",
     "text": [
      "                                                                                                  \r"
     ]
    },
    {
     "name": "stdout",
     "output_type": "stream",
     "text": [
      "Checkpoint saved to checkpoints/classification_experiment/checkpoint_7_13232_best.pt\n",
      "Step history saved to checkpoints/classification_experiment/step_history.json\n",
      "New best model saved with val loss: 0.0958 and val acc: 97.10%\n",
      "Checkpoint saved to checkpoints/classification_experiment/checkpoint_7_13232.pt\n",
      "Step history saved to checkpoints/classification_experiment/step_history.json\n",
      "Epoch [8/50] Train Loss: 0.1443 | Train Acc: 95.51% | Val Loss: 0.0958 | Val Acc: 97.10%\n"
     ]
    },
    {
     "name": "stderr",
     "output_type": "stream",
     "text": [
      "                                                                                                  "
     ]
    },
    {
     "name": "stdout",
     "output_type": "stream",
     "text": [
      "Checkpoint saved to checkpoints/classification_experiment/checkpoint_8_14886_best.pt\n",
      "Step history saved to checkpoints/classification_experiment/step_history.json\n",
      "New best model saved with val loss: 0.0909 and val acc: 97.11%\n",
      "Checkpoint saved to checkpoints/classification_experiment/checkpoint_8_14886.pt\n",
      "Step history saved to checkpoints/classification_experiment/step_history.json\n",
      "Epoch [9/50] Train Loss: 0.1350 | Train Acc: 95.76% | Val Loss: 0.0909 | Val Acc: 97.11%\n"
     ]
    },
    {
     "name": "stderr",
     "output_type": "stream",
     "text": [
      "                                                                                                   \r"
     ]
    },
    {
     "name": "stdout",
     "output_type": "stream",
     "text": [
      "Checkpoint saved to checkpoints/classification_experiment/checkpoint_9_16540.pt\n",
      "Step history saved to checkpoints/classification_experiment/step_history.json\n",
      "Epoch [10/50] Train Loss: 0.1258 | Train Acc: 96.07% | Val Loss: 0.0928 | Val Acc: 96.99%\n"
     ]
    },
    {
     "name": "stderr",
     "output_type": "stream",
     "text": [
      "                                                                                                   \r"
     ]
    },
    {
     "name": "stdout",
     "output_type": "stream",
     "text": [
      "Checkpoint saved to checkpoints/classification_experiment/checkpoint_10_18194_best.pt\n",
      "Step history saved to checkpoints/classification_experiment/step_history.json\n",
      "New best model saved with val loss: 0.0759 and val acc: 97.73%\n",
      "Checkpoint saved to checkpoints/classification_experiment/checkpoint_10_18194.pt\n",
      "Step history saved to checkpoints/classification_experiment/step_history.json\n",
      "Epoch [11/50] Train Loss: 0.1193 | Train Acc: 96.24% | Val Loss: 0.0759 | Val Acc: 97.73%\n"
     ]
    },
    {
     "name": "stderr",
     "output_type": "stream",
     "text": [
      "                                                                                                   \r"
     ]
    },
    {
     "name": "stdout",
     "output_type": "stream",
     "text": [
      "Checkpoint saved to checkpoints/classification_experiment/checkpoint_11_19848_best.pt\n",
      "Step history saved to checkpoints/classification_experiment/step_history.json\n",
      "New best model saved with val loss: 0.0749 and val acc: 97.74%\n",
      "Checkpoint saved to checkpoints/classification_experiment/checkpoint_11_19848.pt\n",
      "Step history saved to checkpoints/classification_experiment/step_history.json\n",
      "Epoch [12/50] Train Loss: 0.1109 | Train Acc: 96.54% | Val Loss: 0.0749 | Val Acc: 97.74%\n"
     ]
    },
    {
     "name": "stderr",
     "output_type": "stream",
     "text": [
      "                                                                                                   \r"
     ]
    },
    {
     "name": "stdout",
     "output_type": "stream",
     "text": [
      "Checkpoint saved to checkpoints/classification_experiment/checkpoint_12_21502_best.pt\n",
      "Step history saved to checkpoints/classification_experiment/step_history.json\n",
      "New best model saved with val loss: 0.0728 and val acc: 97.72%\n",
      "Checkpoint saved to checkpoints/classification_experiment/checkpoint_12_21502.pt\n",
      "Step history saved to checkpoints/classification_experiment/step_history.json\n",
      "Epoch [13/50] Train Loss: 0.1073 | Train Acc: 96.57% | Val Loss: 0.0728 | Val Acc: 97.72%\n"
     ]
    },
    {
     "name": "stderr",
     "output_type": "stream",
     "text": [
      "                                                                                                   \r"
     ]
    },
    {
     "name": "stdout",
     "output_type": "stream",
     "text": [
      "Checkpoint saved to checkpoints/classification_experiment/checkpoint_13_23156_best.pt\n",
      "Step history saved to checkpoints/classification_experiment/step_history.json\n",
      "New best model saved with val loss: 0.0610 and val acc: 98.25%\n",
      "Checkpoint saved to checkpoints/classification_experiment/checkpoint_13_23156.pt\n",
      "Step history saved to checkpoints/classification_experiment/step_history.json\n",
      "Epoch [14/50] Train Loss: 0.1005 | Train Acc: 96.79% | Val Loss: 0.0610 | Val Acc: 98.25%\n"
     ]
    },
    {
     "name": "stderr",
     "output_type": "stream",
     "text": [
      "                                                                                                   \r"
     ]
    },
    {
     "name": "stdout",
     "output_type": "stream",
     "text": [
      "Checkpoint saved to checkpoints/classification_experiment/checkpoint_14_24810_best.pt\n",
      "Step history saved to checkpoints/classification_experiment/step_history.json\n",
      "New best model saved with val loss: 0.0555 and val acc: 98.23%\n",
      "Checkpoint saved to checkpoints/classification_experiment/checkpoint_14_24810.pt\n",
      "Step history saved to checkpoints/classification_experiment/step_history.json\n",
      "Epoch [15/50] Train Loss: 0.0950 | Train Acc: 97.00% | Val Loss: 0.0555 | Val Acc: 98.23%\n"
     ]
    },
    {
     "name": "stderr",
     "output_type": "stream",
     "text": [
      "                                                                                                   "
     ]
    },
    {
     "name": "stdout",
     "output_type": "stream",
     "text": [
      "Checkpoint saved to checkpoints/classification_experiment/checkpoint_15_26464.pt\n",
      "Step history saved to checkpoints/classification_experiment/step_history.json\n",
      "Epoch [16/50] Train Loss: 0.0903 | Train Acc: 97.08% | Val Loss: 0.0563 | Val Acc: 98.15%\n"
     ]
    },
    {
     "name": "stderr",
     "output_type": "stream",
     "text": [
      "                                                                                                   "
     ]
    },
    {
     "name": "stdout",
     "output_type": "stream",
     "text": [
      "Checkpoint saved to checkpoints/classification_experiment/checkpoint_16_28118.pt\n",
      "Step history saved to checkpoints/classification_experiment/step_history.json\n",
      "Epoch [17/50] Train Loss: 0.0877 | Train Acc: 97.18% | Val Loss: 0.0579 | Val Acc: 98.05%\n"
     ]
    },
    {
     "name": "stderr",
     "output_type": "stream",
     "text": [
      "                                                                                                   \r"
     ]
    },
    {
     "name": "stdout",
     "output_type": "stream",
     "text": [
      "Checkpoint saved to checkpoints/classification_experiment/checkpoint_17_29772_best.pt\n",
      "Step history saved to checkpoints/classification_experiment/step_history.json\n",
      "New best model saved with val loss: 0.0524 and val acc: 98.30%\n",
      "Checkpoint saved to checkpoints/classification_experiment/checkpoint_17_29772.pt\n",
      "Step history saved to checkpoints/classification_experiment/step_history.json\n",
      "Epoch [18/50] Train Loss: 0.0838 | Train Acc: 97.30% | Val Loss: 0.0524 | Val Acc: 98.30%\n"
     ]
    },
    {
     "name": "stderr",
     "output_type": "stream",
     "text": [
      "                                                                                                   \r"
     ]
    },
    {
     "name": "stdout",
     "output_type": "stream",
     "text": [
      "Checkpoint saved to checkpoints/classification_experiment/checkpoint_18_31426_best.pt\n",
      "Step history saved to checkpoints/classification_experiment/step_history.json\n",
      "New best model saved with val loss: 0.0507 and val acc: 98.45%\n",
      "Checkpoint saved to checkpoints/classification_experiment/checkpoint_18_31426.pt\n",
      "Step history saved to checkpoints/classification_experiment/step_history.json\n",
      "Epoch [19/50] Train Loss: 0.0789 | Train Acc: 97.45% | Val Loss: 0.0507 | Val Acc: 98.45%\n"
     ]
    },
    {
     "name": "stderr",
     "output_type": "stream",
     "text": [
      "                                                                                                   \r"
     ]
    },
    {
     "name": "stdout",
     "output_type": "stream",
     "text": [
      "Checkpoint saved to checkpoints/classification_experiment/checkpoint_19_33080_best.pt\n",
      "Step history saved to checkpoints/classification_experiment/step_history.json\n",
      "New best model saved with val loss: 0.0462 and val acc: 98.45%\n",
      "Checkpoint saved to checkpoints/classification_experiment/checkpoint_19_33080.pt\n",
      "Step history saved to checkpoints/classification_experiment/step_history.json\n",
      "Epoch [20/50] Train Loss: 0.0784 | Train Acc: 97.48% | Val Loss: 0.0462 | Val Acc: 98.45%\n"
     ]
    },
    {
     "name": "stderr",
     "output_type": "stream",
     "text": [
      "                                                                                                   \r"
     ]
    },
    {
     "name": "stdout",
     "output_type": "stream",
     "text": [
      "Checkpoint saved to checkpoints/classification_experiment/checkpoint_20_34734_best.pt\n",
      "Step history saved to checkpoints/classification_experiment/step_history.json\n",
      "New best model saved with val loss: 0.0429 and val acc: 98.60%\n",
      "Checkpoint saved to checkpoints/classification_experiment/checkpoint_20_34734.pt\n",
      "Step history saved to checkpoints/classification_experiment/step_history.json\n",
      "Epoch [21/50] Train Loss: 0.0739 | Train Acc: 97.60% | Val Loss: 0.0429 | Val Acc: 98.60%\n"
     ]
    },
    {
     "name": "stderr",
     "output_type": "stream",
     "text": [
      "                                                                                                   \r"
     ]
    },
    {
     "name": "stdout",
     "output_type": "stream",
     "text": [
      "Checkpoint saved to checkpoints/classification_experiment/checkpoint_21_36388_best.pt\n",
      "Step history saved to checkpoints/classification_experiment/step_history.json\n",
      "New best model saved with val loss: 0.0402 and val acc: 98.83%\n",
      "Checkpoint saved to checkpoints/classification_experiment/checkpoint_21_36388.pt\n",
      "Step history saved to checkpoints/classification_experiment/step_history.json\n",
      "Epoch [22/50] Train Loss: 0.0723 | Train Acc: 97.69% | Val Loss: 0.0402 | Val Acc: 98.83%\n"
     ]
    },
    {
     "name": "stderr",
     "output_type": "stream",
     "text": [
      "                                                                                                   \r"
     ]
    },
    {
     "name": "stdout",
     "output_type": "stream",
     "text": [
      "Checkpoint saved to checkpoints/classification_experiment/checkpoint_22_38042.pt\n",
      "Step history saved to checkpoints/classification_experiment/step_history.json\n",
      "Epoch [23/50] Train Loss: 0.0693 | Train Acc: 97.80% | Val Loss: 0.0431 | Val Acc: 98.61%\n"
     ]
    },
    {
     "name": "stderr",
     "output_type": "stream",
     "text": [
      "                                                                                                   \r"
     ]
    },
    {
     "name": "stdout",
     "output_type": "stream",
     "text": [
      "Checkpoint saved to checkpoints/classification_experiment/checkpoint_23_39696_best.pt\n",
      "Step history saved to checkpoints/classification_experiment/step_history.json\n",
      "New best model saved with val loss: 0.0396 and val acc: 98.72%\n",
      "Checkpoint saved to checkpoints/classification_experiment/checkpoint_23_39696.pt\n",
      "Step history saved to checkpoints/classification_experiment/step_history.json\n",
      "Epoch [24/50] Train Loss: 0.0685 | Train Acc: 97.79% | Val Loss: 0.0396 | Val Acc: 98.72%\n"
     ]
    },
    {
     "name": "stderr",
     "output_type": "stream",
     "text": [
      "                                                                                                   \r"
     ]
    },
    {
     "name": "stdout",
     "output_type": "stream",
     "text": [
      "Checkpoint saved to checkpoints/classification_experiment/checkpoint_24_41350_best.pt\n",
      "Step history saved to checkpoints/classification_experiment/step_history.json\n",
      "New best model saved with val loss: 0.0380 and val acc: 98.78%\n",
      "Checkpoint saved to checkpoints/classification_experiment/checkpoint_24_41350.pt\n",
      "Step history saved to checkpoints/classification_experiment/step_history.json\n",
      "Epoch [25/50] Train Loss: 0.0659 | Train Acc: 97.88% | Val Loss: 0.0380 | Val Acc: 98.78%\n"
     ]
    },
    {
     "name": "stderr",
     "output_type": "stream",
     "text": [
      "                                                                                                   \r"
     ]
    },
    {
     "name": "stdout",
     "output_type": "stream",
     "text": [
      "Checkpoint saved to checkpoints/classification_experiment/checkpoint_25_43004_best.pt\n",
      "Step history saved to checkpoints/classification_experiment/step_history.json\n",
      "New best model saved with val loss: 0.0365 and val acc: 98.85%\n",
      "Checkpoint saved to checkpoints/classification_experiment/checkpoint_25_43004.pt\n",
      "Step history saved to checkpoints/classification_experiment/step_history.json\n",
      "Epoch [26/50] Train Loss: 0.0625 | Train Acc: 97.99% | Val Loss: 0.0365 | Val Acc: 98.85%\n"
     ]
    },
    {
     "name": "stderr",
     "output_type": "stream",
     "text": [
      "                                                                                                   \r"
     ]
    },
    {
     "name": "stdout",
     "output_type": "stream",
     "text": [
      "Checkpoint saved to checkpoints/classification_experiment/checkpoint_26_44658.pt\n",
      "Step history saved to checkpoints/classification_experiment/step_history.json\n",
      "Epoch [27/50] Train Loss: 0.0628 | Train Acc: 97.98% | Val Loss: 0.0395 | Val Acc: 98.76%\n"
     ]
    },
    {
     "name": "stderr",
     "output_type": "stream",
     "text": [
      "                                                                                                   \r"
     ]
    },
    {
     "name": "stdout",
     "output_type": "stream",
     "text": [
      "Checkpoint saved to checkpoints/classification_experiment/checkpoint_27_46312_best.pt\n",
      "Step history saved to checkpoints/classification_experiment/step_history.json\n",
      "New best model saved with val loss: 0.0327 and val acc: 98.91%\n",
      "Checkpoint saved to checkpoints/classification_experiment/checkpoint_27_46312.pt\n",
      "Step history saved to checkpoints/classification_experiment/step_history.json\n",
      "Epoch [28/50] Train Loss: 0.0607 | Train Acc: 98.08% | Val Loss: 0.0327 | Val Acc: 98.91%\n"
     ]
    },
    {
     "name": "stderr",
     "output_type": "stream",
     "text": [
      "                                                                                                   \r"
     ]
    },
    {
     "name": "stdout",
     "output_type": "stream",
     "text": [
      "Checkpoint saved to checkpoints/classification_experiment/checkpoint_28_47966_best.pt\n",
      "Step history saved to checkpoints/classification_experiment/step_history.json\n",
      "New best model saved with val loss: 0.0282 and val acc: 99.14%\n",
      "Checkpoint saved to checkpoints/classification_experiment/checkpoint_28_47966.pt\n",
      "Step history saved to checkpoints/classification_experiment/step_history.json\n",
      "Epoch [29/50] Train Loss: 0.0573 | Train Acc: 98.20% | Val Loss: 0.0282 | Val Acc: 99.14%\n"
     ]
    },
    {
     "name": "stderr",
     "output_type": "stream",
     "text": [
      "                                                                                                   \r"
     ]
    },
    {
     "name": "stdout",
     "output_type": "stream",
     "text": [
      "Checkpoint saved to checkpoints/classification_experiment/checkpoint_29_49620.pt\n",
      "Step history saved to checkpoints/classification_experiment/step_history.json\n",
      "Epoch [30/50] Train Loss: 0.0577 | Train Acc: 98.15% | Val Loss: 0.0339 | Val Acc: 98.91%\n"
     ]
    },
    {
     "name": "stderr",
     "output_type": "stream",
     "text": [
      "                                                                                                   \r"
     ]
    },
    {
     "name": "stdout",
     "output_type": "stream",
     "text": [
      "Checkpoint saved to checkpoints/classification_experiment/checkpoint_30_51274.pt\n",
      "Step history saved to checkpoints/classification_experiment/step_history.json\n",
      "Epoch [31/50] Train Loss: 0.0545 | Train Acc: 98.27% | Val Loss: 0.0313 | Val Acc: 98.99%\n"
     ]
    },
    {
     "name": "stderr",
     "output_type": "stream",
     "text": [
      "                                                                                                   \r"
     ]
    },
    {
     "name": "stdout",
     "output_type": "stream",
     "text": [
      "Checkpoint saved to checkpoints/classification_experiment/checkpoint_31_52928.pt\n",
      "Step history saved to checkpoints/classification_experiment/step_history.json\n",
      "Epoch [32/50] Train Loss: 0.0510 | Train Acc: 98.38% | Val Loss: 0.0354 | Val Acc: 98.80%\n"
     ]
    },
    {
     "name": "stderr",
     "output_type": "stream",
     "text": [
      "                                                                                                   \r"
     ]
    },
    {
     "name": "stdout",
     "output_type": "stream",
     "text": [
      "Checkpoint saved to checkpoints/classification_experiment/checkpoint_32_54582.pt\n",
      "Step history saved to checkpoints/classification_experiment/step_history.json\n",
      "Epoch [33/50] Train Loss: 0.0526 | Train Acc: 98.34% | Val Loss: 0.0294 | Val Acc: 99.11%\n"
     ]
    },
    {
     "name": "stderr",
     "output_type": "stream",
     "text": [
      "                                                                                                   \r"
     ]
    },
    {
     "name": "stdout",
     "output_type": "stream",
     "text": [
      "Checkpoint saved to checkpoints/classification_experiment/checkpoint_33_56236.pt\n",
      "Step history saved to checkpoints/classification_experiment/step_history.json\n",
      "Epoch [34/50] Train Loss: 0.0496 | Train Acc: 98.40% | Val Loss: 0.0316 | Val Acc: 99.07%\n"
     ]
    },
    {
     "name": "stderr",
     "output_type": "stream",
     "text": [
      "                                                                                                   \r"
     ]
    },
    {
     "name": "stdout",
     "output_type": "stream",
     "text": [
      "Checkpoint saved to checkpoints/classification_experiment/checkpoint_34_57890.pt\n",
      "Step history saved to checkpoints/classification_experiment/step_history.json\n",
      "Epoch [35/50] Train Loss: 0.0515 | Train Acc: 98.35% | Val Loss: 0.0282 | Val Acc: 99.18%\n"
     ]
    },
    {
     "name": "stderr",
     "output_type": "stream",
     "text": [
      "                                                                                                   \r"
     ]
    },
    {
     "name": "stdout",
     "output_type": "stream",
     "text": [
      "Checkpoint saved to checkpoints/classification_experiment/checkpoint_35_59544_best.pt\n",
      "Step history saved to checkpoints/classification_experiment/step_history.json\n",
      "New best model saved with val loss: 0.0135 and val acc: 99.73%\n",
      "Checkpoint saved to checkpoints/classification_experiment/checkpoint_35_59544.pt\n",
      "Step history saved to checkpoints/classification_experiment/step_history.json\n",
      "Epoch [36/50] Train Loss: 0.0319 | Train Acc: 99.09% | Val Loss: 0.0135 | Val Acc: 99.73%\n"
     ]
    },
    {
     "name": "stderr",
     "output_type": "stream",
     "text": [
      "                                                                                                   \r"
     ]
    },
    {
     "name": "stdout",
     "output_type": "stream",
     "text": [
      "Checkpoint saved to checkpoints/classification_experiment/checkpoint_36_61198_best.pt\n",
      "Step history saved to checkpoints/classification_experiment/step_history.json\n",
      "New best model saved with val loss: 0.0134 and val acc: 99.66%\n",
      "Checkpoint saved to checkpoints/classification_experiment/checkpoint_36_61198.pt\n",
      "Step history saved to checkpoints/classification_experiment/step_history.json\n",
      "Epoch [37/50] Train Loss: 0.0279 | Train Acc: 99.21% | Val Loss: 0.0134 | Val Acc: 99.66%\n"
     ]
    },
    {
     "name": "stderr",
     "output_type": "stream",
     "text": [
      "                                                                                                   \r"
     ]
    },
    {
     "name": "stdout",
     "output_type": "stream",
     "text": [
      "Checkpoint saved to checkpoints/classification_experiment/checkpoint_37_62852_best.pt\n",
      "Step history saved to checkpoints/classification_experiment/step_history.json\n",
      "New best model saved with val loss: 0.0119 and val acc: 99.71%\n",
      "Checkpoint saved to checkpoints/classification_experiment/checkpoint_37_62852.pt\n",
      "Step history saved to checkpoints/classification_experiment/step_history.json\n",
      "Epoch [38/50] Train Loss: 0.0259 | Train Acc: 99.28% | Val Loss: 0.0119 | Val Acc: 99.71%\n"
     ]
    },
    {
     "name": "stderr",
     "output_type": "stream",
     "text": [
      "                                                                                                   \r"
     ]
    },
    {
     "name": "stdout",
     "output_type": "stream",
     "text": [
      "Checkpoint saved to checkpoints/classification_experiment/checkpoint_38_64506_best.pt\n",
      "Step history saved to checkpoints/classification_experiment/step_history.json\n",
      "New best model saved with val loss: 0.0114 and val acc: 99.73%\n",
      "Checkpoint saved to checkpoints/classification_experiment/checkpoint_38_64506.pt\n",
      "Step history saved to checkpoints/classification_experiment/step_history.json\n",
      "Epoch [39/50] Train Loss: 0.0256 | Train Acc: 99.29% | Val Loss: 0.0114 | Val Acc: 99.73%\n"
     ]
    },
    {
     "name": "stderr",
     "output_type": "stream",
     "text": [
      "                                                                                                   \r"
     ]
    },
    {
     "name": "stdout",
     "output_type": "stream",
     "text": [
      "Checkpoint saved to checkpoints/classification_experiment/checkpoint_39_66160_best.pt\n",
      "Step history saved to checkpoints/classification_experiment/step_history.json\n",
      "New best model saved with val loss: 0.0106 and val acc: 99.73%\n",
      "Checkpoint saved to checkpoints/classification_experiment/checkpoint_39_66160.pt\n",
      "Step history saved to checkpoints/classification_experiment/step_history.json\n",
      "Epoch [40/50] Train Loss: 0.0241 | Train Acc: 99.31% | Val Loss: 0.0106 | Val Acc: 99.73%\n"
     ]
    },
    {
     "name": "stderr",
     "output_type": "stream",
     "text": [
      "                                                                                                   \r"
     ]
    },
    {
     "name": "stdout",
     "output_type": "stream",
     "text": [
      "Checkpoint saved to checkpoints/classification_experiment/checkpoint_40_67814_best.pt\n",
      "Step history saved to checkpoints/classification_experiment/step_history.json\n",
      "New best model saved with val loss: 0.0100 and val acc: 99.76%\n",
      "Checkpoint saved to checkpoints/classification_experiment/checkpoint_40_67814.pt\n",
      "Step history saved to checkpoints/classification_experiment/step_history.json\n",
      "Epoch [41/50] Train Loss: 0.0237 | Train Acc: 99.28% | Val Loss: 0.0100 | Val Acc: 99.76%\n"
     ]
    },
    {
     "name": "stderr",
     "output_type": "stream",
     "text": [
      "                                                                                                   \r"
     ]
    },
    {
     "name": "stdout",
     "output_type": "stream",
     "text": [
      "Checkpoint saved to checkpoints/classification_experiment/checkpoint_41_69468_best.pt\n",
      "Step history saved to checkpoints/classification_experiment/step_history.json\n",
      "New best model saved with val loss: 0.0084 and val acc: 99.80%\n",
      "Checkpoint saved to checkpoints/classification_experiment/checkpoint_41_69468.pt\n",
      "Step history saved to checkpoints/classification_experiment/step_history.json\n",
      "Epoch [42/50] Train Loss: 0.0225 | Train Acc: 99.34% | Val Loss: 0.0084 | Val Acc: 99.80%\n"
     ]
    },
    {
     "name": "stderr",
     "output_type": "stream",
     "text": [
      "                                                                                                   \r"
     ]
    },
    {
     "name": "stdout",
     "output_type": "stream",
     "text": [
      "Checkpoint saved to checkpoints/classification_experiment/checkpoint_42_71122.pt\n",
      "Step history saved to checkpoints/classification_experiment/step_history.json\n",
      "Epoch [43/50] Train Loss: 0.0211 | Train Acc: 99.36% | Val Loss: 0.0100 | Val Acc: 99.75%\n"
     ]
    },
    {
     "name": "stderr",
     "output_type": "stream",
     "text": [
      "                                                                                                   \r"
     ]
    },
    {
     "name": "stdout",
     "output_type": "stream",
     "text": [
      "Checkpoint saved to checkpoints/classification_experiment/checkpoint_43_72776_best.pt\n",
      "Step history saved to checkpoints/classification_experiment/step_history.json\n",
      "New best model saved with val loss: 0.0080 and val acc: 99.77%\n",
      "Checkpoint saved to checkpoints/classification_experiment/checkpoint_43_72776.pt\n",
      "Step history saved to checkpoints/classification_experiment/step_history.json\n",
      "Epoch [44/50] Train Loss: 0.0218 | Train Acc: 99.34% | Val Loss: 0.0080 | Val Acc: 99.77%\n"
     ]
    },
    {
     "name": "stderr",
     "output_type": "stream",
     "text": [
      "                                                                                                   \r"
     ]
    },
    {
     "name": "stdout",
     "output_type": "stream",
     "text": [
      "Checkpoint saved to checkpoints/classification_experiment/checkpoint_44_74430.pt\n",
      "Step history saved to checkpoints/classification_experiment/step_history.json\n",
      "Epoch [45/50] Train Loss: 0.0206 | Train Acc: 99.36% | Val Loss: 0.0102 | Val Acc: 99.71%\n"
     ]
    },
    {
     "name": "stderr",
     "output_type": "stream",
     "text": [
      "                                                                                                   \r"
     ]
    },
    {
     "name": "stdout",
     "output_type": "stream",
     "text": [
      "Checkpoint saved to checkpoints/classification_experiment/checkpoint_45_76084.pt\n",
      "Step history saved to checkpoints/classification_experiment/step_history.json\n",
      "Epoch [46/50] Train Loss: 0.0199 | Train Acc: 99.42% | Val Loss: 0.0097 | Val Acc: 99.75%\n"
     ]
    },
    {
     "name": "stderr",
     "output_type": "stream",
     "text": [
      "                                                                                                   \r"
     ]
    },
    {
     "name": "stdout",
     "output_type": "stream",
     "text": [
      "Checkpoint saved to checkpoints/classification_experiment/checkpoint_46_77738_best.pt\n",
      "Step history saved to checkpoints/classification_experiment/step_history.json\n",
      "New best model saved with val loss: 0.0072 and val acc: 99.80%\n",
      "Checkpoint saved to checkpoints/classification_experiment/checkpoint_46_77738.pt\n",
      "Step history saved to checkpoints/classification_experiment/step_history.json\n",
      "Epoch [47/50] Train Loss: 0.0191 | Train Acc: 99.44% | Val Loss: 0.0072 | Val Acc: 99.80%\n"
     ]
    },
    {
     "name": "stderr",
     "output_type": "stream",
     "text": [
      "                                                                                                   \r"
     ]
    },
    {
     "name": "stdout",
     "output_type": "stream",
     "text": [
      "Checkpoint saved to checkpoints/classification_experiment/checkpoint_47_79392_best.pt\n",
      "Step history saved to checkpoints/classification_experiment/step_history.json\n",
      "New best model saved with val loss: 0.0068 and val acc: 99.85%\n",
      "Checkpoint saved to checkpoints/classification_experiment/checkpoint_47_79392.pt\n",
      "Step history saved to checkpoints/classification_experiment/step_history.json\n",
      "Epoch [48/50] Train Loss: 0.0187 | Train Acc: 99.46% | Val Loss: 0.0068 | Val Acc: 99.85%\n"
     ]
    },
    {
     "name": "stderr",
     "output_type": "stream",
     "text": [
      "                                                                                                   \r"
     ]
    },
    {
     "name": "stdout",
     "output_type": "stream",
     "text": [
      "Checkpoint saved to checkpoints/classification_experiment/checkpoint_48_81046.pt\n",
      "Step history saved to checkpoints/classification_experiment/step_history.json\n",
      "Epoch [49/50] Train Loss: 0.0184 | Train Acc: 99.45% | Val Loss: 0.0070 | Val Acc: 99.81%\n"
     ]
    },
    {
     "name": "stderr",
     "output_type": "stream",
     "text": [
      "                                                                                                   \r"
     ]
    },
    {
     "name": "stdout",
     "output_type": "stream",
     "text": [
      "Checkpoint saved to checkpoints/classification_experiment/checkpoint_49_82700_best.pt\n",
      "Step history saved to checkpoints/classification_experiment/step_history.json\n",
      "New best model saved with val loss: 0.0057 and val acc: 99.85%\n",
      "Checkpoint saved to checkpoints/classification_experiment/checkpoint_49_82700.pt\n",
      "Step history saved to checkpoints/classification_experiment/step_history.json\n",
      "Epoch [50/50] Train Loss: 0.0182 | Train Acc: 99.47% | Val Loss: 0.0057 | Val Acc: 99.85%\n"
     ]
    },
    {
     "data": {
      "image/png": "[encoded data removed]",
      "text/plain": [
       "<Figure size 1000x600 with 1 Axes>"
      ]
     },
     "metadata": {},
     "output_type": "display_data"
    },
    {
     "data": {
      "image/png": "[encoded data removed]",
      "text/plain": [
       "<Figure size 1000x600 with 1 Axes>"
      ]
     },
     "metadata": {},
     "output_type": "display_data"
    }
   ],
   "source": [
    "import json\n",
    "import numpy as np\n",
    "import matplotlib.pyplot as plt\n",
    "import torch\n",
    "import torch.optim as optim\n",
    "from training_utils import run_training_classification\n",
    "\n",
    "# Configuration\n",
    "experiment_name = \"classification_experiment\"\n",
    "num_epochs = 50\n",
    "batch_size = 64\n",
    "learning_rate = 0.001\n",
    "device = torch.device(\"cuda\" if torch.cuda.is_available() else \"cpu\")\n",
    "\n",
    "# Initialize the model\n",
    "model = EncDecClassificationModel(num_classes=num_classes, sample_rate=16000)\n",
    "\n",
    "# Run training using the new classification training pipeline with checkpoint_frequency.\n",
    "# To save every 50 steps, set checkpoint_frequency=50.\n",
    "# To save only at the end of each epoch, set checkpoint_frequency=None.\n",
    "train_losses, train_accuracies, val_losses, val_accuracies, step_history = run_training_classification(\n",
    "    model=model,\n",
    "    train_dataset=train_dataset,\n",
    "    val_dataset=val_dataset,\n",
    "    optimizer_class=optim.Adam,\n",
    "    optimizer_params={'lr': learning_rate},\n",
    "    scheduler_class=optim.lr_scheduler.ReduceLROnPlateau,  # use a scheduler if needed\n",
    "    scheduler_params={'mode': 'min', 'factor': 0.5, 'patience': 5},\n",
    "    num_epochs=num_epochs,\n",
    "    device=device,\n",
    "    batch_size=batch_size,\n",
    "    num_workers=4,\n",
    "    resume_training=False,\n",
    "    experiment_name=experiment_name,\n",
    "    checkpoint_frequency=None  # set to None to save only once per epoch\n",
    ")\n",
    "\n",
    "# Optionally, save the training history to a JSON file (including step-level details)\n",
    "history = {\n",
    "    \"train_losses\": train_losses,\n",
    "    \"val_losses\": val_losses,\n",
    "    \"train_accuracies\": train_accuracies,\n",
    "    \"val_accuracies\": val_accuracies,\n",
    "    \"step_history\": step_history\n",
    "}\n",
    "with open(f\"checkpoints/{experiment_name}/training_history.json\", \"w\") as f:\n",
    "    json.dump(history, f, indent=4)\n",
    "\n",
    "# --- Plotting the Metrics ---\n",
    "\n",
    "# Plot loss curves (per epoch)\n",
    "epochs = range(1, num_epochs + 1)\n",
    "plt.figure(figsize=(10, 6))\n",
    "plt.plot(epochs, train_losses, label='Train Loss', color='blue', marker='o')\n",
    "plt.plot(epochs, val_losses, label='Val Loss', color='red', marker='o')\n",
    "plt.xlabel('Epoch')\n",
    "plt.ylabel('Loss')\n",
    "plt.title(f'Training and Validation Loss (Epochs: {num_epochs})')\n",
    "plt.legend()\n",
    "plt.grid(True)\n",
    "plt.tight_layout()\n",
    "plt.show()\n",
    "\n",
    "# Plot accuracy curves (per epoch)\n",
    "plt.figure(figsize=(10, 6))\n",
    "plt.plot(epochs, train_accuracies, label='Train Accuracy', color='green', marker='o')\n",
    "plt.plot(epochs, val_accuracies, label='Val Accuracy', color='orange', marker='o')\n",
    "plt.xlabel('Epoch')\n",
    "plt.ylabel('Accuracy (%)')\n",
    "plt.title(f'Training and Validation Accuracy (Epochs: {num_epochs})')\n",
    "plt.legend()\n",
    "plt.grid(True)\n",
    "plt.tight_layout()\n",
    "plt.show()\n"
   ]
  }
 ],
 "metadata": {
  "kernelspec": {
   "display_name": "Python 3",
   "language": "python",
   "name": "python3"
  },
  "language_info": {
   "codemirror_mode": {
    "name": "ipython",
    "version": 3
   },
   "file_extension": ".py",
   "mimetype": "text/x-python",
   "name": "python",
   "nbconvert_exporter": "python",
   "pygments_lexer": "ipython3",
   "version": "3.12.4"
  }
 },
 "nbformat": 4,
 "nbformat_minor": 2
}
