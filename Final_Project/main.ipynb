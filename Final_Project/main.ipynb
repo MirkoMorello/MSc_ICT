{
 "cells": [
  {
   "cell_type": "markdown",
   "metadata": {},
   "source": [
    "# Playground"
   ]
  },
  {
   "cell_type": "markdown",
   "metadata": {},
   "source": [
    "----"
   ]
  },
  {
   "cell_type": "markdown",
   "metadata": {},
   "source": [
    "## Wake Word Detection testing"
   ]
  },
  {
   "cell_type": "code",
   "execution_count": 1,
   "metadata": {},
   "outputs": [
    {
     "name": "stderr",
     "output_type": "stream",
     "text": [
      "2025-02-12 17:12:48.093639: E external/local_xla/xla/stream_executor/cuda/cuda_fft.cc:477] Unable to register cuFFT factory: Attempting to register factory for plugin cuFFT when one has already been registered\n",
      "WARNING: All log messages before absl::InitializeLog() is called are written to STDERR\n",
      "E0000 00:00:1739376768.132483    8611 cuda_dnn.cc:8310] Unable to register cuDNN factory: Attempting to register factory for plugin cuDNN when one has already been registered\n",
      "E0000 00:00:1739376768.143608    8611 cuda_blas.cc:1418] Unable to register cuBLAS factory: Attempting to register factory for plugin cuBLAS when one has already been registered\n",
      "2025-02-12 17:12:48.235027: I tensorflow/core/platform/cpu_feature_guard.cc:210] This TensorFlow binary is optimized to use available CPU instructions in performance-critical operations.\n",
      "To enable the following instructions: AVX2 FMA, in other operations, rebuild TensorFlow with the appropriate compiler flags.\n"
     ]
    }
   ],
   "source": [
    "from transformers import pipeline\n",
    "import torch\n",
    "device = \"cuda:0\" if torch.cuda.is_available() else \"mps\"\n"
   ]
  },
  {
   "cell_type": "code",
   "execution_count": 2,
   "metadata": {},
   "outputs": [
    {
     "name": "stderr",
     "output_type": "stream",
     "text": [
      "Device set to use mps\n"
     ]
    },
    {
     "data": {
      "text/plain": [
       "{0: 'backward',\n",
       " 1: 'follow',\n",
       " 2: 'five',\n",
       " 3: 'bed',\n",
       " 4: 'zero',\n",
       " 5: 'on',\n",
       " 6: 'learn',\n",
       " 7: 'two',\n",
       " 8: 'house',\n",
       " 9: 'tree',\n",
       " 10: 'dog',\n",
       " 11: 'stop',\n",
       " 12: 'seven',\n",
       " 13: 'eight',\n",
       " 14: 'down',\n",
       " 15: 'six',\n",
       " 16: 'forward',\n",
       " 17: 'cat',\n",
       " 18: 'right',\n",
       " 19: 'visual',\n",
       " 20: 'four',\n",
       " 21: 'wow',\n",
       " 22: 'no',\n",
       " 23: 'nine',\n",
       " 24: 'off',\n",
       " 25: 'three',\n",
       " 26: 'left',\n",
       " 27: 'marvin',\n",
       " 28: 'yes',\n",
       " 29: 'up',\n",
       " 30: 'sheila',\n",
       " 31: 'happy',\n",
       " 32: 'bird',\n",
       " 33: 'go',\n",
       " 34: 'one'}"
      ]
     },
     "execution_count": 2,
     "metadata": {},
     "output_type": "execute_result"
    }
   ],
   "source": [
    "classifier = pipeline(\n",
    "    \"audio-classification\", model=\"MIT/ast-finetuned-speech-commands-v2\", device=device\n",
    ")\n",
    "classifier.model.config.id2label"
   ]
  },
  {
   "cell_type": "code",
   "execution_count": 3,
   "metadata": {},
   "outputs": [
    {
     "data": {
      "text/plain": [
       "'marvin'"
      ]
     },
     "execution_count": 3,
     "metadata": {},
     "output_type": "execute_result"
    }
   ],
   "source": [
    "classifier.model.config.id2label[27]"
   ]
  },
  {
   "cell_type": "code",
   "execution_count": 4,
   "metadata": {},
   "outputs": [],
   "source": [
    "from transformers.pipelines.audio_utils import ffmpeg_microphone_live\n",
    "\n",
    "\n",
    "def launch_fn(\n",
    "    wake_word=\"marvin\",\n",
    "    prob_threshold=0.8,\n",
    "    chunk_length_s=2.0,\n",
    "    stream_chunk_s=0.25,\n",
    "    debug=False,\n",
    "):\n",
    "    if wake_word not in classifier.model.config.label2id.keys():\n",
    "        raise ValueError(\n",
    "            f\"Wake word {wake_word} not in set of valid class labels, pick a wake word in the set {classifier.model.config.label2id.keys()}.\"\n",
    "        )\n",
    "\n",
    "    sampling_rate = classifier.feature_extractor.sampling_rate\n",
    "\n",
    "    mic = ffmpeg_microphone_live(\n",
    "        sampling_rate=sampling_rate,\n",
    "        chunk_length_s=chunk_length_s,\n",
    "        stream_chunk_s=stream_chunk_s,\n",
    "    )\n",
    "\n",
    "    print(\"Listening for wake word...\")\n",
    "    for prediction in classifier(mic):\n",
    "        prediction = prediction[0]\n",
    "        if debug:\n",
    "            print(prediction)\n",
    "        if prediction[\"label\"] == wake_word:\n",
    "            if prediction[\"score\"] > prob_threshold:\n",
    "                return True"
   ]
  },
  {
   "cell_type": "code",
   "execution_count": 5,
   "metadata": {},
   "outputs": [
    {
     "name": "stdout",
     "output_type": "stream",
     "text": [
      "Listening for wake word...\n"
     ]
    },
    {
     "name": "stderr",
     "output_type": "stream",
     "text": [
      "2025-01-17 00:45:00.623 ffmpeg[1301:39420693] WARNING: Add NSCameraUseContinuityCameraDeviceType to your Info.plist to use AVCaptureDeviceTypeContinuityCamera.\n",
      "/opt/homebrew/lib/python3.11/site-packages/transformers/models/audio_spectrogram_transformer/feature_extraction_audio_spectrogram_transformer.py:118: UserWarning: The given NumPy array is not writable, and PyTorch does not support non-writable tensors. This means writing to this tensor will result in undefined behavior. You may want to copy the array to protect its data or make it writable before converting it to a tensor. This type of warning will be suppressed for the rest of this program. (Triggered internally at /Users/runner/work/pytorch/pytorch/pytorch/torch/csrc/utils/tensor_numpy.cpp:212.)\n",
      "  waveform = torch.from_numpy(waveform).unsqueeze(0)\n"
     ]
    },
    {
     "name": "stdout",
     "output_type": "stream",
     "text": [
      "{'score': 0.053641922771930695, 'label': 'one'}\n",
      "{'score': 0.30270814895629883, 'label': 'nine'}\n",
      "{'score': 0.39697304368019104, 'label': 'learn'}\n",
      "{'score': 0.4017743468284607, 'label': 'learn'}\n",
      "{'score': 0.4017743468284607, 'label': 'learn'}\n",
      "{'score': 0.4017743468284607, 'label': 'learn'}\n",
      "{'score': 0.6992917060852051, 'label': 'one'}\n",
      "{'score': 0.9686111211776733, 'label': 'one'}\n",
      "{'score': 0.9663316607475281, 'label': 'one'}\n",
      "{'score': 0.9663316607475281, 'label': 'one'}\n",
      "{'score': 0.9663316607475281, 'label': 'one'}\n",
      "{'score': 0.9663316607475281, 'label': 'one'}\n",
      "{'score': 0.8052412271499634, 'label': 'sheila'}\n",
      "{'score': 0.22134172916412354, 'label': 'stop'}\n",
      "{'score': 0.22134172916412354, 'label': 'stop'}\n",
      "{'score': 0.22134172916412354, 'label': 'stop'}\n",
      "{'score': 0.22134172916412354, 'label': 'stop'}\n",
      "{'score': 0.9599952101707458, 'label': 'marvin'}\n"
     ]
    },
    {
     "data": {
      "text/plain": [
       "True"
      ]
     },
     "execution_count": 5,
     "metadata": {},
     "output_type": "execute_result"
    }
   ],
   "source": [
    "launch_fn(debug=True)"
   ]
  },
  {
   "cell_type": "code",
   "execution_count": null,
   "metadata": {},
   "outputs": [],
   "source": []
  }
 ],
 "metadata": {
  "kernelspec": {
   "display_name": "Python 3",
   "language": "python",
   "name": "python3"
  },
  "language_info": {
   "codemirror_mode": {
    "name": "ipython",
    "version": 3
   },
   "file_extension": ".py",
   "mimetype": "text/x-python",
   "name": "python",
   "nbconvert_exporter": "python",
   "pygments_lexer": "ipython3",
   "version": "3.12.4"
  }
 },
 "nbformat": 4,
 "nbformat_minor": 2
}
