{
 "cells": [
  {
   "cell_type": "markdown",
   "metadata": {},
   "source": [
    "# Playground"
   ]
  },
  {
   "cell_type": "markdown",
   "metadata": {},
   "source": [
    "----"
   ]
  },
  {
   "cell_type": "markdown",
   "metadata": {},
   "source": [
    "## Wake Word Detection testing"
   ]
  },
  {
   "cell_type": "code",
   "execution_count": 2,
   "metadata": {},
   "outputs": [],
   "source": [
    "from transformers import pipeline\n",
    "import torch\n",
    "device = \"cuda:0\" if torch.cuda.is_available() else \"mps\"\n"
   ]
  },
  {
   "cell_type": "code",
   "execution_count": 4,
   "metadata": {},
   "outputs": [
    {
     "name": "stderr",
     "output_type": "stream",
     "text": [
      "Device set to use mps\n"
     ]
    },
    {
     "data": {
      "text/plain": [
       "{0: 'backward',\n",
       " 1: 'follow',\n",
       " 2: 'five',\n",
       " 3: 'bed',\n",
       " 4: 'zero',\n",
       " 5: 'on',\n",
       " 6: 'learn',\n",
       " 7: 'two',\n",
       " 8: 'house',\n",
       " 9: 'tree',\n",
       " 10: 'dog',\n",
       " 11: 'stop',\n",
       " 12: 'seven',\n",
       " 13: 'eight',\n",
       " 14: 'down',\n",
       " 15: 'six',\n",
       " 16: 'forward',\n",
       " 17: 'cat',\n",
       " 18: 'right',\n",
       " 19: 'visual',\n",
       " 20: 'four',\n",
       " 21: 'wow',\n",
       " 22: 'no',\n",
       " 23: 'nine',\n",
       " 24: 'off',\n",
       " 25: 'three',\n",
       " 26: 'left',\n",
       " 27: 'marvin',\n",
       " 28: 'yes',\n",
       " 29: 'up',\n",
       " 30: 'sheila',\n",
       " 31: 'happy',\n",
       " 32: 'bird',\n",
       " 33: 'go',\n",
       " 34: 'one'}"
      ]
     },
     "execution_count": 4,
     "metadata": {},
     "output_type": "execute_result"
    }
   ],
   "source": [
    "classifier = pipeline(\n",
    "    \"audio-classification\", model=\"MIT/ast-finetuned-speech-commands-v2\", device=device\n",
    ")\n",
    "classifier.model.config.id2label"
   ]
  },
  {
   "cell_type": "code",
   "execution_count": 5,
   "metadata": {},
   "outputs": [
    {
     "data": {
      "text/plain": [
       "'marvin'"
      ]
     },
     "execution_count": 5,
     "metadata": {},
     "output_type": "execute_result"
    }
   ],
   "source": [
    "classifier.model.config.id2label[27]"
   ]
  },
  {
   "cell_type": "code",
   "execution_count": 24,
   "metadata": {},
   "outputs": [],
   "source": [
    "from transformers.pipelines.audio_utils import ffmpeg_microphone_live\n",
    "\n",
    "\n",
    "def launch_fn(\n",
    "    wake_word=\"marvin\",\n",
    "    prob_threshold=0.8,\n",
    "    chunk_length_s=2.0,\n",
    "    stream_chunk_s=0.25,\n",
    "    debug=False,\n",
    "):\n",
    "    if wake_word not in classifier.model.config.label2id.keys():\n",
    "        raise ValueError(\n",
    "            f\"Wake word {wake_word} not in set of valid class labels, pick a wake word in the set {classifier.model.config.label2id.keys()}.\"\n",
    "        )\n",
    "\n",
    "    sampling_rate = classifier.feature_extractor.sampling_rate\n",
    "\n",
    "    mic = ffmpeg_microphone_live(\n",
    "        sampling_rate=sampling_rate,\n",
    "        chunk_length_s=chunk_length_s,\n",
    "        stream_chunk_s=stream_chunk_s,\n",
    "    )\n",
    "\n",
    "    print(\"Listening for wake word...\")\n",
    "    for prediction in classifier(mic):\n",
    "        prediction = prediction[0]\n",
    "        if debug:\n",
    "            print(prediction)\n",
    "        if prediction[\"label\"] == wake_word:\n",
    "            if prediction[\"score\"] > prob_threshold:\n",
    "                return True"
   ]
  },
  {
   "cell_type": "code",
   "execution_count": 25,
   "metadata": {},
   "outputs": [
    {
     "name": "stdout",
     "output_type": "stream",
     "text": [
      "Listening for wake word...\n"
     ]
    },
    {
     "name": "stderr",
     "output_type": "stream",
     "text": [
      "2025-01-16 16:03:09.444 ffmpeg[63550:38134515] WARNING: Add NSCameraUseContinuityCameraDeviceType to your Info.plist to use AVCaptureDeviceTypeContinuityCamera.\n"
     ]
    },
    {
     "name": "stdout",
     "output_type": "stream",
     "text": [
      "{'score': 0.050247229635715485, 'label': 'no'}\n",
      "{'score': 0.059809740632772446, 'label': 'no'}\n",
      "{'score': 0.09184109419584274, 'label': 'off'}\n",
      "{'score': 0.1321328729391098, 'label': 'off'}\n",
      "{'score': 0.14427167177200317, 'label': 'off'}\n",
      "{'score': 0.13177059590816498, 'label': 'off'}\n",
      "{'score': 0.13177059590816498, 'label': 'off'}\n",
      "{'score': 0.13177059590816498, 'label': 'off'}\n",
      "{'score': 0.9419751167297363, 'label': 'one'}\n",
      "{'score': 0.9330095052719116, 'label': 'one'}\n",
      "{'score': 0.9314926266670227, 'label': 'one'}\n",
      "{'score': 0.9314926266670227, 'label': 'one'}\n",
      "{'score': 0.9314926266670227, 'label': 'one'}\n",
      "{'score': 0.9314926266670227, 'label': 'one'}\n",
      "{'score': 0.5056683421134949, 'label': 'one'}\n",
      "{'score': 0.5366392731666565, 'label': 'one'}\n",
      "{'score': 0.5366392731666565, 'label': 'one'}\n",
      "{'score': 0.5366392731666565, 'label': 'one'}\n",
      "{'score': 0.5366392731666565, 'label': 'one'}\n",
      "{'score': 0.991104006767273, 'label': 'two'}\n",
      "{'score': 0.9998354911804199, 'label': 'two'}\n",
      "{'score': 0.9998797178268433, 'label': 'two'}\n",
      "{'score': 0.9998797178268433, 'label': 'two'}\n",
      "{'score': 0.9998797178268433, 'label': 'two'}\n",
      "{'score': 0.9998797178268433, 'label': 'two'}\n",
      "{'score': 0.9999713897705078, 'label': 'two'}\n",
      "{'score': 0.999942421913147, 'label': 'two'}\n",
      "{'score': 0.999942421913147, 'label': 'two'}\n",
      "{'score': 0.999942421913147, 'label': 'two'}\n",
      "{'score': 0.999942421913147, 'label': 'two'}\n",
      "{'score': 0.08798521757125854, 'label': 'up'}\n",
      "{'score': 0.8980273604393005, 'label': 'up'}\n",
      "{'score': 0.8980273604393005, 'label': 'up'}\n",
      "{'score': 0.8980273604393005, 'label': 'up'}\n",
      "{'score': 0.8980273604393005, 'label': 'up'}\n",
      "{'score': 0.6784930229187012, 'label': 'marvin'}\n",
      "{'score': 0.7529004812240601, 'label': 'marvin'}\n",
      "{'score': 0.7517672777175903, 'label': 'marvin'}\n",
      "{'score': 0.7517672777175903, 'label': 'marvin'}\n",
      "{'score': 0.7517672777175903, 'label': 'marvin'}\n",
      "{'score': 0.7517672777175903, 'label': 'marvin'}\n",
      "{'score': 0.1336609423160553, 'label': 'off'}\n",
      "{'score': 0.13237881660461426, 'label': 'off'}\n",
      "{'score': 0.13237881660461426, 'label': 'off'}\n",
      "{'score': 0.13237881660461426, 'label': 'off'}\n",
      "{'score': 0.13237881660461426, 'label': 'off'}\n",
      "{'score': 0.11353591084480286, 'label': 'off'}\n",
      "{'score': 0.08801855146884918, 'label': 'off'}\n",
      "{'score': 0.08801855146884918, 'label': 'off'}\n",
      "{'score': 0.08801855146884918, 'label': 'off'}\n",
      "{'score': 0.08801855146884918, 'label': 'off'}\n",
      "{'score': 0.9922318458557129, 'label': 'marvin'}\n"
     ]
    },
    {
     "data": {
      "text/plain": [
       "True"
      ]
     },
     "execution_count": 25,
     "metadata": {},
     "output_type": "execute_result"
    }
   ],
   "source": [
    "launch_fn(debug=True)"
   ]
  }
 ],
 "metadata": {
  "kernelspec": {
   "display_name": "Python 3",
   "language": "python",
   "name": "python3"
  },
  "language_info": {
   "codemirror_mode": {
    "name": "ipython",
    "version": 3
   },
   "file_extension": ".py",
   "mimetype": "text/x-python",
   "name": "python",
   "nbconvert_exporter": "python",
   "pygments_lexer": "ipython3",
   "version": "3.11.3"
  }
 },
 "nbformat": 4,
 "nbformat_minor": 2
}
